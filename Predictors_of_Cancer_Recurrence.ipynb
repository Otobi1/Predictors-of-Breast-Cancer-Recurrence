{
  "nbformat": 4,
  "nbformat_minor": 0,
  "metadata": {
    "colab": {
      "name": "Predictors of Cancer Recurrence",
      "provenance": [],
      "authorship_tag": "ABX9TyOuDf9R61S8l/QSFprXSOLW",
      "include_colab_link": true
    },
    "kernelspec": {
      "name": "python3",
      "display_name": "Python 3"
    },
    "language_info": {
      "name": "python"
    }
  },
  "cells": [
    {
      "cell_type": "markdown",
      "metadata": {
        "id": "view-in-github",
        "colab_type": "text"
      },
      "source": [
        "<a href=\"https://colab.research.google.com/github/Otobi1/Predictors-of-Breast-Cancer-Recurrence/blob/master/Predictors_of_Cancer_Recurrence.ipynb\" target=\"_parent\"><img src=\"https://colab.research.google.com/assets/colab-badge.svg\" alt=\"Open In Colab\"/></a>"
      ]
    },
    {
      "cell_type": "code",
      "metadata": {
        "id": "lrq1F4oQ4zEO",
        "colab": {
          "base_uri": "https://localhost:8080/"
        },
        "outputId": "efd54c58-b67b-459e-896f-641964ce746e"
      },
      "source": [
        "# Importing the necessary libraries \n",
        "\n",
        "import numpy as np\n",
        "import pandas as pd\n",
        "import matplotlib.pyplot as plt\n",
        "from pandas.plotting import scatter_matrix\n",
        "import seaborn as sns\n",
        "import collections\n",
        "from sklearn.pipeline import Pipeline\n",
        "from sklearn.model_selection import cross_val_score, train_test_split, GridSearchCV\n",
        "from sklearn.linear_model import LogisticRegression\n",
        "from sklearn.naive_bayes import MultinomialNB, GaussianNB\n",
        "from sklearn.neighbors import KNeighborsClassifier\n",
        "from sklearn.svm import SVC\n",
        "from sklearn.ensemble import BaggingClassifier, RandomForestClassifier, ExtraTreesClassifier, GradientBoostingClassifier, AdaBoostClassifier, VotingClassifier\n",
        "from sklearn.tree import DecisionTreeClassifier\n",
        "from sklearn.metrics import confusion_matrix, classification_report, accuracy_score\n",
        "from sklearn.preprocessing import StandardScaler, MinMaxScaler, LabelBinarizer\n",
        " \n",
        "import warnings\n",
        "warnings.filterwarnings('ignore')\n",
        "\n",
        "print ('Libraries successfully imported!')"
      ],
      "execution_count": 1,
      "outputs": [
        {
          "output_type": "stream",
          "text": [
            "Libraries successfully imported!\n"
          ],
          "name": "stdout"
        }
      ]
    },
    {
      "cell_type": "code",
      "metadata": {
        "colab": {
          "base_uri": "https://localhost:8080/"
        },
        "id": "_kj750-e4j5e",
        "outputId": "bbbb1bc1-4574-4f7c-b3ac-0457b28c272a"
      },
      "source": [
        "# Downloading the data directly from the Repo - http://archive.ics.uci.edu/ml/datasets/Breast+Cancer\n",
        "\n",
        "!wget http://archive.ics.uci.edu/ml/machine-learning-databases/breast-cancer/breast-cancer.data"
      ],
      "execution_count": 2,
      "outputs": [
        {
          "output_type": "stream",
          "text": [
            "--2021-04-27 17:14:25--  http://archive.ics.uci.edu/ml/machine-learning-databases/breast-cancer/breast-cancer.data\n",
            "Resolving archive.ics.uci.edu (archive.ics.uci.edu)... 128.195.10.252\n",
            "Connecting to archive.ics.uci.edu (archive.ics.uci.edu)|128.195.10.252|:80... connected.\n",
            "HTTP request sent, awaiting response... 200 OK\n",
            "Length: 18654 (18K) [application/x-httpd-php]\n",
            "Saving to: ‘breast-cancer.data’\n",
            "\n",
            "breast-cancer.data  100%[===================>]  18.22K  --.-KB/s    in 0.03s   \n",
            "\n",
            "2021-04-27 17:14:25 (667 KB/s) - ‘breast-cancer.data’ saved [18654/18654]\n",
            "\n"
          ],
          "name": "stdout"
        }
      ]
    },
    {
      "cell_type": "code",
      "metadata": {
        "id": "pQZ5r-0o4r77"
      },
      "source": [
        "# Naming the feature columns, originally unnamed\n",
        "# The meaning of each feature is detailed here on pg 2 https://www.causeweb.org/usproc/sites/default/files/usclap/2018-1/Predictors_for_Breast_Cancer_Recurrence.pdf\n",
        "\n",
        "df = pd.read_csv('breast-cancer.data', sep=',', names=['RecClass', 'Age', 'Menopause',\n",
        "                                                       'TumorSize', 'InvNodes', 'NodeCaps',\n",
        "                                                       'DegMalig', 'Breast', 'Quadrant', 'Radiation']) \n",
        "\n",
        "# Shuffle data \n",
        "\n",
        "df = df.sample(frac = 1).reset_index(drop = True) \n",
        "\n",
        "# Make a copy of the data\n",
        "\n",
        "data = df.copy()"
      ],
      "execution_count": 3,
      "outputs": []
    },
    {
      "cell_type": "code",
      "metadata": {
        "colab": {
          "base_uri": "https://localhost:8080/",
          "height": 202
        },
        "id": "73nSVgU35F9g",
        "outputId": "feacca33-fe5d-4235-e7e5-affb3846922f"
      },
      "source": [
        "# Exploring the first few observations \n",
        "\n",
        "data.head()"
      ],
      "execution_count": 4,
      "outputs": [
        {
          "output_type": "execute_result",
          "data": {
            "text/html": [
              "<div>\n",
              "<style scoped>\n",
              "    .dataframe tbody tr th:only-of-type {\n",
              "        vertical-align: middle;\n",
              "    }\n",
              "\n",
              "    .dataframe tbody tr th {\n",
              "        vertical-align: top;\n",
              "    }\n",
              "\n",
              "    .dataframe thead th {\n",
              "        text-align: right;\n",
              "    }\n",
              "</style>\n",
              "<table border=\"1\" class=\"dataframe\">\n",
              "  <thead>\n",
              "    <tr style=\"text-align: right;\">\n",
              "      <th></th>\n",
              "      <th>RecClass</th>\n",
              "      <th>Age</th>\n",
              "      <th>Menopause</th>\n",
              "      <th>TumorSize</th>\n",
              "      <th>InvNodes</th>\n",
              "      <th>NodeCaps</th>\n",
              "      <th>DegMalig</th>\n",
              "      <th>Breast</th>\n",
              "      <th>Quadrant</th>\n",
              "      <th>Radiation</th>\n",
              "    </tr>\n",
              "  </thead>\n",
              "  <tbody>\n",
              "    <tr>\n",
              "      <th>0</th>\n",
              "      <td>no-recurrence-events</td>\n",
              "      <td>30-39</td>\n",
              "      <td>premeno</td>\n",
              "      <td>5-9</td>\n",
              "      <td>0-2</td>\n",
              "      <td>no</td>\n",
              "      <td>2</td>\n",
              "      <td>left</td>\n",
              "      <td>right_low</td>\n",
              "      <td>no</td>\n",
              "    </tr>\n",
              "    <tr>\n",
              "      <th>1</th>\n",
              "      <td>no-recurrence-events</td>\n",
              "      <td>40-49</td>\n",
              "      <td>premeno</td>\n",
              "      <td>30-34</td>\n",
              "      <td>0-2</td>\n",
              "      <td>no</td>\n",
              "      <td>2</td>\n",
              "      <td>right</td>\n",
              "      <td>right_low</td>\n",
              "      <td>no</td>\n",
              "    </tr>\n",
              "    <tr>\n",
              "      <th>2</th>\n",
              "      <td>no-recurrence-events</td>\n",
              "      <td>60-69</td>\n",
              "      <td>ge40</td>\n",
              "      <td>20-24</td>\n",
              "      <td>0-2</td>\n",
              "      <td>no</td>\n",
              "      <td>1</td>\n",
              "      <td>left</td>\n",
              "      <td>left_low</td>\n",
              "      <td>no</td>\n",
              "    </tr>\n",
              "    <tr>\n",
              "      <th>3</th>\n",
              "      <td>no-recurrence-events</td>\n",
              "      <td>40-49</td>\n",
              "      <td>ge40</td>\n",
              "      <td>25-29</td>\n",
              "      <td>0-2</td>\n",
              "      <td>no</td>\n",
              "      <td>2</td>\n",
              "      <td>left</td>\n",
              "      <td>left_low</td>\n",
              "      <td>no</td>\n",
              "    </tr>\n",
              "    <tr>\n",
              "      <th>4</th>\n",
              "      <td>no-recurrence-events</td>\n",
              "      <td>40-49</td>\n",
              "      <td>premeno</td>\n",
              "      <td>30-34</td>\n",
              "      <td>0-2</td>\n",
              "      <td>no</td>\n",
              "      <td>1</td>\n",
              "      <td>left</td>\n",
              "      <td>right_up</td>\n",
              "      <td>no</td>\n",
              "    </tr>\n",
              "  </tbody>\n",
              "</table>\n",
              "</div>"
            ],
            "text/plain": [
              "               RecClass    Age Menopause  ... Breast   Quadrant Radiation\n",
              "0  no-recurrence-events  30-39   premeno  ...   left  right_low        no\n",
              "1  no-recurrence-events  40-49   premeno  ...  right  right_low        no\n",
              "2  no-recurrence-events  60-69      ge40  ...   left   left_low        no\n",
              "3  no-recurrence-events  40-49      ge40  ...   left   left_low        no\n",
              "4  no-recurrence-events  40-49   premeno  ...   left   right_up        no\n",
              "\n",
              "[5 rows x 10 columns]"
            ]
          },
          "metadata": {
            "tags": []
          },
          "execution_count": 4
        }
      ]
    },
    {
      "cell_type": "code",
      "metadata": {
        "colab": {
          "base_uri": "https://localhost:8080/"
        },
        "id": "i_pxeRJdCz6i",
        "outputId": "742279e5-3ccb-4ecc-e482-4d5c7a514f83"
      },
      "source": [
        "# Checking the number of observations and features\n",
        "\n",
        "data.shape"
      ],
      "execution_count": 5,
      "outputs": [
        {
          "output_type": "execute_result",
          "data": {
            "text/plain": [
              "(286, 10)"
            ]
          },
          "metadata": {
            "tags": []
          },
          "execution_count": 5
        }
      ]
    },
    {
      "cell_type": "code",
      "metadata": {
        "colab": {
          "base_uri": "https://localhost:8080/"
        },
        "id": "EV_CxARSC12h",
        "outputId": "4287f64c-2151-4272-c4b7-7ae6f881d8a9"
      },
      "source": [
        "# Checking the data type, existence of null cases within the observations\n",
        "\n",
        "data.info()"
      ],
      "execution_count": 6,
      "outputs": [
        {
          "output_type": "stream",
          "text": [
            "<class 'pandas.core.frame.DataFrame'>\n",
            "RangeIndex: 286 entries, 0 to 285\n",
            "Data columns (total 10 columns):\n",
            " #   Column     Non-Null Count  Dtype \n",
            "---  ------     --------------  ----- \n",
            " 0   RecClass   286 non-null    object\n",
            " 1   Age        286 non-null    object\n",
            " 2   Menopause  286 non-null    object\n",
            " 3   TumorSize  286 non-null    object\n",
            " 4   InvNodes   286 non-null    object\n",
            " 5   NodeCaps   286 non-null    object\n",
            " 6   DegMalig   286 non-null    int64 \n",
            " 7   Breast     286 non-null    object\n",
            " 8   Quadrant   286 non-null    object\n",
            " 9   Radiation  286 non-null    object\n",
            "dtypes: int64(1), object(9)\n",
            "memory usage: 22.5+ KB\n"
          ],
          "name": "stdout"
        }
      ]
    },
    {
      "cell_type": "code",
      "metadata": {
        "id": "EQefr1MAC81-",
        "colab": {
          "base_uri": "https://localhost:8080/"
        },
        "outputId": "478d4536-d104-433c-e02d-0dd518694d99"
      },
      "source": [
        "# Listing out the feature labels \n",
        "\n",
        "data.keys()"
      ],
      "execution_count": 7,
      "outputs": [
        {
          "output_type": "execute_result",
          "data": {
            "text/plain": [
              "Index(['RecClass', 'Age', 'Menopause', 'TumorSize', 'InvNodes', 'NodeCaps',\n",
              "       'DegMalig', 'Breast', 'Quadrant', 'Radiation'],\n",
              "      dtype='object')"
            ]
          },
          "metadata": {
            "tags": []
          },
          "execution_count": 7
        }
      ]
    },
    {
      "cell_type": "code",
      "metadata": {
        "colab": {
          "base_uri": "https://localhost:8080/"
        },
        "id": "nIyn8BntVpmC",
        "outputId": "6e5e92ab-6d4b-43fc-8992-5e6ef917919b"
      },
      "source": [
        "# Exploring the unique classes within each feature\n",
        "# Un-comment each one to check the classes\n",
        "\n",
        "data['Age'].unique()\n",
        "# data['Breast'].unique()\n",
        "# data['DegMalig'].unique()\n",
        "# data['InvNodes'].unique()\n",
        "# data['Menopause'].unique()\n",
        "# data['NodeCaps'].unique()\n",
        "# data['Quadrant'].unique()\n",
        "# data['Radiation'].unique()\n",
        "# data['TumorSize'].unique()\n",
        "# data['RecClass'].unique()"
      ],
      "execution_count": 8,
      "outputs": [
        {
          "output_type": "execute_result",
          "data": {
            "text/plain": [
              "array(['30-39', '40-49', '60-69', '50-59', '70-79', '20-29'], dtype=object)"
            ]
          },
          "metadata": {
            "tags": []
          },
          "execution_count": 8
        }
      ]
    },
    {
      "cell_type": "code",
      "metadata": {
        "id": "agbfcga0p31W"
      },
      "source": [
        "# Creation of dummy variables for the various features and prevention of the dummy variable trap (multicollinearity)\n",
        "\n",
        "# Converting the Age group variable into dummy variables and dropping the first column of the AgeGroup category\n",
        "\n",
        "# Original unique Age group categories '60-69', '40-49', '30-39', '50-59', '70-79', '20-29' (20 - 29 AgeGroup is dropped to prevent Multicollinearity)\n",
        "\n",
        "Age = pd.get_dummies(data['Age'], drop_first=True)\n",
        "\n",
        "data = data.drop('Age', axis=1)\n",
        "\n",
        "Age = Age.add_prefix('AgeGroup ')\n",
        "\n",
        "data = pd.concat([data, Age], axis=1)"
      ],
      "execution_count": 9,
      "outputs": []
    },
    {
      "cell_type": "code",
      "metadata": {
        "id": "A02F3CrKpgeF"
      },
      "source": [
        "# Converting the Menopause variable into dummy variables and dropping the first column of the Menopause category\n",
        "\n",
        "# Original unique Menopause categories 'ge40', 'premeno', 'lt40' (ge40 gets dropped)\n",
        "\n",
        "Menopause = pd.get_dummies(data['Menopause'], drop_first=True)\n",
        "\n",
        "data = data.drop('Menopause', axis=1)\n",
        "\n",
        "Menopause = Menopause.add_prefix('Menopause ')\n",
        "\n",
        "data = pd.concat([data, Menopause], axis=1)"
      ],
      "execution_count": 10,
      "outputs": []
    },
    {
      "cell_type": "code",
      "metadata": {
        "id": "5WlgyNBVrksZ"
      },
      "source": [
        "# Converting the TumorSize variables into dummies and droping the first column \n",
        "\n",
        "# Original unique TumorSize categories '30-34', '15-19', '25-29', '20-24', '0-4', '35-39', '10-14','40-44', '50-54', '45-49', '5-9' (0-4 dropped)\n",
        "\n",
        "TumorSize = pd.get_dummies(data['TumorSize'], drop_first=True)\n",
        "\n",
        "data = data.drop('TumorSize', axis=1)\n",
        "\n",
        "TumorSize = TumorSize.add_prefix('TumorSize ')\n",
        "\n",
        "data = pd.concat([data, TumorSize], axis=1)"
      ],
      "execution_count": 11,
      "outputs": []
    },
    {
      "cell_type": "code",
      "metadata": {
        "id": "oakB4R33saKQ"
      },
      "source": [
        "# Converting the InvNodes variables into dummies and droping the first column \n",
        "\n",
        "# Original unique InvNodes categories '0-2', '12-14', '3-5', '15-17', '6-8', '9-11', '24-26' (0-2 dropped)\n",
        "\n",
        "InvNodes = pd.get_dummies(data['InvNodes'], drop_first=True)\n",
        "\n",
        "data = data.drop('InvNodes', axis=1)\n",
        "\n",
        "InvNodes = InvNodes.add_prefix('InvNodes ')\n",
        "\n",
        "data = pd.concat([data, InvNodes], axis=1)"
      ],
      "execution_count": 12,
      "outputs": []
    },
    {
      "cell_type": "code",
      "metadata": {
        "id": "W1D8v6DKsykx"
      },
      "source": [
        "# Converting the NodeCaps variables into dummies and droping the first column \n",
        "\n",
        "# Original unique NodeCaps categories 'no', 'yes', '? (freaking ? dropped, nice)\n",
        "\n",
        "NodeCaps = pd.get_dummies(data['NodeCaps'], drop_first=True)\n",
        "\n",
        "data = data.drop('NodeCaps', axis=1)\n",
        "\n",
        "NodeCaps = NodeCaps.add_prefix('NodeCaps ')\n",
        "\n",
        "data = pd.concat([data, NodeCaps], axis=1)"
      ],
      "execution_count": 13,
      "outputs": []
    },
    {
      "cell_type": "code",
      "metadata": {
        "id": "Osy1hhQHtnni"
      },
      "source": [
        "# Converting the Breast variables into dummies and droping the first column \n",
        "\n",
        "# Original unique Breast categories 'left', 'right', (left dropped)\n",
        "\n",
        "Breast = pd.get_dummies(data['Breast'], drop_first=True)\n",
        "\n",
        "data = data.drop('Breast', axis=1)\n",
        "\n",
        "Breast = Breast.add_prefix('Breast ')\n",
        "\n",
        "data = pd.concat([data, Breast], axis=1)"
      ],
      "execution_count": 14,
      "outputs": []
    },
    {
      "cell_type": "code",
      "metadata": {
        "id": "ETw6D1iduJgL"
      },
      "source": [
        "# Converting the Quadrant variables into dummies and droping the first column \n",
        "\n",
        "# Original unique Quadrant categories 'left_low', 'right_low', 'central', 'left_up', 'right_up', '?' (freaking ? dropped again, nice)\n",
        "\n",
        "Quadrant = pd.get_dummies(data['Quadrant'], drop_first=True)\n",
        "\n",
        "data = data.drop('Quadrant', axis=1)\n",
        "\n",
        "Quadrant = Quadrant.add_prefix('Quadrant ')\n",
        "\n",
        "data = pd.concat([data, Quadrant], axis=1)"
      ],
      "execution_count": 15,
      "outputs": []
    },
    {
      "cell_type": "code",
      "metadata": {
        "id": "UjLmgjQWu0Iu"
      },
      "source": [
        "# Converting the Radiation variables into dummies and droping the first column \n",
        "\n",
        "# Original unique Radiation categories 'no', 'yes' (no dropped)\n",
        "\n",
        "Radiation = pd.get_dummies(data['Radiation'], drop_first=True)\n",
        "\n",
        "data = data.drop('Radiation', axis=1)\n",
        "\n",
        "Radiation = Radiation.add_prefix('Radiation ')\n",
        "\n",
        "data = pd.concat([data, Radiation], axis=1)"
      ],
      "execution_count": 16,
      "outputs": []
    },
    {
      "cell_type": "code",
      "metadata": {
        "colab": {
          "base_uri": "https://localhost:8080/",
          "height": 1000
        },
        "id": "5_yn0VxCZHzM",
        "outputId": "7685fa01-ca14-4332-ba1b-56af0c4c9c43"
      },
      "source": [
        "# Checking a sample of 20 observations from the dataset\n",
        "\n",
        "data.sample(20)"
      ],
      "execution_count": 17,
      "outputs": [
        {
          "output_type": "execute_result",
          "data": {
            "text/html": [
              "<div>\n",
              "<style scoped>\n",
              "    .dataframe tbody tr th:only-of-type {\n",
              "        vertical-align: middle;\n",
              "    }\n",
              "\n",
              "    .dataframe tbody tr th {\n",
              "        vertical-align: top;\n",
              "    }\n",
              "\n",
              "    .dataframe thead th {\n",
              "        text-align: right;\n",
              "    }\n",
              "</style>\n",
              "<table border=\"1\" class=\"dataframe\">\n",
              "  <thead>\n",
              "    <tr style=\"text-align: right;\">\n",
              "      <th></th>\n",
              "      <th>RecClass</th>\n",
              "      <th>DegMalig</th>\n",
              "      <th>AgeGroup 30-39</th>\n",
              "      <th>AgeGroup 40-49</th>\n",
              "      <th>AgeGroup 50-59</th>\n",
              "      <th>AgeGroup 60-69</th>\n",
              "      <th>AgeGroup 70-79</th>\n",
              "      <th>Menopause lt40</th>\n",
              "      <th>Menopause premeno</th>\n",
              "      <th>TumorSize 10-14</th>\n",
              "      <th>TumorSize 15-19</th>\n",
              "      <th>TumorSize 20-24</th>\n",
              "      <th>TumorSize 25-29</th>\n",
              "      <th>TumorSize 30-34</th>\n",
              "      <th>TumorSize 35-39</th>\n",
              "      <th>TumorSize 40-44</th>\n",
              "      <th>TumorSize 45-49</th>\n",
              "      <th>TumorSize 5-9</th>\n",
              "      <th>TumorSize 50-54</th>\n",
              "      <th>InvNodes 12-14</th>\n",
              "      <th>InvNodes 15-17</th>\n",
              "      <th>InvNodes 24-26</th>\n",
              "      <th>InvNodes 3-5</th>\n",
              "      <th>InvNodes 6-8</th>\n",
              "      <th>InvNodes 9-11</th>\n",
              "      <th>NodeCaps no</th>\n",
              "      <th>NodeCaps yes</th>\n",
              "      <th>Breast right</th>\n",
              "      <th>Quadrant central</th>\n",
              "      <th>Quadrant left_low</th>\n",
              "      <th>Quadrant left_up</th>\n",
              "      <th>Quadrant right_low</th>\n",
              "      <th>Quadrant right_up</th>\n",
              "      <th>Radiation yes</th>\n",
              "    </tr>\n",
              "  </thead>\n",
              "  <tbody>\n",
              "    <tr>\n",
              "      <th>66</th>\n",
              "      <td>no-recurrence-events</td>\n",
              "      <td>2</td>\n",
              "      <td>0</td>\n",
              "      <td>1</td>\n",
              "      <td>0</td>\n",
              "      <td>0</td>\n",
              "      <td>0</td>\n",
              "      <td>0</td>\n",
              "      <td>1</td>\n",
              "      <td>1</td>\n",
              "      <td>0</td>\n",
              "      <td>0</td>\n",
              "      <td>0</td>\n",
              "      <td>0</td>\n",
              "      <td>0</td>\n",
              "      <td>0</td>\n",
              "      <td>0</td>\n",
              "      <td>0</td>\n",
              "      <td>0</td>\n",
              "      <td>0</td>\n",
              "      <td>0</td>\n",
              "      <td>0</td>\n",
              "      <td>0</td>\n",
              "      <td>0</td>\n",
              "      <td>0</td>\n",
              "      <td>1</td>\n",
              "      <td>0</td>\n",
              "      <td>1</td>\n",
              "      <td>0</td>\n",
              "      <td>0</td>\n",
              "      <td>1</td>\n",
              "      <td>0</td>\n",
              "      <td>0</td>\n",
              "      <td>0</td>\n",
              "    </tr>\n",
              "    <tr>\n",
              "      <th>36</th>\n",
              "      <td>recurrence-events</td>\n",
              "      <td>1</td>\n",
              "      <td>0</td>\n",
              "      <td>0</td>\n",
              "      <td>0</td>\n",
              "      <td>1</td>\n",
              "      <td>0</td>\n",
              "      <td>0</td>\n",
              "      <td>0</td>\n",
              "      <td>0</td>\n",
              "      <td>0</td>\n",
              "      <td>1</td>\n",
              "      <td>0</td>\n",
              "      <td>0</td>\n",
              "      <td>0</td>\n",
              "      <td>0</td>\n",
              "      <td>0</td>\n",
              "      <td>0</td>\n",
              "      <td>0</td>\n",
              "      <td>0</td>\n",
              "      <td>0</td>\n",
              "      <td>0</td>\n",
              "      <td>0</td>\n",
              "      <td>0</td>\n",
              "      <td>0</td>\n",
              "      <td>1</td>\n",
              "      <td>0</td>\n",
              "      <td>1</td>\n",
              "      <td>0</td>\n",
              "      <td>0</td>\n",
              "      <td>1</td>\n",
              "      <td>0</td>\n",
              "      <td>0</td>\n",
              "      <td>0</td>\n",
              "    </tr>\n",
              "    <tr>\n",
              "      <th>177</th>\n",
              "      <td>no-recurrence-events</td>\n",
              "      <td>3</td>\n",
              "      <td>0</td>\n",
              "      <td>0</td>\n",
              "      <td>1</td>\n",
              "      <td>0</td>\n",
              "      <td>0</td>\n",
              "      <td>0</td>\n",
              "      <td>0</td>\n",
              "      <td>0</td>\n",
              "      <td>0</td>\n",
              "      <td>1</td>\n",
              "      <td>0</td>\n",
              "      <td>0</td>\n",
              "      <td>0</td>\n",
              "      <td>0</td>\n",
              "      <td>0</td>\n",
              "      <td>0</td>\n",
              "      <td>0</td>\n",
              "      <td>0</td>\n",
              "      <td>0</td>\n",
              "      <td>0</td>\n",
              "      <td>0</td>\n",
              "      <td>0</td>\n",
              "      <td>0</td>\n",
              "      <td>1</td>\n",
              "      <td>0</td>\n",
              "      <td>0</td>\n",
              "      <td>0</td>\n",
              "      <td>0</td>\n",
              "      <td>1</td>\n",
              "      <td>0</td>\n",
              "      <td>0</td>\n",
              "      <td>0</td>\n",
              "    </tr>\n",
              "    <tr>\n",
              "      <th>234</th>\n",
              "      <td>no-recurrence-events</td>\n",
              "      <td>2</td>\n",
              "      <td>0</td>\n",
              "      <td>0</td>\n",
              "      <td>0</td>\n",
              "      <td>1</td>\n",
              "      <td>0</td>\n",
              "      <td>0</td>\n",
              "      <td>0</td>\n",
              "      <td>0</td>\n",
              "      <td>0</td>\n",
              "      <td>0</td>\n",
              "      <td>0</td>\n",
              "      <td>0</td>\n",
              "      <td>0</td>\n",
              "      <td>0</td>\n",
              "      <td>0</td>\n",
              "      <td>0</td>\n",
              "      <td>1</td>\n",
              "      <td>0</td>\n",
              "      <td>0</td>\n",
              "      <td>0</td>\n",
              "      <td>0</td>\n",
              "      <td>0</td>\n",
              "      <td>0</td>\n",
              "      <td>1</td>\n",
              "      <td>0</td>\n",
              "      <td>0</td>\n",
              "      <td>0</td>\n",
              "      <td>1</td>\n",
              "      <td>0</td>\n",
              "      <td>0</td>\n",
              "      <td>0</td>\n",
              "      <td>0</td>\n",
              "    </tr>\n",
              "    <tr>\n",
              "      <th>119</th>\n",
              "      <td>recurrence-events</td>\n",
              "      <td>3</td>\n",
              "      <td>0</td>\n",
              "      <td>0</td>\n",
              "      <td>0</td>\n",
              "      <td>1</td>\n",
              "      <td>0</td>\n",
              "      <td>0</td>\n",
              "      <td>0</td>\n",
              "      <td>0</td>\n",
              "      <td>0</td>\n",
              "      <td>0</td>\n",
              "      <td>0</td>\n",
              "      <td>0</td>\n",
              "      <td>0</td>\n",
              "      <td>1</td>\n",
              "      <td>0</td>\n",
              "      <td>0</td>\n",
              "      <td>0</td>\n",
              "      <td>0</td>\n",
              "      <td>0</td>\n",
              "      <td>0</td>\n",
              "      <td>1</td>\n",
              "      <td>0</td>\n",
              "      <td>0</td>\n",
              "      <td>0</td>\n",
              "      <td>1</td>\n",
              "      <td>1</td>\n",
              "      <td>0</td>\n",
              "      <td>1</td>\n",
              "      <td>0</td>\n",
              "      <td>0</td>\n",
              "      <td>0</td>\n",
              "      <td>0</td>\n",
              "    </tr>\n",
              "    <tr>\n",
              "      <th>266</th>\n",
              "      <td>no-recurrence-events</td>\n",
              "      <td>2</td>\n",
              "      <td>0</td>\n",
              "      <td>0</td>\n",
              "      <td>0</td>\n",
              "      <td>1</td>\n",
              "      <td>0</td>\n",
              "      <td>0</td>\n",
              "      <td>0</td>\n",
              "      <td>0</td>\n",
              "      <td>1</td>\n",
              "      <td>0</td>\n",
              "      <td>0</td>\n",
              "      <td>0</td>\n",
              "      <td>0</td>\n",
              "      <td>0</td>\n",
              "      <td>0</td>\n",
              "      <td>0</td>\n",
              "      <td>0</td>\n",
              "      <td>0</td>\n",
              "      <td>0</td>\n",
              "      <td>0</td>\n",
              "      <td>0</td>\n",
              "      <td>0</td>\n",
              "      <td>0</td>\n",
              "      <td>1</td>\n",
              "      <td>0</td>\n",
              "      <td>1</td>\n",
              "      <td>0</td>\n",
              "      <td>0</td>\n",
              "      <td>1</td>\n",
              "      <td>0</td>\n",
              "      <td>0</td>\n",
              "      <td>0</td>\n",
              "    </tr>\n",
              "    <tr>\n",
              "      <th>237</th>\n",
              "      <td>no-recurrence-events</td>\n",
              "      <td>2</td>\n",
              "      <td>0</td>\n",
              "      <td>0</td>\n",
              "      <td>1</td>\n",
              "      <td>0</td>\n",
              "      <td>0</td>\n",
              "      <td>0</td>\n",
              "      <td>1</td>\n",
              "      <td>0</td>\n",
              "      <td>0</td>\n",
              "      <td>1</td>\n",
              "      <td>0</td>\n",
              "      <td>0</td>\n",
              "      <td>0</td>\n",
              "      <td>0</td>\n",
              "      <td>0</td>\n",
              "      <td>0</td>\n",
              "      <td>0</td>\n",
              "      <td>0</td>\n",
              "      <td>0</td>\n",
              "      <td>0</td>\n",
              "      <td>1</td>\n",
              "      <td>0</td>\n",
              "      <td>0</td>\n",
              "      <td>0</td>\n",
              "      <td>1</td>\n",
              "      <td>0</td>\n",
              "      <td>0</td>\n",
              "      <td>1</td>\n",
              "      <td>0</td>\n",
              "      <td>0</td>\n",
              "      <td>0</td>\n",
              "      <td>0</td>\n",
              "    </tr>\n",
              "    <tr>\n",
              "      <th>185</th>\n",
              "      <td>no-recurrence-events</td>\n",
              "      <td>3</td>\n",
              "      <td>0</td>\n",
              "      <td>0</td>\n",
              "      <td>0</td>\n",
              "      <td>1</td>\n",
              "      <td>0</td>\n",
              "      <td>0</td>\n",
              "      <td>0</td>\n",
              "      <td>0</td>\n",
              "      <td>0</td>\n",
              "      <td>0</td>\n",
              "      <td>0</td>\n",
              "      <td>0</td>\n",
              "      <td>0</td>\n",
              "      <td>0</td>\n",
              "      <td>1</td>\n",
              "      <td>0</td>\n",
              "      <td>0</td>\n",
              "      <td>0</td>\n",
              "      <td>0</td>\n",
              "      <td>0</td>\n",
              "      <td>0</td>\n",
              "      <td>1</td>\n",
              "      <td>0</td>\n",
              "      <td>0</td>\n",
              "      <td>1</td>\n",
              "      <td>0</td>\n",
              "      <td>1</td>\n",
              "      <td>0</td>\n",
              "      <td>0</td>\n",
              "      <td>0</td>\n",
              "      <td>0</td>\n",
              "      <td>0</td>\n",
              "    </tr>\n",
              "    <tr>\n",
              "      <th>252</th>\n",
              "      <td>no-recurrence-events</td>\n",
              "      <td>1</td>\n",
              "      <td>0</td>\n",
              "      <td>1</td>\n",
              "      <td>0</td>\n",
              "      <td>0</td>\n",
              "      <td>0</td>\n",
              "      <td>0</td>\n",
              "      <td>1</td>\n",
              "      <td>0</td>\n",
              "      <td>0</td>\n",
              "      <td>0</td>\n",
              "      <td>1</td>\n",
              "      <td>0</td>\n",
              "      <td>0</td>\n",
              "      <td>0</td>\n",
              "      <td>0</td>\n",
              "      <td>0</td>\n",
              "      <td>0</td>\n",
              "      <td>0</td>\n",
              "      <td>0</td>\n",
              "      <td>0</td>\n",
              "      <td>0</td>\n",
              "      <td>0</td>\n",
              "      <td>0</td>\n",
              "      <td>1</td>\n",
              "      <td>0</td>\n",
              "      <td>0</td>\n",
              "      <td>0</td>\n",
              "      <td>0</td>\n",
              "      <td>0</td>\n",
              "      <td>1</td>\n",
              "      <td>0</td>\n",
              "      <td>0</td>\n",
              "    </tr>\n",
              "    <tr>\n",
              "      <th>31</th>\n",
              "      <td>recurrence-events</td>\n",
              "      <td>3</td>\n",
              "      <td>0</td>\n",
              "      <td>1</td>\n",
              "      <td>0</td>\n",
              "      <td>0</td>\n",
              "      <td>0</td>\n",
              "      <td>0</td>\n",
              "      <td>1</td>\n",
              "      <td>0</td>\n",
              "      <td>0</td>\n",
              "      <td>0</td>\n",
              "      <td>1</td>\n",
              "      <td>0</td>\n",
              "      <td>0</td>\n",
              "      <td>0</td>\n",
              "      <td>0</td>\n",
              "      <td>0</td>\n",
              "      <td>0</td>\n",
              "      <td>0</td>\n",
              "      <td>0</td>\n",
              "      <td>0</td>\n",
              "      <td>0</td>\n",
              "      <td>0</td>\n",
              "      <td>0</td>\n",
              "      <td>1</td>\n",
              "      <td>0</td>\n",
              "      <td>0</td>\n",
              "      <td>0</td>\n",
              "      <td>0</td>\n",
              "      <td>0</td>\n",
              "      <td>0</td>\n",
              "      <td>1</td>\n",
              "      <td>0</td>\n",
              "    </tr>\n",
              "    <tr>\n",
              "      <th>63</th>\n",
              "      <td>no-recurrence-events</td>\n",
              "      <td>2</td>\n",
              "      <td>0</td>\n",
              "      <td>0</td>\n",
              "      <td>1</td>\n",
              "      <td>0</td>\n",
              "      <td>0</td>\n",
              "      <td>0</td>\n",
              "      <td>0</td>\n",
              "      <td>0</td>\n",
              "      <td>0</td>\n",
              "      <td>1</td>\n",
              "      <td>0</td>\n",
              "      <td>0</td>\n",
              "      <td>0</td>\n",
              "      <td>0</td>\n",
              "      <td>0</td>\n",
              "      <td>0</td>\n",
              "      <td>0</td>\n",
              "      <td>0</td>\n",
              "      <td>0</td>\n",
              "      <td>0</td>\n",
              "      <td>0</td>\n",
              "      <td>0</td>\n",
              "      <td>0</td>\n",
              "      <td>0</td>\n",
              "      <td>1</td>\n",
              "      <td>1</td>\n",
              "      <td>0</td>\n",
              "      <td>0</td>\n",
              "      <td>1</td>\n",
              "      <td>0</td>\n",
              "      <td>0</td>\n",
              "      <td>0</td>\n",
              "    </tr>\n",
              "    <tr>\n",
              "      <th>208</th>\n",
              "      <td>no-recurrence-events</td>\n",
              "      <td>2</td>\n",
              "      <td>0</td>\n",
              "      <td>1</td>\n",
              "      <td>0</td>\n",
              "      <td>0</td>\n",
              "      <td>0</td>\n",
              "      <td>0</td>\n",
              "      <td>1</td>\n",
              "      <td>0</td>\n",
              "      <td>0</td>\n",
              "      <td>0</td>\n",
              "      <td>0</td>\n",
              "      <td>1</td>\n",
              "      <td>0</td>\n",
              "      <td>0</td>\n",
              "      <td>0</td>\n",
              "      <td>0</td>\n",
              "      <td>0</td>\n",
              "      <td>0</td>\n",
              "      <td>0</td>\n",
              "      <td>0</td>\n",
              "      <td>0</td>\n",
              "      <td>1</td>\n",
              "      <td>0</td>\n",
              "      <td>1</td>\n",
              "      <td>0</td>\n",
              "      <td>0</td>\n",
              "      <td>0</td>\n",
              "      <td>0</td>\n",
              "      <td>1</td>\n",
              "      <td>0</td>\n",
              "      <td>0</td>\n",
              "      <td>0</td>\n",
              "    </tr>\n",
              "    <tr>\n",
              "      <th>179</th>\n",
              "      <td>recurrence-events</td>\n",
              "      <td>3</td>\n",
              "      <td>0</td>\n",
              "      <td>0</td>\n",
              "      <td>1</td>\n",
              "      <td>0</td>\n",
              "      <td>0</td>\n",
              "      <td>0</td>\n",
              "      <td>1</td>\n",
              "      <td>0</td>\n",
              "      <td>0</td>\n",
              "      <td>0</td>\n",
              "      <td>1</td>\n",
              "      <td>0</td>\n",
              "      <td>0</td>\n",
              "      <td>0</td>\n",
              "      <td>0</td>\n",
              "      <td>0</td>\n",
              "      <td>0</td>\n",
              "      <td>0</td>\n",
              "      <td>0</td>\n",
              "      <td>0</td>\n",
              "      <td>1</td>\n",
              "      <td>0</td>\n",
              "      <td>0</td>\n",
              "      <td>0</td>\n",
              "      <td>1</td>\n",
              "      <td>0</td>\n",
              "      <td>0</td>\n",
              "      <td>1</td>\n",
              "      <td>0</td>\n",
              "      <td>0</td>\n",
              "      <td>0</td>\n",
              "      <td>1</td>\n",
              "    </tr>\n",
              "    <tr>\n",
              "      <th>12</th>\n",
              "      <td>no-recurrence-events</td>\n",
              "      <td>1</td>\n",
              "      <td>0</td>\n",
              "      <td>0</td>\n",
              "      <td>0</td>\n",
              "      <td>1</td>\n",
              "      <td>0</td>\n",
              "      <td>1</td>\n",
              "      <td>0</td>\n",
              "      <td>0</td>\n",
              "      <td>0</td>\n",
              "      <td>0</td>\n",
              "      <td>0</td>\n",
              "      <td>1</td>\n",
              "      <td>0</td>\n",
              "      <td>0</td>\n",
              "      <td>0</td>\n",
              "      <td>0</td>\n",
              "      <td>0</td>\n",
              "      <td>0</td>\n",
              "      <td>0</td>\n",
              "      <td>0</td>\n",
              "      <td>0</td>\n",
              "      <td>0</td>\n",
              "      <td>0</td>\n",
              "      <td>1</td>\n",
              "      <td>0</td>\n",
              "      <td>0</td>\n",
              "      <td>0</td>\n",
              "      <td>1</td>\n",
              "      <td>0</td>\n",
              "      <td>0</td>\n",
              "      <td>0</td>\n",
              "      <td>0</td>\n",
              "    </tr>\n",
              "    <tr>\n",
              "      <th>223</th>\n",
              "      <td>recurrence-events</td>\n",
              "      <td>2</td>\n",
              "      <td>0</td>\n",
              "      <td>0</td>\n",
              "      <td>1</td>\n",
              "      <td>0</td>\n",
              "      <td>0</td>\n",
              "      <td>0</td>\n",
              "      <td>0</td>\n",
              "      <td>0</td>\n",
              "      <td>0</td>\n",
              "      <td>1</td>\n",
              "      <td>0</td>\n",
              "      <td>0</td>\n",
              "      <td>0</td>\n",
              "      <td>0</td>\n",
              "      <td>0</td>\n",
              "      <td>0</td>\n",
              "      <td>0</td>\n",
              "      <td>0</td>\n",
              "      <td>0</td>\n",
              "      <td>0</td>\n",
              "      <td>0</td>\n",
              "      <td>0</td>\n",
              "      <td>0</td>\n",
              "      <td>1</td>\n",
              "      <td>0</td>\n",
              "      <td>1</td>\n",
              "      <td>1</td>\n",
              "      <td>0</td>\n",
              "      <td>0</td>\n",
              "      <td>0</td>\n",
              "      <td>0</td>\n",
              "      <td>0</td>\n",
              "    </tr>\n",
              "    <tr>\n",
              "      <th>216</th>\n",
              "      <td>no-recurrence-events</td>\n",
              "      <td>3</td>\n",
              "      <td>0</td>\n",
              "      <td>0</td>\n",
              "      <td>1</td>\n",
              "      <td>0</td>\n",
              "      <td>0</td>\n",
              "      <td>0</td>\n",
              "      <td>0</td>\n",
              "      <td>0</td>\n",
              "      <td>0</td>\n",
              "      <td>1</td>\n",
              "      <td>0</td>\n",
              "      <td>0</td>\n",
              "      <td>0</td>\n",
              "      <td>0</td>\n",
              "      <td>0</td>\n",
              "      <td>0</td>\n",
              "      <td>0</td>\n",
              "      <td>0</td>\n",
              "      <td>0</td>\n",
              "      <td>0</td>\n",
              "      <td>0</td>\n",
              "      <td>0</td>\n",
              "      <td>0</td>\n",
              "      <td>1</td>\n",
              "      <td>0</td>\n",
              "      <td>0</td>\n",
              "      <td>0</td>\n",
              "      <td>0</td>\n",
              "      <td>1</td>\n",
              "      <td>0</td>\n",
              "      <td>0</td>\n",
              "      <td>0</td>\n",
              "    </tr>\n",
              "    <tr>\n",
              "      <th>256</th>\n",
              "      <td>no-recurrence-events</td>\n",
              "      <td>2</td>\n",
              "      <td>1</td>\n",
              "      <td>0</td>\n",
              "      <td>0</td>\n",
              "      <td>0</td>\n",
              "      <td>0</td>\n",
              "      <td>0</td>\n",
              "      <td>1</td>\n",
              "      <td>0</td>\n",
              "      <td>0</td>\n",
              "      <td>0</td>\n",
              "      <td>0</td>\n",
              "      <td>0</td>\n",
              "      <td>0</td>\n",
              "      <td>1</td>\n",
              "      <td>0</td>\n",
              "      <td>0</td>\n",
              "      <td>0</td>\n",
              "      <td>0</td>\n",
              "      <td>0</td>\n",
              "      <td>0</td>\n",
              "      <td>0</td>\n",
              "      <td>0</td>\n",
              "      <td>0</td>\n",
              "      <td>1</td>\n",
              "      <td>0</td>\n",
              "      <td>1</td>\n",
              "      <td>0</td>\n",
              "      <td>0</td>\n",
              "      <td>0</td>\n",
              "      <td>0</td>\n",
              "      <td>1</td>\n",
              "      <td>0</td>\n",
              "    </tr>\n",
              "    <tr>\n",
              "      <th>99</th>\n",
              "      <td>no-recurrence-events</td>\n",
              "      <td>1</td>\n",
              "      <td>0</td>\n",
              "      <td>0</td>\n",
              "      <td>1</td>\n",
              "      <td>0</td>\n",
              "      <td>0</td>\n",
              "      <td>0</td>\n",
              "      <td>0</td>\n",
              "      <td>1</td>\n",
              "      <td>0</td>\n",
              "      <td>0</td>\n",
              "      <td>0</td>\n",
              "      <td>0</td>\n",
              "      <td>0</td>\n",
              "      <td>0</td>\n",
              "      <td>0</td>\n",
              "      <td>0</td>\n",
              "      <td>0</td>\n",
              "      <td>0</td>\n",
              "      <td>0</td>\n",
              "      <td>0</td>\n",
              "      <td>0</td>\n",
              "      <td>0</td>\n",
              "      <td>0</td>\n",
              "      <td>1</td>\n",
              "      <td>0</td>\n",
              "      <td>1</td>\n",
              "      <td>0</td>\n",
              "      <td>0</td>\n",
              "      <td>1</td>\n",
              "      <td>0</td>\n",
              "      <td>0</td>\n",
              "      <td>0</td>\n",
              "    </tr>\n",
              "    <tr>\n",
              "      <th>248</th>\n",
              "      <td>no-recurrence-events</td>\n",
              "      <td>3</td>\n",
              "      <td>0</td>\n",
              "      <td>0</td>\n",
              "      <td>1</td>\n",
              "      <td>0</td>\n",
              "      <td>0</td>\n",
              "      <td>0</td>\n",
              "      <td>0</td>\n",
              "      <td>0</td>\n",
              "      <td>0</td>\n",
              "      <td>0</td>\n",
              "      <td>0</td>\n",
              "      <td>0</td>\n",
              "      <td>0</td>\n",
              "      <td>1</td>\n",
              "      <td>0</td>\n",
              "      <td>0</td>\n",
              "      <td>0</td>\n",
              "      <td>0</td>\n",
              "      <td>0</td>\n",
              "      <td>0</td>\n",
              "      <td>0</td>\n",
              "      <td>0</td>\n",
              "      <td>0</td>\n",
              "      <td>1</td>\n",
              "      <td>0</td>\n",
              "      <td>0</td>\n",
              "      <td>0</td>\n",
              "      <td>0</td>\n",
              "      <td>1</td>\n",
              "      <td>0</td>\n",
              "      <td>0</td>\n",
              "      <td>0</td>\n",
              "    </tr>\n",
              "    <tr>\n",
              "      <th>222</th>\n",
              "      <td>no-recurrence-events</td>\n",
              "      <td>2</td>\n",
              "      <td>0</td>\n",
              "      <td>0</td>\n",
              "      <td>0</td>\n",
              "      <td>0</td>\n",
              "      <td>1</td>\n",
              "      <td>0</td>\n",
              "      <td>0</td>\n",
              "      <td>1</td>\n",
              "      <td>0</td>\n",
              "      <td>0</td>\n",
              "      <td>0</td>\n",
              "      <td>0</td>\n",
              "      <td>0</td>\n",
              "      <td>0</td>\n",
              "      <td>0</td>\n",
              "      <td>0</td>\n",
              "      <td>0</td>\n",
              "      <td>0</td>\n",
              "      <td>0</td>\n",
              "      <td>0</td>\n",
              "      <td>0</td>\n",
              "      <td>0</td>\n",
              "      <td>0</td>\n",
              "      <td>1</td>\n",
              "      <td>0</td>\n",
              "      <td>0</td>\n",
              "      <td>1</td>\n",
              "      <td>0</td>\n",
              "      <td>0</td>\n",
              "      <td>0</td>\n",
              "      <td>0</td>\n",
              "      <td>0</td>\n",
              "    </tr>\n",
              "  </tbody>\n",
              "</table>\n",
              "</div>"
            ],
            "text/plain": [
              "                 RecClass  DegMalig  ...  Quadrant right_up  Radiation yes\n",
              "66   no-recurrence-events         2  ...                  0              0\n",
              "36      recurrence-events         1  ...                  0              0\n",
              "177  no-recurrence-events         3  ...                  0              0\n",
              "234  no-recurrence-events         2  ...                  0              0\n",
              "119     recurrence-events         3  ...                  0              0\n",
              "266  no-recurrence-events         2  ...                  0              0\n",
              "237  no-recurrence-events         2  ...                  0              0\n",
              "185  no-recurrence-events         3  ...                  0              0\n",
              "252  no-recurrence-events         1  ...                  0              0\n",
              "31      recurrence-events         3  ...                  1              0\n",
              "63   no-recurrence-events         2  ...                  0              0\n",
              "208  no-recurrence-events         2  ...                  0              0\n",
              "179     recurrence-events         3  ...                  0              1\n",
              "12   no-recurrence-events         1  ...                  0              0\n",
              "223     recurrence-events         2  ...                  0              0\n",
              "216  no-recurrence-events         3  ...                  0              0\n",
              "256  no-recurrence-events         2  ...                  1              0\n",
              "99   no-recurrence-events         1  ...                  0              0\n",
              "248  no-recurrence-events         3  ...                  0              0\n",
              "222  no-recurrence-events         2  ...                  0              0\n",
              "\n",
              "[20 rows x 34 columns]"
            ]
          },
          "metadata": {
            "tags": []
          },
          "execution_count": 17
        }
      ]
    },
    {
      "cell_type": "code",
      "metadata": {
        "colab": {
          "base_uri": "https://localhost:8080/"
        },
        "id": "Do-ZC27pytf4",
        "outputId": "ceaae560-43e1-4381-88fa-48012beeb2cd"
      },
      "source": [
        "data.info()"
      ],
      "execution_count": 18,
      "outputs": [
        {
          "output_type": "stream",
          "text": [
            "<class 'pandas.core.frame.DataFrame'>\n",
            "RangeIndex: 286 entries, 0 to 285\n",
            "Data columns (total 34 columns):\n",
            " #   Column              Non-Null Count  Dtype \n",
            "---  ------              --------------  ----- \n",
            " 0   RecClass            286 non-null    object\n",
            " 1   DegMalig            286 non-null    int64 \n",
            " 2   AgeGroup 30-39      286 non-null    uint8 \n",
            " 3   AgeGroup 40-49      286 non-null    uint8 \n",
            " 4   AgeGroup 50-59      286 non-null    uint8 \n",
            " 5   AgeGroup 60-69      286 non-null    uint8 \n",
            " 6   AgeGroup 70-79      286 non-null    uint8 \n",
            " 7   Menopause lt40      286 non-null    uint8 \n",
            " 8   Menopause premeno   286 non-null    uint8 \n",
            " 9   TumorSize 10-14     286 non-null    uint8 \n",
            " 10  TumorSize 15-19     286 non-null    uint8 \n",
            " 11  TumorSize 20-24     286 non-null    uint8 \n",
            " 12  TumorSize 25-29     286 non-null    uint8 \n",
            " 13  TumorSize 30-34     286 non-null    uint8 \n",
            " 14  TumorSize 35-39     286 non-null    uint8 \n",
            " 15  TumorSize 40-44     286 non-null    uint8 \n",
            " 16  TumorSize 45-49     286 non-null    uint8 \n",
            " 17  TumorSize 5-9       286 non-null    uint8 \n",
            " 18  TumorSize 50-54     286 non-null    uint8 \n",
            " 19  InvNodes 12-14      286 non-null    uint8 \n",
            " 20  InvNodes 15-17      286 non-null    uint8 \n",
            " 21  InvNodes 24-26      286 non-null    uint8 \n",
            " 22  InvNodes 3-5        286 non-null    uint8 \n",
            " 23  InvNodes 6-8        286 non-null    uint8 \n",
            " 24  InvNodes 9-11       286 non-null    uint8 \n",
            " 25  NodeCaps no         286 non-null    uint8 \n",
            " 26  NodeCaps yes        286 non-null    uint8 \n",
            " 27  Breast right        286 non-null    uint8 \n",
            " 28  Quadrant central    286 non-null    uint8 \n",
            " 29  Quadrant left_low   286 non-null    uint8 \n",
            " 30  Quadrant left_up    286 non-null    uint8 \n",
            " 31  Quadrant right_low  286 non-null    uint8 \n",
            " 32  Quadrant right_up   286 non-null    uint8 \n",
            " 33  Radiation yes       286 non-null    uint8 \n",
            "dtypes: int64(1), object(1), uint8(32)\n",
            "memory usage: 13.5+ KB\n"
          ],
          "name": "stdout"
        }
      ]
    },
    {
      "cell_type": "code",
      "metadata": {
        "colab": {
          "base_uri": "https://localhost:8080/"
        },
        "id": "D7WQSpMrzJbX",
        "outputId": "78326b9b-8008-4787-94c9-f3e79c3b852f"
      },
      "source": [
        "# Checking th final shape of the dataset\n",
        "\n",
        "data.shape"
      ],
      "execution_count": 19,
      "outputs": [
        {
          "output_type": "execute_result",
          "data": {
            "text/plain": [
              "(286, 34)"
            ]
          },
          "metadata": {
            "tags": []
          },
          "execution_count": 19
        }
      ]
    },
    {
      "cell_type": "code",
      "metadata": {
        "id": "eRvSEE5uzakh"
      },
      "source": [
        "# Mapping the input features into the X dataframe and the labels into y\n",
        "\n",
        "X = data._get_numeric_data()\n",
        "y = data['RecClass']\n",
        "\n",
        "# Creating the train and test data splits \n",
        "\n",
        "X_train, X_test, y_train, y_test = train_test_split(X, y, stratify = y, random_state = 1919)"
      ],
      "execution_count": 20,
      "outputs": []
    },
    {
      "cell_type": "code",
      "metadata": {
        "colab": {
          "base_uri": "https://localhost:8080/"
        },
        "id": "JlrYc24QUNW4",
        "outputId": "f2ae19e0-6dfb-4e2b-9eed-2d5bac87b35b"
      },
      "source": [
        "# Checking the size and dimensions of the data splits \n",
        "\n",
        "print (f'X_train: {X_train.shape}, y_train: {y_train.shape}')\n",
        "print (f'X_test: {X_test.shape}, y_test: {y_test.shape}')"
      ],
      "execution_count": 21,
      "outputs": [
        {
          "output_type": "stream",
          "text": [
            "X_train: (214, 33), y_train: (214,)\n",
            "X_test: (72, 33), y_test: (72,)\n"
          ],
          "name": "stdout"
        }
      ]
    },
    {
      "cell_type": "code",
      "metadata": {
        "colab": {
          "base_uri": "https://localhost:8080/"
        },
        "id": "LqeHO2jMWaTi",
        "outputId": "1c6705b2-7693-469a-9bad-1be2b0c82e93"
      },
      "source": [
        "# Exploring the overall class distribution\n",
        "# To see if the labels are fairly evenly distributed between the data splits\n",
        "\n",
        "class_count = dict(collections.Counter(y))\n",
        "train_class_count = dict(collections.Counter(y_train))\n",
        "test_class_count = dict(collections.Counter(y_test))\n",
        "\n",
        "print (f'classes: {class_count}')\n",
        "print (f\"no-rec:rec = {class_count['no-recurrence-events']/class_count['recurrence-events']:.2f}\")\n",
        "print (f'train classes: {train_class_count}')\n",
        "print (f\"train no-rec:rec = {train_class_count['no-recurrence-events']/train_class_count['recurrence-events']:.2f}\")\n",
        "print (f'test classes: {test_class_count}')\n",
        "print (f\"test no-rec:rec = {test_class_count['no-recurrence-events']/test_class_count['recurrence-events']:.2f}\")"
      ],
      "execution_count": 22,
      "outputs": [
        {
          "output_type": "stream",
          "text": [
            "classes: {'no-recurrence-events': 201, 'recurrence-events': 85}\n",
            "no-rec:rec = 2.36\n",
            "train classes: {'no-recurrence-events': 150, 'recurrence-events': 64}\n",
            "train no-rec:rec = 2.34\n",
            "test classes: {'no-recurrence-events': 51, 'recurrence-events': 21}\n",
            "test no-rec:rec = 2.43\n"
          ],
          "name": "stdout"
        }
      ]
    },
    {
      "cell_type": "code",
      "metadata": {
        "id": "3wrD8fYtZCTD"
      },
      "source": [
        "# Standardising the data (mean = 0, std = 1) using the training data\n",
        "\n",
        "X_scaler = StandardScaler().fit(X_train)\n",
        "\n",
        "# Not necessary to standardise the data using the StandardScaler class of Sklearn as the orders of magnitude are in single digits"
      ],
      "execution_count": 23,
      "outputs": []
    },
    {
      "cell_type": "code",
      "metadata": {
        "id": "y1OynuK0aCk1"
      },
      "source": [
        "# Applying the scaler on training and test data (not necessary to standardise outputs for classification)\n",
        "\n",
        "X_train = X_scaler.transform(X_train)\n",
        "X_test = X_scaler.transform(X_test)"
      ],
      "execution_count": 24,
      "outputs": []
    },
    {
      "cell_type": "code",
      "metadata": {
        "colab": {
          "base_uri": "https://localhost:8080/"
        },
        "id": "KHJ95YQhaXRL",
        "outputId": "ec50a06c-20b5-4fc9-af0f-eba001a55aa1"
      },
      "source": [
        "# Check (mean should approx 0 and std should be approx 1)\n",
        "\n",
        "print (f'X_train[0]: mean: {np.mean(X_train[:, 0], axis = 0):.1f}, std: {np.std(X_train[:, 0], axis=0):.1f}')\n",
        "print (f'X_test[1]: mean: {np.mean(X_test[:, 1], axis = 0):.1f}, std: {np.std(X_test[:, 1], axis=0):.1f}')"
      ],
      "execution_count": 25,
      "outputs": [
        {
          "output_type": "stream",
          "text": [
            "X_train[0]: mean: -0.0, std: 1.0\n",
            "X_test[1]: mean: -0.1, std: 0.9\n"
          ],
          "name": "stdout"
        }
      ]
    },
    {
      "cell_type": "code",
      "metadata": {
        "colab": {
          "base_uri": "https://localhost:8080/"
        },
        "id": "4PI3QPeO0sVb",
        "outputId": "4ffb6b52-5679-47ea-e180-92c0737213be"
      },
      "source": [
        "# Base Model \n",
        "\n",
        "y.value_counts(normalize=True)\n",
        "\n",
        "# A base model that predicts no recurrence events would be correct 70% of the time"
      ],
      "execution_count": 26,
      "outputs": [
        {
          "output_type": "execute_result",
          "data": {
            "text/plain": [
              "no-recurrence-events    0.702797\n",
              "recurrence-events       0.297203\n",
              "Name: RecClass, dtype: float64"
            ]
          },
          "metadata": {
            "tags": []
          },
          "execution_count": 26
        }
      ]
    },
    {
      "cell_type": "code",
      "metadata": {
        "colab": {
          "base_uri": "https://localhost:8080/"
        },
        "id": "zhxFs1Au1Bz6",
        "outputId": "8a8fcc8e-c2ef-4101-ac59-27f20960444a"
      },
      "source": [
        "pipe = Pipeline(steps=[('lr', LogisticRegression())]) # Running a pipeline of logistic regression \n",
        "\n",
        "params = {'lr__penalty': ['l1'], \n",
        "          'lr__C': [1], \n",
        "          'lr__solver': ['liblinear']} # setting parameters\n",
        "\n",
        "gs_lr = GridSearchCV(pipe, param_grid=params, cv=5,scoring='accuracy', n_jobs=-2)\n",
        "\n",
        "gs_lr.fit(X_train, y_train)\n",
        "gs_lr.best_estimator_"
      ],
      "execution_count": 27,
      "outputs": [
        {
          "output_type": "execute_result",
          "data": {
            "text/plain": [
              "Pipeline(memory=None,\n",
              "         steps=[('lr',\n",
              "                 LogisticRegression(C=1, class_weight=None, dual=False,\n",
              "                                    fit_intercept=True, intercept_scaling=1,\n",
              "                                    l1_ratio=None, max_iter=100,\n",
              "                                    multi_class='auto', n_jobs=None,\n",
              "                                    penalty='l1', random_state=None,\n",
              "                                    solver='liblinear', tol=0.0001, verbose=0,\n",
              "                                    warm_start=False))],\n",
              "         verbose=False)"
            ]
          },
          "metadata": {
            "tags": []
          },
          "execution_count": 27
        }
      ]
    },
    {
      "cell_type": "code",
      "metadata": {
        "colab": {
          "base_uri": "https://localhost:8080/"
        },
        "id": "uMbMssmnd40T",
        "outputId": "c0878740-af65-4ad9-b234-bc820a5a6d84"
      },
      "source": [
        "# Predicting the first 5 observations \n",
        "\n",
        "log_reg_y_pred = gs_lr.best_estimator_.predict(X_test[:5])\n",
        "log_reg_y_pred"
      ],
      "execution_count": 28,
      "outputs": [
        {
          "output_type": "execute_result",
          "data": {
            "text/plain": [
              "array(['no-recurrence-events', 'no-recurrence-events',\n",
              "       'no-recurrence-events', 'no-recurrence-events',\n",
              "       'no-recurrence-events'], dtype=object)"
            ]
          },
          "metadata": {
            "tags": []
          },
          "execution_count": 28
        }
      ]
    },
    {
      "cell_type": "code",
      "metadata": {
        "colab": {
          "base_uri": "https://localhost:8080/"
        },
        "id": "pe1ZA69yeURA",
        "outputId": "0daee8b1-6e3a-46f4-f438-d7ce9988b9da"
      },
      "source": [
        "# Checking the actual labels for the first 5 observations\n",
        "\n",
        "print (f'Actual labels: {y_test[:5]}')"
      ],
      "execution_count": 29,
      "outputs": [
        {
          "output_type": "stream",
          "text": [
            "Actual labels: 176    no-recurrence-events\n",
            "41     no-recurrence-events\n",
            "221    no-recurrence-events\n",
            "137       recurrence-events\n",
            "143       recurrence-events\n",
            "Name: RecClass, dtype: object\n"
          ],
          "name": "stdout"
        }
      ]
    },
    {
      "cell_type": "code",
      "metadata": {
        "colab": {
          "base_uri": "https://localhost:8080/"
        },
        "id": "s2bGKSjR2hgo",
        "outputId": "76aafa3d-74f6-4c21-eb81-947464b146d2"
      },
      "source": [
        "# Scoring the model (trainin, cross validation and test score)\n",
        "\n",
        "print (f'training score: {gs_lr.score(X_train, y_train)}')\n",
        "print (f\"cross validation score: {cross_val_score(gs_lr.best_estimator_, X, y, cv=5).mean()}\")\n",
        "print (f\"test score: {gs_lr.score(X_test, y_test)}\")\n",
        "\n",
        "# Inference: this model performs worse than the base model"
      ],
      "execution_count": 30,
      "outputs": [
        {
          "output_type": "stream",
          "text": [
            "training score: 0.7570093457943925\n",
            "cross validation score: 0.7238354506957048\n",
            "test score: 0.7361111111111112\n"
          ],
          "name": "stdout"
        }
      ]
    },
    {
      "cell_type": "code",
      "metadata": {
        "colab": {
          "base_uri": "https://localhost:8080/"
        },
        "id": "1BscprHx3BZz",
        "outputId": "9038fb6a-6863-42ce-e4bd-55a419855798"
      },
      "source": [
        "pipe = Pipeline(steps=[('sc', StandardScaler()), ('knn', KNeighborsClassifier())])\n",
        "\n",
        "params = {'knn__n_neighbors': [21], 'knn__p': [1]}\n",
        "\n",
        "gs_knn = GridSearchCV(pipe, param_grid=params, cv=5, scoring='accuracy')\n",
        "\n",
        "gs_knn.fit(X_train, y_train)\n",
        "gs_knn.best_estimator_"
      ],
      "execution_count": 31,
      "outputs": [
        {
          "output_type": "execute_result",
          "data": {
            "text/plain": [
              "Pipeline(memory=None,\n",
              "         steps=[('sc',\n",
              "                 StandardScaler(copy=True, with_mean=True, with_std=True)),\n",
              "                ('knn',\n",
              "                 KNeighborsClassifier(algorithm='auto', leaf_size=30,\n",
              "                                      metric='minkowski', metric_params=None,\n",
              "                                      n_jobs=None, n_neighbors=21, p=1,\n",
              "                                      weights='uniform'))],\n",
              "         verbose=False)"
            ]
          },
          "metadata": {
            "tags": []
          },
          "execution_count": 31
        }
      ]
    },
    {
      "cell_type": "code",
      "metadata": {
        "colab": {
          "base_uri": "https://localhost:8080/"
        },
        "id": "cUVBR--NsPaz",
        "outputId": "75aaf124-4155-4d0f-cbed-e75b88f531dd"
      },
      "source": [
        "# Scoring the model (trainin, cross validation and test score)\n",
        "\n",
        "print (f'training score: {gs_knn.score(X_train, y_train)}')\n",
        "print (f\"cross validation score: {cross_val_score(gs_knn.best_estimator_, X, y, cv=5).mean()}\")\n",
        "print (f\"test score: {gs_knn.score(X_test, y_test)}\")\n",
        "\n",
        "# Inference: this model performs worse than the base model"
      ],
      "execution_count": 32,
      "outputs": [
        {
          "output_type": "stream",
          "text": [
            "training score: 0.7149532710280374\n",
            "cross validation score: 0.6852994555353902\n",
            "test score: 0.7361111111111112\n"
          ],
          "name": "stdout"
        }
      ]
    },
    {
      "cell_type": "code",
      "metadata": {
        "colab": {
          "base_uri": "https://localhost:8080/"
        },
        "id": "GR7NgTAc4SYD",
        "outputId": "b1161f9b-c9fc-46c1-ec81-5c2583e4c487"
      },
      "source": [
        "# Decision Tree Classifer\n",
        "\n",
        "pipe = Pipeline(steps=[('tree', DecisionTreeClassifier())])\n",
        "\n",
        "params = {'tree__max_depth': [6, 8]}\n",
        "\n",
        "gs_tree = GridSearchCV(pipe, param_grid=params, cv=5, scoring='accuracy')\n",
        "\n",
        "gs_tree.fit(X_train, y_train)\n",
        "gs_tree.best_estimator_"
      ],
      "execution_count": 33,
      "outputs": [
        {
          "output_type": "execute_result",
          "data": {
            "text/plain": [
              "Pipeline(memory=None,\n",
              "         steps=[('tree',\n",
              "                 DecisionTreeClassifier(ccp_alpha=0.0, class_weight=None,\n",
              "                                        criterion='gini', max_depth=6,\n",
              "                                        max_features=None, max_leaf_nodes=None,\n",
              "                                        min_impurity_decrease=0.0,\n",
              "                                        min_impurity_split=None,\n",
              "                                        min_samples_leaf=1, min_samples_split=2,\n",
              "                                        min_weight_fraction_leaf=0.0,\n",
              "                                        presort='deprecated', random_state=None,\n",
              "                                        splitter='best'))],\n",
              "         verbose=False)"
            ]
          },
          "metadata": {
            "tags": []
          },
          "execution_count": 33
        }
      ]
    },
    {
      "cell_type": "code",
      "metadata": {
        "colab": {
          "base_uri": "https://localhost:8080/"
        },
        "id": "qpYJP9CJsb2a",
        "outputId": "9f04ae85-4f5d-42c8-ea28-2d61b55f7098"
      },
      "source": [
        "# Scoring the model (trainin, cross validation and test score)\n",
        "\n",
        "print (f'training score: {gs_tree.score(X_train, y_train)}')\n",
        "print (f\"cross validation score: {cross_val_score(gs_tree.best_estimator_, X, y, cv=5).mean()}\")\n",
        "print (f\"test score: {gs_tree.score(X_test, y_test)}\")\n",
        "\n",
        "# Inference: this model performs worse than the base model"
      ],
      "execution_count": 34,
      "outputs": [
        {
          "output_type": "stream",
          "text": [
            "training score: 0.883177570093458\n",
            "cross validation score: 0.7202056866303691\n",
            "test score: 0.7916666666666666\n"
          ],
          "name": "stdout"
        }
      ]
    },
    {
      "cell_type": "code",
      "metadata": {
        "colab": {
          "base_uri": "https://localhost:8080/"
        },
        "id": "nVvrt5ynnbJj",
        "outputId": "7f3cc824-fc5a-4453-a550-a901c5260cd4"
      },
      "source": [
        "# Bagging Classifier Model \n",
        "\n",
        "pipe = Pipeline(steps = [('bag', BaggingClassifier())])\n",
        "\n",
        "params = {'bag__n_estimators': [200]}\n",
        "\n",
        "gs_bag = GridSearchCV(pipe, param_grid=params, cv=5, scoring='accuracy')\n",
        "\n",
        "gs_bag.fit(X_train, y_train)\n",
        "gs_bag.best_estimator_"
      ],
      "execution_count": 35,
      "outputs": [
        {
          "output_type": "execute_result",
          "data": {
            "text/plain": [
              "Pipeline(memory=None,\n",
              "         steps=[('bag',\n",
              "                 BaggingClassifier(base_estimator=None, bootstrap=True,\n",
              "                                   bootstrap_features=False, max_features=1.0,\n",
              "                                   max_samples=1.0, n_estimators=200,\n",
              "                                   n_jobs=None, oob_score=False,\n",
              "                                   random_state=None, verbose=0,\n",
              "                                   warm_start=False))],\n",
              "         verbose=False)"
            ]
          },
          "metadata": {
            "tags": []
          },
          "execution_count": 35
        }
      ]
    },
    {
      "cell_type": "code",
      "metadata": {
        "colab": {
          "base_uri": "https://localhost:8080/"
        },
        "id": "aV9ML65isn8U",
        "outputId": "712f3749-2bea-4371-ea76-aef8361f1e31"
      },
      "source": [
        "# Scoring the model (trainin, cross validation and test score)\n",
        "\n",
        "print (f'training score: {gs_bag.score(X_train, y_train)}')\n",
        "print (f\"cross validation score: {cross_val_score(gs_bag.best_estimator_, X, y, cv=5).mean()}\")\n",
        "print (f\"test score: {gs_bag.score(X_test, y_test)}\")\n",
        "\n",
        "# Inference: this model performs worse than the base model"
      ],
      "execution_count": 36,
      "outputs": [
        {
          "output_type": "stream",
          "text": [
            "training score: 0.985981308411215\n",
            "cross validation score: 0.7235329703569267\n",
            "test score: 0.7777777777777778\n"
          ],
          "name": "stdout"
        }
      ]
    },
    {
      "cell_type": "code",
      "metadata": {
        "colab": {
          "base_uri": "https://localhost:8080/"
        },
        "id": "B3kueioQp7It",
        "outputId": "3758bb5f-76ce-44b5-a4b6-fa4a99efcb35"
      },
      "source": [
        "# Random Forest Model \n",
        "\n",
        "pipe = Pipeline(steps=[('forest', RandomForestClassifier())])\n",
        "\n",
        "params = {'forest__n_estimators': [150], 'forest__max_depth':[15]}\n",
        "\n",
        "gs_forest = GridSearchCV(pipe, param_grid=params, cv=5, scoring='accuracy')\n",
        "\n",
        "gs_forest.fit(X_train, y_train)\n",
        "\n",
        "gs_forest.best_estimator_"
      ],
      "execution_count": 37,
      "outputs": [
        {
          "output_type": "execute_result",
          "data": {
            "text/plain": [
              "Pipeline(memory=None,\n",
              "         steps=[('forest',\n",
              "                 RandomForestClassifier(bootstrap=True, ccp_alpha=0.0,\n",
              "                                        class_weight=None, criterion='gini',\n",
              "                                        max_depth=15, max_features='auto',\n",
              "                                        max_leaf_nodes=None, max_samples=None,\n",
              "                                        min_impurity_decrease=0.0,\n",
              "                                        min_impurity_split=None,\n",
              "                                        min_samples_leaf=1, min_samples_split=2,\n",
              "                                        min_weight_fraction_leaf=0.0,\n",
              "                                        n_estimators=150, n_jobs=None,\n",
              "                                        oob_score=False, random_state=None,\n",
              "                                        verbose=0, warm_start=False))],\n",
              "         verbose=False)"
            ]
          },
          "metadata": {
            "tags": []
          },
          "execution_count": 37
        }
      ]
    },
    {
      "cell_type": "code",
      "metadata": {
        "colab": {
          "base_uri": "https://localhost:8080/"
        },
        "id": "rq_rCq9lsy2s",
        "outputId": "1e064449-7e83-45b2-a9b5-9e7c1814fb34"
      },
      "source": [
        "# Scoring the model (trainin, cross validation and test score)\n",
        "\n",
        "print (f'training score: {gs_forest.score(X_train, y_train)}')\n",
        "print (f\"cross validation score: {cross_val_score(gs_forest.best_estimator_, X, y, cv=5).mean()}\")\n",
        "print (f\"test score: {gs_forest.score(X_test, y_test)}\")\n",
        "\n",
        "# Inference: this model performs worse than the base model"
      ],
      "execution_count": 38,
      "outputs": [
        {
          "output_type": "stream",
          "text": [
            "training score: 0.985981308411215\n",
            "cross validation score: 0.7445251058681185\n",
            "test score: 0.7638888888888888\n"
          ],
          "name": "stdout"
        }
      ]
    },
    {
      "cell_type": "code",
      "metadata": {
        "colab": {
          "base_uri": "https://localhost:8080/"
        },
        "id": "0gBlnJbSrO9M",
        "outputId": "f4bb3bc9-f59c-46ea-be4a-13c447c5fe7e"
      },
      "source": [
        "# Extra Trees Model \n",
        "\n",
        "pipe = Pipeline(steps=[('extra', ExtraTreesClassifier())])\n",
        "\n",
        "params = {'extra__n_estimators': [600], 'extra__max_depth': [None]}\n",
        "\n",
        "gs_extra = GridSearchCV(pipe, param_grid=params, cv=5, scoring='accuracy')\n",
        "\n",
        "gs_extra.fit(X_train, y_train)\n",
        "gs_extra.best_estimator_"
      ],
      "execution_count": 39,
      "outputs": [
        {
          "output_type": "execute_result",
          "data": {
            "text/plain": [
              "Pipeline(memory=None,\n",
              "         steps=[('extra',\n",
              "                 ExtraTreesClassifier(bootstrap=False, ccp_alpha=0.0,\n",
              "                                      class_weight=None, criterion='gini',\n",
              "                                      max_depth=None, max_features='auto',\n",
              "                                      max_leaf_nodes=None, max_samples=None,\n",
              "                                      min_impurity_decrease=0.0,\n",
              "                                      min_impurity_split=None,\n",
              "                                      min_samples_leaf=1, min_samples_split=2,\n",
              "                                      min_weight_fraction_leaf=0.0,\n",
              "                                      n_estimators=600, n_jobs=None,\n",
              "                                      oob_score=False, random_state=None,\n",
              "                                      verbose=0, warm_start=False))],\n",
              "         verbose=False)"
            ]
          },
          "metadata": {
            "tags": []
          },
          "execution_count": 39
        }
      ]
    },
    {
      "cell_type": "code",
      "metadata": {
        "colab": {
          "base_uri": "https://localhost:8080/"
        },
        "id": "mhJjIZf9s8mo",
        "outputId": "d6a0ebef-473e-4c13-cec2-5bc6c7b664a4"
      },
      "source": [
        "# Scoring the model (trainin, cross validation and test score)\n",
        "\n",
        "print (f'training score: {gs_extra.score(X_train, y_train)}')\n",
        "print (f\"cross validation score: {cross_val_score(gs_extra.best_estimator_, X, y, cv=5).mean()}\")\n",
        "print (f\"test score: {gs_extra.score(X_test, y_test)}\")\n",
        "\n",
        "# Inference: this model performs worse than the base model"
      ],
      "execution_count": 40,
      "outputs": [
        {
          "output_type": "stream",
          "text": [
            "training score: 0.985981308411215\n",
            "cross validation score: 0.7235934664246824\n",
            "test score: 0.7916666666666666\n"
          ],
          "name": "stdout"
        }
      ]
    },
    {
      "cell_type": "code",
      "metadata": {
        "colab": {
          "base_uri": "https://localhost:8080/"
        },
        "id": "cjym4-9PsgYq",
        "outputId": "1c1046c3-30d1-4171-b610-8b2d9dd6daa7"
      },
      "source": [
        "# AdaBoost Model \n",
        "\n",
        "pipe = Pipeline(steps=[('ada', AdaBoostClassifier())])\n",
        "\n",
        "params = {'ada__n_estimators': [10]}\n",
        "\n",
        "gs_ada = GridSearchCV(pipe, param_grid=params, cv=5, scoring='accuracy')\n",
        "\n",
        "gs_ada.fit(X_train, y_train)\n",
        "\n",
        "gs_ada.best_estimator_"
      ],
      "execution_count": 41,
      "outputs": [
        {
          "output_type": "execute_result",
          "data": {
            "text/plain": [
              "Pipeline(memory=None,\n",
              "         steps=[('ada',\n",
              "                 AdaBoostClassifier(algorithm='SAMME.R', base_estimator=None,\n",
              "                                    learning_rate=1.0, n_estimators=10,\n",
              "                                    random_state=None))],\n",
              "         verbose=False)"
            ]
          },
          "metadata": {
            "tags": []
          },
          "execution_count": 41
        }
      ]
    },
    {
      "cell_type": "code",
      "metadata": {
        "colab": {
          "base_uri": "https://localhost:8080/"
        },
        "id": "0JmVeJRttHzY",
        "outputId": "921dfdb5-959b-4d20-aa3f-a6b36bba0a14"
      },
      "source": [
        "# Scoring the model (trainin, cross validation and test score)\n",
        "\n",
        "print (f'training score: {gs_ada.score(X_train, y_train)}')\n",
        "print (f\"cross validation score: {cross_val_score(gs_ada.best_estimator_, X, y, cv=5).mean()}\")\n",
        "print (f\"test score: {gs_ada.score(X_test, y_test)}\")\n",
        "\n",
        "# Inference: this model performs worse than the base model"
      ],
      "execution_count": 42,
      "outputs": [
        {
          "output_type": "stream",
          "text": [
            "training score: 0.7616822429906542\n",
            "cross validation score: 0.7202661826981246\n",
            "test score: 0.7777777777777778\n"
          ],
          "name": "stdout"
        }
      ]
    },
    {
      "cell_type": "code",
      "metadata": {
        "colab": {
          "base_uri": "https://localhost:8080/"
        },
        "id": "ye4dTrcNuYbw",
        "outputId": "a5a2412f-90f8-41a4-8fae-5b93ab04fb1b"
      },
      "source": [
        "# Gradient Boosting Classifier Model \n",
        "\n",
        "pipe = Pipeline(steps=[('grad', GradientBoostingClassifier())])\n",
        "\n",
        "params = {'grad__n_estimators': [300], 'grad__max_depth': [3]}\n",
        "\n",
        "gs_grad = GridSearchCV(pipe, param_grid=params, cv=5, scoring='accuracy')\n",
        "\n",
        "gs_grad.fit(X_train, y_train)\n",
        "gs_grad.best_estimator_"
      ],
      "execution_count": 43,
      "outputs": [
        {
          "output_type": "execute_result",
          "data": {
            "text/plain": [
              "Pipeline(memory=None,\n",
              "         steps=[('grad',\n",
              "                 GradientBoostingClassifier(ccp_alpha=0.0,\n",
              "                                            criterion='friedman_mse', init=None,\n",
              "                                            learning_rate=0.1, loss='deviance',\n",
              "                                            max_depth=3, max_features=None,\n",
              "                                            max_leaf_nodes=None,\n",
              "                                            min_impurity_decrease=0.0,\n",
              "                                            min_impurity_split=None,\n",
              "                                            min_samples_leaf=1,\n",
              "                                            min_samples_split=2,\n",
              "                                            min_weight_fraction_leaf=0.0,\n",
              "                                            n_estimators=300,\n",
              "                                            n_iter_no_change=None,\n",
              "                                            presort='deprecated',\n",
              "                                            random_state=None, subsample=1.0,\n",
              "                                            tol=0.0001, validation_fraction=0.1,\n",
              "                                            verbose=0, warm_start=False))],\n",
              "         verbose=False)"
            ]
          },
          "metadata": {
            "tags": []
          },
          "execution_count": 43
        }
      ]
    },
    {
      "cell_type": "code",
      "metadata": {
        "colab": {
          "base_uri": "https://localhost:8080/"
        },
        "id": "6Ubkj2cEtPcc",
        "outputId": "aab50bbc-bc66-43e9-eb70-e5d4a35a6f22"
      },
      "source": [
        "# Scoring the model (trainin, cross validation and test score)\n",
        "\n",
        "print (f'training score: {gs_grad.score(X_train, y_train)}')\n",
        "print (f\"cross validation score: {cross_val_score(gs_grad.best_estimator_, X, y, cv=5).mean()}\")\n",
        "print (f\"test score: {gs_grad.score(X_test, y_test)}\")\n",
        "\n",
        "# Inference: this model performs worse than the base model"
      ],
      "execution_count": 44,
      "outputs": [
        {
          "output_type": "stream",
          "text": [
            "training score: 0.9813084112149533\n",
            "cross validation score: 0.6992740471869329\n",
            "test score: 0.7638888888888888\n"
          ],
          "name": "stdout"
        }
      ]
    },
    {
      "cell_type": "code",
      "metadata": {
        "colab": {
          "base_uri": "https://localhost:8080/"
        },
        "id": "NCKOXEclw9dt",
        "outputId": "86126953-ebbe-4f5e-e2bb-7cfaf6a7f713"
      },
      "source": [
        "# SVC Model \n",
        "\n",
        "# - Setting up the model \n",
        "\n",
        "pipe = Pipeline(steps = [(\"svc\", SVC())])\n",
        "\n",
        "# - Setting the model parameters \n",
        "\n",
        "params = {\"svc__C\": [3]}\n",
        "\n",
        "gs_svc = GridSearchCV(pipe, param_grid = params, cv = 5, scoring = \"accuracy\")\n",
        "\n",
        "gs_svc.fit(X_train, y_train)\n",
        "\n",
        "gs_svc.best_estimator_"
      ],
      "execution_count": 45,
      "outputs": [
        {
          "output_type": "execute_result",
          "data": {
            "text/plain": [
              "Pipeline(memory=None,\n",
              "         steps=[('svc',\n",
              "                 SVC(C=3, break_ties=False, cache_size=200, class_weight=None,\n",
              "                     coef0=0.0, decision_function_shape='ovr', degree=3,\n",
              "                     gamma='scale', kernel='rbf', max_iter=-1,\n",
              "                     probability=False, random_state=None, shrinking=True,\n",
              "                     tol=0.001, verbose=False))],\n",
              "         verbose=False)"
            ]
          },
          "metadata": {
            "tags": []
          },
          "execution_count": 45
        }
      ]
    },
    {
      "cell_type": "code",
      "metadata": {
        "colab": {
          "base_uri": "https://localhost:8080/"
        },
        "id": "a8epvJQqteTS",
        "outputId": "24d07bfa-f465-4456-8b32-663a13f08aa5"
      },
      "source": [
        "# Scoring the model (trainin, cross validation and test score)\n",
        "\n",
        "print (f'training score: {gs_svc.score(X_train, y_train)}')\n",
        "print (f\"cross validation score: {cross_val_score(gs_svc.best_estimator_, X, y, cv=5).mean()}\")\n",
        "print (f\"test score: {gs_svc.score(X_test, y_test)}\")\n",
        "\n",
        "# Inference: this model performs worse than the base model"
      ],
      "execution_count": 46,
      "outputs": [
        {
          "output_type": "stream",
          "text": [
            "training score: 0.9299065420560748\n",
            "cross validation score: 0.7691470054446461\n",
            "test score: 0.7361111111111112\n"
          ],
          "name": "stdout"
        }
      ]
    },
    {
      "cell_type": "code",
      "metadata": {
        "colab": {
          "base_uri": "https://localhost:8080/"
        },
        "id": "eNkvhfyYxF6M",
        "outputId": "4ebc4e70-d88d-4830-ab13-31370770fc4f"
      },
      "source": [
        "# Voting Classifier Model \n",
        "\n",
        "knn_pipe = Pipeline([('ss', StandardScaler()), ('knn', KNeighborsClassifier())])\n",
        "\n",
        "vote = VotingClassifier([('rand', RandomForestClassifier()), \n",
        "                         ('grad', GradientBoostingClassifier()), \n",
        "                         ('lr', LogisticRegression()), \n",
        "                         ('tree', DecisionTreeClassifier()), \n",
        "                         ('bag', BaggingClassifier()), \n",
        "                         ('ada', AdaBoostClassifier()), \n",
        "                         ('extra', ExtraTreesClassifier()), \n",
        "                         ('knn_pipe', knn_pipe)], voting = 'soft')\n",
        "\n",
        "vote_params = {'rand__n_estimators': [150], \n",
        "               'rand__max_depth': [15], \n",
        "               'grad__n_estimators': [300], \n",
        "               'tree__max_depth': [8], \n",
        "               'bag__n_estimators': [200], \n",
        "               'ada__n_estimators': [10], \n",
        "               'extra__n_estimators': [600], \n",
        "               'knn_pipe__knn__n_neighbors': [21], \n",
        "               'lr__penalty': ['l1'], \n",
        "               'lr__C': [1], \n",
        "               'lr__solver': ['liblinear']}\n",
        "\n",
        "gs_vc = GridSearchCV(vote, param_grid=vote_params, cv=5, scoring='accuracy')\n",
        "\n",
        "gs_vc.fit(X_train, y_train)\n",
        "\n",
        "gs_vc.best_estimator_"
      ],
      "execution_count": 47,
      "outputs": [
        {
          "output_type": "execute_result",
          "data": {
            "text/plain": [
              "VotingClassifier(estimators=[('rand',\n",
              "                              RandomForestClassifier(bootstrap=True,\n",
              "                                                     ccp_alpha=0.0,\n",
              "                                                     class_weight=None,\n",
              "                                                     criterion='gini',\n",
              "                                                     max_depth=15,\n",
              "                                                     max_features='auto',\n",
              "                                                     max_leaf_nodes=None,\n",
              "                                                     max_samples=None,\n",
              "                                                     min_impurity_decrease=0.0,\n",
              "                                                     min_impurity_split=None,\n",
              "                                                     min_samples_leaf=1,\n",
              "                                                     min_samples_split=2,\n",
              "                                                     min_weight_fraction_leaf=0.0,\n",
              "                                                     n_estimators=150,\n",
              "                                                     n_jobs=None,\n",
              "                                                     oob_score...\n",
              "                                                   random_state=None, verbose=0,\n",
              "                                                   warm_start=False)),\n",
              "                             ('knn_pipe',\n",
              "                              Pipeline(memory=None,\n",
              "                                       steps=[('ss',\n",
              "                                               StandardScaler(copy=True,\n",
              "                                                              with_mean=True,\n",
              "                                                              with_std=True)),\n",
              "                                              ('knn',\n",
              "                                               KNeighborsClassifier(algorithm='auto',\n",
              "                                                                    leaf_size=30,\n",
              "                                                                    metric='minkowski',\n",
              "                                                                    metric_params=None,\n",
              "                                                                    n_jobs=None,\n",
              "                                                                    n_neighbors=21,\n",
              "                                                                    p=2,\n",
              "                                                                    weights='uniform'))],\n",
              "                                       verbose=False))],\n",
              "                 flatten_transform=True, n_jobs=None, voting='soft',\n",
              "                 weights=None)"
            ]
          },
          "metadata": {
            "tags": []
          },
          "execution_count": 47
        }
      ]
    },
    {
      "cell_type": "code",
      "metadata": {
        "colab": {
          "base_uri": "https://localhost:8080/"
        },
        "id": "_9kmDD3xtp3g",
        "outputId": "7e297854-3d9e-4b8a-f131-8789f16178e7"
      },
      "source": [
        "# Scoring the model (trainin, cross validation and test score)\n",
        "\n",
        "print (f'training score: {gs_vc.score(X_train, y_train)}')\n",
        "print (f\"cross validation score: {cross_val_score(gs_vc.best_estimator_, X, y, cv=5).mean()}\")\n",
        "print (f\"test score: {gs_vc.score(X_test, y_test)}\")\n",
        "\n",
        "# Inference, voting classifier performs slightly slightly worse than decision tree, random forest and bagging classifer models although those ones like the voting classifer\n",
        "# ... clearly overfit the data. \n",
        "# Also as voting classifiers are ensemble, they are difficult to interprete"
      ],
      "execution_count": 48,
      "outputs": [
        {
          "output_type": "stream",
          "text": [
            "training score: 0.9579439252336449\n",
            "cross validation score: 0.7411978221415608\n",
            "test score: 0.8055555555555556\n"
          ],
          "name": "stdout"
        }
      ]
    },
    {
      "cell_type": "code",
      "metadata": {
        "colab": {
          "base_uri": "https://localhost:8080/",
          "height": 410
        },
        "id": "3dNyDB3m1zn5",
        "outputId": "15c41e59-2dca-4be5-b296-a836170196c0"
      },
      "source": [
        "# Model evaluation \n",
        "\n",
        "# Getting the prediction from all the models\n",
        "\n",
        "lr_preds = gs_lr.best_estimator_.predict(X_test)\n",
        "knn_preds = gs_knn.best_estimator_.predict(X_test)\n",
        "tree_preds = gs_tree.best_estimator_.predict(X_test)\n",
        "bag_preds = gs_bag.best_estimator_.predict(X_test) # really good on confusion matrix\n",
        "forest_preds = gs_forest.best_estimator_.predict(X_test)\n",
        "extra_preds = gs_extra.best_estimator_.predict(X_test)\n",
        "ada_preds = gs_ada.best_estimator_.predict(X_test)\n",
        "svc_preds = gs_svc.best_estimator_.predict(X_test) # as good as the bag preds on confusion matrix\n",
        "vc_preds = gs_vc.best_estimator_.predict(X_test) \n",
        "\n",
        "def pretty_confusion_matrix(y_true, y_pred):\n",
        "  \"\"\" Creating a confusion in a nice chart.\"\"\"\n",
        "\n",
        "  # Handling the data\n",
        "  cm = confusion_matrix(y_true, y_pred)\n",
        "  labels = y_true.unique()\n",
        "  labels.sort()\n",
        "\n",
        "  # Plotting \n",
        "  sns.set(font_scale=1)\n",
        "  plt.figure(figsize=(8, 6))\n",
        "\n",
        "  chart = sns.heatmap(cm, annot=True, fmt='g', cmap='coolwarm', xticklabels=labels, yticklabels=labels)\n",
        "  chart.set_yticklabels(chart.get_yticklabels(), rotation = 0)\n",
        "  plt.title('Confusion Matrix')\n",
        "  plt.xlabel('Predicted Class')\n",
        "  plt.ylabel('True Class')\n",
        "\n",
        "pretty_confusion_matrix(y_test, bag_preds) # Substitute the predictions in based on the model of choice"
      ],
      "execution_count": 49,
      "outputs": [
        {
          "output_type": "display_data",
          "data": {
            "image/png": "[encoded data removed]",
            "text/plain": [
              "<Figure size 576x432 with 2 Axes>"
            ]
          },
          "metadata": {
            "tags": []
          }
        }
      ]
    },
    {
      "cell_type": "code",
      "metadata": {
        "colab": {
          "base_uri": "https://localhost:8080/"
        },
        "id": "18oGDg5iWcYF",
        "outputId": "d9023c7b-d50e-4db0-b5d8-3ae7f089e28f"
      },
      "source": [
        "# Computing the outcomes of the confusion matrix depending on the selected model\n",
        "\n",
        "print(f'No-recurrence-events: {48/(48+3)}')\n",
        "print(f'Recurrence-events: {5/(16+5)}')"
      ],
      "execution_count": 50,
      "outputs": [
        {
          "output_type": "stream",
          "text": [
            "No-recurrence-events: 0.9411764705882353\n",
            "Recurrence-events: 0.23809523809523808\n"
          ],
          "name": "stdout"
        }
      ]
    },
    {
      "cell_type": "code",
      "metadata": {
        "colab": {
          "base_uri": "https://localhost:8080/"
        },
        "id": "ry5N_VdoXJuO",
        "outputId": "819cd206-28c1-462e-eec3-e5107a89f297"
      },
      "source": [
        "# Evaluating the Bagging Classifer, turns out to be one of the reasonable models based on the confusion matrix\n",
        "\n",
        "print (f'confusion matrix:\\n {confusion_matrix(y_test, bag_preds)}')\n",
        "print (f'classification report:\\n {classification_report(y_test, bag_preds)}')\n",
        "print (f'accuracy score:\\n {accuracy_score(y_test, bag_preds)}')"
      ],
      "execution_count": 51,
      "outputs": [
        {
          "output_type": "stream",
          "text": [
            "confusion matrix:\n",
            " [[47  4]\n",
            " [12  9]]\n",
            "classification report:\n",
            "                       precision    recall  f1-score   support\n",
            "\n",
            "no-recurrence-events       0.80      0.92      0.85        51\n",
            "   recurrence-events       0.69      0.43      0.53        21\n",
            "\n",
            "            accuracy                           0.78        72\n",
            "           macro avg       0.74      0.68      0.69        72\n",
            "        weighted avg       0.77      0.78      0.76        72\n",
            "\n",
            "accuracy score:\n",
            " 0.7777777777777778\n"
          ],
          "name": "stdout"
        }
      ]
    },
    {
      "cell_type": "code",
      "metadata": {
        "colab": {
          "base_uri": "https://localhost:8080/"
        },
        "id": "yeYIk6pc2GgJ",
        "outputId": "45c22fea-d678-4d78-f16a-38d662107629"
      },
      "source": [
        "# Evaluating the Support Vector Classifer, turns out to be one of the good models based on the confusion matrix alongside the Bagging Classifier\n",
        "\n",
        "print (f'confusion matrix:\\n {confusion_matrix(y_test, svc_preds)}')\n",
        "print (f'classification report:\\n {classification_report(y_test, svc_preds)}')\n",
        "print (f'accuracy score:\\n {accuracy_score(y_test, svc_preds)}')"
      ],
      "execution_count": 52,
      "outputs": [
        {
          "output_type": "stream",
          "text": [
            "confusion matrix:\n",
            " [[47  4]\n",
            " [15  6]]\n",
            "classification report:\n",
            "                       precision    recall  f1-score   support\n",
            "\n",
            "no-recurrence-events       0.76      0.92      0.83        51\n",
            "   recurrence-events       0.60      0.29      0.39        21\n",
            "\n",
            "            accuracy                           0.74        72\n",
            "           macro avg       0.68      0.60      0.61        72\n",
            "        weighted avg       0.71      0.74      0.70        72\n",
            "\n",
            "accuracy score:\n",
            " 0.7361111111111112\n"
          ],
          "name": "stdout"
        }
      ]
    },
    {
      "cell_type": "code",
      "metadata": {
        "colab": {
          "base_uri": "https://localhost:8080/"
        },
        "id": "3IMcMn-LX5f6",
        "outputId": "b7f80e2c-ce5a-47c8-fd23-1b951d04281e"
      },
      "source": [
        "features = data.keys()\n",
        "features"
      ],
      "execution_count": 64,
      "outputs": [
        {
          "output_type": "execute_result",
          "data": {
            "text/plain": [
              "Index(['RecClass', 'DegMalig', 'AgeGroup 30-39', 'AgeGroup 40-49',\n",
              "       'AgeGroup 50-59', 'AgeGroup 60-69', 'AgeGroup 70-79', 'Menopause lt40',\n",
              "       'Menopause premeno', 'TumorSize 10-14', 'TumorSize 15-19',\n",
              "       'TumorSize 20-24', 'TumorSize 25-29', 'TumorSize 30-34',\n",
              "       'TumorSize 35-39', 'TumorSize 40-44', 'TumorSize 45-49',\n",
              "       'TumorSize 5-9', 'TumorSize 50-54', 'InvNodes 12-14', 'InvNodes 15-17',\n",
              "       'InvNodes 24-26', 'InvNodes 3-5', 'InvNodes 6-8', 'InvNodes 9-11',\n",
              "       'NodeCaps no', 'NodeCaps yes', 'Breast right', 'Quadrant central',\n",
              "       'Quadrant left_low', 'Quadrant left_up', 'Quadrant right_low',\n",
              "       'Quadrant right_up', 'Radiation yes'],\n",
              "      dtype='object')"
            ]
          },
          "metadata": {
            "tags": []
          },
          "execution_count": 64
        }
      ]
    },
    {
      "cell_type": "code",
      "metadata": {
        "colab": {
          "base_uri": "https://localhost:8080/"
        },
        "id": "IXr_1TOKYwB1",
        "outputId": "9a7c8252-cf61-4f93-c4fa-9302d4f88b07"
      },
      "source": [
        "keys = list(X.keys())\n",
        "keys"
      ],
      "execution_count": 69,
      "outputs": [
        {
          "output_type": "execute_result",
          "data": {
            "text/plain": [
              "['DegMalig',\n",
              " 'AgeGroup 30-39',\n",
              " 'AgeGroup 40-49',\n",
              " 'AgeGroup 50-59',\n",
              " 'AgeGroup 60-69',\n",
              " 'AgeGroup 70-79',\n",
              " 'Menopause lt40',\n",
              " 'Menopause premeno',\n",
              " 'TumorSize 10-14',\n",
              " 'TumorSize 15-19',\n",
              " 'TumorSize 20-24',\n",
              " 'TumorSize 25-29',\n",
              " 'TumorSize 30-34',\n",
              " 'TumorSize 35-39',\n",
              " 'TumorSize 40-44',\n",
              " 'TumorSize 45-49',\n",
              " 'TumorSize 5-9',\n",
              " 'TumorSize 50-54',\n",
              " 'InvNodes 12-14',\n",
              " 'InvNodes 15-17',\n",
              " 'InvNodes 24-26',\n",
              " 'InvNodes 3-5',\n",
              " 'InvNodes 6-8',\n",
              " 'InvNodes 9-11',\n",
              " 'NodeCaps no',\n",
              " 'NodeCaps yes',\n",
              " 'Breast right',\n",
              " 'Quadrant central',\n",
              " 'Quadrant left_low',\n",
              " 'Quadrant left_up',\n",
              " 'Quadrant right_low',\n",
              " 'Quadrant right_up',\n",
              " 'Radiation yes']"
            ]
          },
          "metadata": {
            "tags": []
          },
          "execution_count": 69
        }
      ]
    },
    {
      "cell_type": "code",
      "metadata": {
        "colab": {
          "base_uri": "https://localhost:8080/"
        },
        "id": "xqRoubraVUgp",
        "outputId": "d0b0ee58-cb21-494d-f16b-feae40dced02"
      },
      "source": [
        "print(gs_lr.classes_)\n",
        "print(gs_lr.best_estimator_.steps[0][1].classes_)\n",
        "print(gs_lr.best_estimator_.steps[0][1].coef_)\n"
      ],
      "execution_count": 73,
      "outputs": [
        {
          "output_type": "stream",
          "text": [
            "['no-recurrence-events' 'recurrence-events']\n",
            "['no-recurrence-events' 'recurrence-events']\n",
            "[[ 0.43489439  0.24686708  0.         -0.08758595  0.3334814   0.05456892\n",
            "   0.01962817  0.156116   -0.36961002 -0.03372987  0.          0.\n",
            "   0.12806606  0.01363856 -0.04754245 -0.0137314  -0.17328879  0.05735646\n",
            "   0.09547306  0.10976358  0.          0.25799734  0.07111294  0.19625926\n",
            "   0.          0.27894897 -0.1540635  -0.01600436  0.10271274  0.\n",
            "   0.          0.1748466   0.14279906]]\n"
          ],
          "name": "stdout"
        }
      ]
    },
    {
      "cell_type": "code",
      "metadata": {
        "colab": {
          "base_uri": "https://localhost:8080/",
          "height": 1000
        },
        "id": "uOWsmmqI6ilB",
        "outputId": "dddbc0ea-466e-4d2a-b4d1-f073b2edcdbc"
      },
      "source": [
        "classes = gs_lr.best_estimator_.steps[0][1].classes_\n",
        "\n",
        "coefs = gs_lr.best_estimator_.steps[0][1].coef_\n",
        "\n",
        "Feature = X.columns\n",
        "\n",
        "coefs_df = pd.DataFrame(coefs[0], Feature, columns=['coef']).sort_values(by='coef', ascending=False)\n",
        "\n",
        "coefs_df = coefs_df.reset_index()\n",
        "\n",
        "coefs_df.rename(columns={'index':'features'}, inplace=True)\n",
        "\n",
        "coefs_df"
      ],
      "execution_count": 101,
      "outputs": [
        {
          "output_type": "execute_result",
          "data": {
            "text/html": [
              "<div>\n",
              "<style scoped>\n",
              "    .dataframe tbody tr th:only-of-type {\n",
              "        vertical-align: middle;\n",
              "    }\n",
              "\n",
              "    .dataframe tbody tr th {\n",
              "        vertical-align: top;\n",
              "    }\n",
              "\n",
              "    .dataframe thead th {\n",
              "        text-align: right;\n",
              "    }\n",
              "</style>\n",
              "<table border=\"1\" class=\"dataframe\">\n",
              "  <thead>\n",
              "    <tr style=\"text-align: right;\">\n",
              "      <th></th>\n",
              "      <th>features</th>\n",
              "      <th>coef</th>\n",
              "    </tr>\n",
              "  </thead>\n",
              "  <tbody>\n",
              "    <tr>\n",
              "      <th>0</th>\n",
              "      <td>DegMalig</td>\n",
              "      <td>0.434894</td>\n",
              "    </tr>\n",
              "    <tr>\n",
              "      <th>1</th>\n",
              "      <td>AgeGroup 60-69</td>\n",
              "      <td>0.333481</td>\n",
              "    </tr>\n",
              "    <tr>\n",
              "      <th>2</th>\n",
              "      <td>NodeCaps yes</td>\n",
              "      <td>0.278949</td>\n",
              "    </tr>\n",
              "    <tr>\n",
              "      <th>3</th>\n",
              "      <td>InvNodes 3-5</td>\n",
              "      <td>0.257997</td>\n",
              "    </tr>\n",
              "    <tr>\n",
              "      <th>4</th>\n",
              "      <td>AgeGroup 30-39</td>\n",
              "      <td>0.246867</td>\n",
              "    </tr>\n",
              "    <tr>\n",
              "      <th>5</th>\n",
              "      <td>InvNodes 9-11</td>\n",
              "      <td>0.196259</td>\n",
              "    </tr>\n",
              "    <tr>\n",
              "      <th>6</th>\n",
              "      <td>Quadrant right_up</td>\n",
              "      <td>0.174847</td>\n",
              "    </tr>\n",
              "    <tr>\n",
              "      <th>7</th>\n",
              "      <td>Menopause premeno</td>\n",
              "      <td>0.156116</td>\n",
              "    </tr>\n",
              "    <tr>\n",
              "      <th>8</th>\n",
              "      <td>Radiation yes</td>\n",
              "      <td>0.142799</td>\n",
              "    </tr>\n",
              "    <tr>\n",
              "      <th>9</th>\n",
              "      <td>TumorSize 30-34</td>\n",
              "      <td>0.128066</td>\n",
              "    </tr>\n",
              "    <tr>\n",
              "      <th>10</th>\n",
              "      <td>InvNodes 15-17</td>\n",
              "      <td>0.109764</td>\n",
              "    </tr>\n",
              "    <tr>\n",
              "      <th>11</th>\n",
              "      <td>Quadrant left_low</td>\n",
              "      <td>0.102713</td>\n",
              "    </tr>\n",
              "    <tr>\n",
              "      <th>12</th>\n",
              "      <td>InvNodes 12-14</td>\n",
              "      <td>0.095473</td>\n",
              "    </tr>\n",
              "    <tr>\n",
              "      <th>13</th>\n",
              "      <td>InvNodes 6-8</td>\n",
              "      <td>0.071113</td>\n",
              "    </tr>\n",
              "    <tr>\n",
              "      <th>14</th>\n",
              "      <td>TumorSize 50-54</td>\n",
              "      <td>0.057356</td>\n",
              "    </tr>\n",
              "    <tr>\n",
              "      <th>15</th>\n",
              "      <td>AgeGroup 70-79</td>\n",
              "      <td>0.054569</td>\n",
              "    </tr>\n",
              "    <tr>\n",
              "      <th>16</th>\n",
              "      <td>Menopause lt40</td>\n",
              "      <td>0.019628</td>\n",
              "    </tr>\n",
              "    <tr>\n",
              "      <th>17</th>\n",
              "      <td>TumorSize 35-39</td>\n",
              "      <td>0.013639</td>\n",
              "    </tr>\n",
              "    <tr>\n",
              "      <th>18</th>\n",
              "      <td>AgeGroup 40-49</td>\n",
              "      <td>0.000000</td>\n",
              "    </tr>\n",
              "    <tr>\n",
              "      <th>19</th>\n",
              "      <td>Quadrant right_low</td>\n",
              "      <td>0.000000</td>\n",
              "    </tr>\n",
              "    <tr>\n",
              "      <th>20</th>\n",
              "      <td>TumorSize 25-29</td>\n",
              "      <td>0.000000</td>\n",
              "    </tr>\n",
              "    <tr>\n",
              "      <th>21</th>\n",
              "      <td>InvNodes 24-26</td>\n",
              "      <td>0.000000</td>\n",
              "    </tr>\n",
              "    <tr>\n",
              "      <th>22</th>\n",
              "      <td>TumorSize 20-24</td>\n",
              "      <td>0.000000</td>\n",
              "    </tr>\n",
              "    <tr>\n",
              "      <th>23</th>\n",
              "      <td>NodeCaps no</td>\n",
              "      <td>0.000000</td>\n",
              "    </tr>\n",
              "    <tr>\n",
              "      <th>24</th>\n",
              "      <td>Quadrant left_up</td>\n",
              "      <td>0.000000</td>\n",
              "    </tr>\n",
              "    <tr>\n",
              "      <th>25</th>\n",
              "      <td>TumorSize 45-49</td>\n",
              "      <td>-0.013731</td>\n",
              "    </tr>\n",
              "    <tr>\n",
              "      <th>26</th>\n",
              "      <td>Quadrant central</td>\n",
              "      <td>-0.016004</td>\n",
              "    </tr>\n",
              "    <tr>\n",
              "      <th>27</th>\n",
              "      <td>TumorSize 15-19</td>\n",
              "      <td>-0.033730</td>\n",
              "    </tr>\n",
              "    <tr>\n",
              "      <th>28</th>\n",
              "      <td>TumorSize 40-44</td>\n",
              "      <td>-0.047542</td>\n",
              "    </tr>\n",
              "    <tr>\n",
              "      <th>29</th>\n",
              "      <td>AgeGroup 50-59</td>\n",
              "      <td>-0.087586</td>\n",
              "    </tr>\n",
              "    <tr>\n",
              "      <th>30</th>\n",
              "      <td>Breast right</td>\n",
              "      <td>-0.154063</td>\n",
              "    </tr>\n",
              "    <tr>\n",
              "      <th>31</th>\n",
              "      <td>TumorSize 5-9</td>\n",
              "      <td>-0.173289</td>\n",
              "    </tr>\n",
              "    <tr>\n",
              "      <th>32</th>\n",
              "      <td>TumorSize 10-14</td>\n",
              "      <td>-0.369610</td>\n",
              "    </tr>\n",
              "  </tbody>\n",
              "</table>\n",
              "</div>"
            ],
            "text/plain": [
              "              features      coef\n",
              "0             DegMalig  0.434894\n",
              "1       AgeGroup 60-69  0.333481\n",
              "2         NodeCaps yes  0.278949\n",
              "3         InvNodes 3-5  0.257997\n",
              "4       AgeGroup 30-39  0.246867\n",
              "5        InvNodes 9-11  0.196259\n",
              "6    Quadrant right_up  0.174847\n",
              "7    Menopause premeno  0.156116\n",
              "8        Radiation yes  0.142799\n",
              "9      TumorSize 30-34  0.128066\n",
              "10      InvNodes 15-17  0.109764\n",
              "11   Quadrant left_low  0.102713\n",
              "12      InvNodes 12-14  0.095473\n",
              "13        InvNodes 6-8  0.071113\n",
              "14     TumorSize 50-54  0.057356\n",
              "15      AgeGroup 70-79  0.054569\n",
              "16      Menopause lt40  0.019628\n",
              "17     TumorSize 35-39  0.013639\n",
              "18      AgeGroup 40-49  0.000000\n",
              "19  Quadrant right_low  0.000000\n",
              "20     TumorSize 25-29  0.000000\n",
              "21      InvNodes 24-26  0.000000\n",
              "22     TumorSize 20-24  0.000000\n",
              "23         NodeCaps no  0.000000\n",
              "24    Quadrant left_up  0.000000\n",
              "25     TumorSize 45-49 -0.013731\n",
              "26    Quadrant central -0.016004\n",
              "27     TumorSize 15-19 -0.033730\n",
              "28     TumorSize 40-44 -0.047542\n",
              "29      AgeGroup 50-59 -0.087586\n",
              "30        Breast right -0.154063\n",
              "31       TumorSize 5-9 -0.173289\n",
              "32     TumorSize 10-14 -0.369610"
            ]
          },
          "metadata": {
            "tags": []
          },
          "execution_count": 101
        }
      ]
    },
    {
      "cell_type": "code",
      "metadata": {
        "colab": {
          "base_uri": "https://localhost:8080/",
          "height": 660
        },
        "id": "nOWqszRWonvj",
        "outputId": "af596dbc-c49c-4247-b09a-2be00a624cb1"
      },
      "source": [
        "plt.figure(figsize=(18,8))\n",
        "sns.barplot(x='features', y='coef', data=coefs_df)\n",
        "plt.xticks(rotation=90)"
      ],
      "execution_count": 114,
      "outputs": [
        {
          "output_type": "execute_result",
          "data": {
            "text/plain": [
              "(array([ 0,  1,  2,  3,  4,  5,  6,  7,  8,  9, 10, 11, 12, 13, 14, 15, 16,\n",
              "        17, 18, 19, 20, 21, 22, 23, 24, 25, 26, 27, 28, 29, 30, 31, 32]),\n",
              " <a list of 33 Text major ticklabel objects>)"
            ]
          },
          "metadata": {
            "tags": []
          },
          "execution_count": 114
        },
        {
          "output_type": "display_data",
          "data": {
            "image/png": "[encoded data removed]",
            "text/plain": [
              "<Figure size 1296x576 with 1 Axes>"
            ]
          },
          "metadata": {
            "tags": []
          }
        }
      ]
    },
    {
      "cell_type": "code",
      "metadata": {
        "id": "d9ws_PAdgZjq"
      },
      "source": [
        "def coef_plot(category):\n",
        "\n",
        "  coefs_1 = coefs_df.sort_values(by='coef', ascending=False).head(10)\n",
        "\n",
        "  coefs_2 = coefs_df.sort_values(by='coef', ascending=False).tail(10)\n",
        "\n",
        "  coefs = pd.concat([coefs_1, coefs_2], axis = 0)\n",
        "\n",
        "  plt.figure(figsize=(10, 10))\n",
        "  plt.title(f'Feature Coefficient for {category.title()} Predictors', fontsize = 10)\n",
        "  sns.set_style('darkgrid')\n",
        "  sns.barplot(data = coefs, \n",
        "              x = 'coef', \n",
        "              y = 'features', \n",
        "              orient = 'h', \n",
        "              palette = 'mako_r')\n",
        "  plt.xlabel('coefficient', fontsize = 10)\n",
        "  plt.ylabel('keys', fontsize = 10)\n",
        "  plt.tick_params(labelsize = 10)"
      ],
      "execution_count": 115,
      "outputs": []
    },
    {
      "cell_type": "code",
      "metadata": {
        "colab": {
          "base_uri": "https://localhost:8080/",
          "height": 622
        },
        "id": "TiNXPQQeh854",
        "outputId": "53d8f2eb-8ee7-46a5-cb87-09a1362cf032"
      },
      "source": [
        "coef_plot('recurrence-events')"
      ],
      "execution_count": 116,
      "outputs": [
        {
          "output_type": "display_data",
          "data": {
            "image/png": "[encoded data removed]",
            "text/plain": [
              "<Figure size 720x720 with 1 Axes>"
            ]
          },
          "metadata": {
            "tags": []
          }
        }
      ]
    },
    {
      "cell_type": "code",
      "metadata": {
        "colab": {
          "base_uri": "https://localhost:8080/",
          "height": 622
        },
        "id": "I9dqf4YEqlXE",
        "outputId": "e9434261-923f-4b40-c010-5d9b99c7caa5"
      },
      "source": [
        "coef_plot('no-reccurrence-events')"
      ],
      "execution_count": 117,
      "outputs": [
        {
          "output_type": "display_data",
          "data": {
            "image/png": "[encoded data removed]",
            "text/plain": [
              "<Figure size 720x720 with 1 Axes>"
            ]
          },
          "metadata": {
            "tags": []
          }
        }
      ]
    },
    {
      "cell_type": "code",
      "metadata": {
        "id": "4kdHWFxsuraF"
      },
      "source": [
        "classes = gs_lr.best_estimator_.steps[0][1].classes_\n",
        "\n",
        "odds = np.exp(gs_lr.best_estimator_.steps[0][1].coef_)\n",
        "\n",
        "coefs_df = pd.DataFrame(odds[0], X.columns, columns=['coef']).sort_values(by='coef', ascending=False)\n",
        "\n",
        "coefs_df\n",
        "\n",
        "# Now, this makes sense\n",
        "# It can be explained as follows\n",
        "# \"For every one-unit increase in X variable, the odds that the observations is in y class are 'coefficient' times as large as the odds that \n",
        "#...  the observation is not in y class when all other variables are held constant\"\n",
        "\n",
        "# So in this case, the more the patient belongs to AgeGroup 60-69, the odds of breast cancer recurrence are over 1.39x larger than the odds that breast cancer will not reoccur\n",
        "# On the hand, if the patient has a TumorSize 10-14, the odds of cancer recurrence are only 0.69.\n",
        "# For odds less than 1 or negative coeffs, we can take the 1/odds to make even better sense of them. \n",
        "# So as the TumorSize increases by 1, the odds that the cancer does not reoccur are 1/0.69 as likely as the odds that it is in the target class.\n",
        "\n",
        "######## Need to recheck"
      ],
      "execution_count": null,
      "outputs": []
    }
  ]
}