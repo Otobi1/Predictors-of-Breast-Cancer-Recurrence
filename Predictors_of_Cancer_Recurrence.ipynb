{
  "nbformat": 4,
  "nbformat_minor": 0,
  "metadata": {
    "colab": {
      "name": "Predictors of Cancer Recurrence",
      "provenance": [],
      "authorship_tag": "ABX9TyPknkZ0mKBsiYkEKPgAjJAs",
      "include_colab_link": true
    },
    "kernelspec": {
      "name": "python3",
      "display_name": "Python 3"
    },
    "language_info": {
      "name": "python"
    }
  },
  "cells": [
    {
      "cell_type": "markdown",
      "metadata": {
        "id": "view-in-github",
        "colab_type": "text"
      },
      "source": [
        "<a href=\"https://colab.research.google.com/github/Otobi1/Predictors-of-Breast-Cancer-Recurrence/blob/master/Predictors_of_Cancer_Recurrence.ipynb\" target=\"_parent\"><img src=\"https://colab.research.google.com/assets/colab-badge.svg\" alt=\"Open In Colab\"/></a>"
      ]
    },
    {
      "cell_type": "code",
      "metadata": {
        "id": "lrq1F4oQ4zEO",
        "colab": {
          "base_uri": "https://localhost:8080/"
        },
        "outputId": "3e0d4b0d-c03d-46d3-e7c3-9b6c95f27cc1"
      },
      "source": [
        "# Importing the necessary libraries \n",
        "\n",
        "import numpy as np\n",
        "import pandas as pd\n",
        "import matplotlib.pyplot as plt\n",
        "from pandas.plotting import scatter_matrix\n",
        "import seaborn as sns\n",
        "import collections\n",
        "from sklearn.pipeline import Pipeline\n",
        "from sklearn.model_selection import cross_val_score, train_test_split, GridSearchCV\n",
        "from sklearn.linear_model import LogisticRegression\n",
        "from sklearn.naive_bayes import MultinomialNB, GaussianNB\n",
        "from sklearn.neighbors import KNeighborsClassifier\n",
        "from sklearn.svm import SVC\n",
        "from sklearn.ensemble import BaggingClassifier, RandomForestClassifier, ExtraTreesClassifier, GradientBoostingClassifier, AdaBoostClassifier, VotingClassifier\n",
        "from sklearn.tree import DecisionTreeClassifier\n",
        "from sklearn.metrics import confusion_matrix, classification_report, accuracy_score\n",
        "from sklearn.preprocessing import StandardScaler, MinMaxScaler, LabelBinarizer\n",
        " \n",
        "import warnings\n",
        "warnings.filterwarnings('ignore')\n",
        "\n",
        "print ('Libraries successfully imported!')"
      ],
      "execution_count": 1,
      "outputs": [
        {
          "output_type": "stream",
          "text": [
            "Libraries successfully imported!\n"
          ],
          "name": "stdout"
        }
      ]
    },
    {
      "cell_type": "code",
      "metadata": {
        "colab": {
          "base_uri": "https://localhost:8080/"
        },
        "id": "_kj750-e4j5e",
        "outputId": "913c0b95-4de5-4bc7-9286-ed0ad8184847"
      },
      "source": [
        "# Downloading the data directly from the Repo - http://archive.ics.uci.edu/ml/datasets/Breast+Cancer\n",
        "\n",
        "!wget http://archive.ics.uci.edu/ml/machine-learning-databases/breast-cancer/breast-cancer.data"
      ],
      "execution_count": 2,
      "outputs": [
        {
          "output_type": "stream",
          "text": [
            "--2021-04-25 14:54:18--  http://archive.ics.uci.edu/ml/machine-learning-databases/breast-cancer/breast-cancer.data\n",
            "Resolving archive.ics.uci.edu (archive.ics.uci.edu)... 128.195.10.252\n",
            "Connecting to archive.ics.uci.edu (archive.ics.uci.edu)|128.195.10.252|:80... connected.\n",
            "HTTP request sent, awaiting response... 200 OK\n",
            "Length: 18654 (18K) [application/x-httpd-php]\n",
            "Saving to: ‘breast-cancer.data.2’\n",
            "\n",
            "breast-cancer.data. 100%[===================>]  18.22K  --.-KB/s    in 0.06s   \n",
            "\n",
            "2021-04-25 14:54:19 (286 KB/s) - ‘breast-cancer.data.2’ saved [18654/18654]\n",
            "\n"
          ],
          "name": "stdout"
        }
      ]
    },
    {
      "cell_type": "code",
      "metadata": {
        "id": "pQZ5r-0o4r77"
      },
      "source": [
        "# Naming the feature columns, originally unnamed\n",
        "# The meaning of each feature is detailed here on pg 2 https://www.causeweb.org/usproc/sites/default/files/usclap/2018-1/Predictors_for_Breast_Cancer_Recurrence.pdf\n",
        "\n",
        "df = pd.read_csv('breast-cancer.data', sep=',', names=['RecClass', 'Age', 'Menopause',\n",
        "                                                       'TumorSize', 'InvNodes', 'NodeCaps',\n",
        "                                                       'DegMalig', 'Breast', 'Quadrant', 'Radiation']) \n",
        "\n",
        "# Shuffle data \n",
        "\n",
        "df = df.sample(frac = 1).reset_index(drop = True) \n",
        "\n",
        "# Make a copy of the data\n",
        "\n",
        "data = df.copy()"
      ],
      "execution_count": 3,
      "outputs": []
    },
    {
      "cell_type": "code",
      "metadata": {
        "colab": {
          "base_uri": "https://localhost:8080/",
          "height": 202
        },
        "id": "73nSVgU35F9g",
        "outputId": "8485fcdc-a4f3-40c0-c6b9-91eacf0fb7be"
      },
      "source": [
        "# Exploring the first few observations \n",
        "\n",
        "data.head()"
      ],
      "execution_count": 4,
      "outputs": [
        {
          "output_type": "execute_result",
          "data": {
            "text/html": [
              "<div>\n",
              "<style scoped>\n",
              "    .dataframe tbody tr th:only-of-type {\n",
              "        vertical-align: middle;\n",
              "    }\n",
              "\n",
              "    .dataframe tbody tr th {\n",
              "        vertical-align: top;\n",
              "    }\n",
              "\n",
              "    .dataframe thead th {\n",
              "        text-align: right;\n",
              "    }\n",
              "</style>\n",
              "<table border=\"1\" class=\"dataframe\">\n",
              "  <thead>\n",
              "    <tr style=\"text-align: right;\">\n",
              "      <th></th>\n",
              "      <th>RecClass</th>\n",
              "      <th>Age</th>\n",
              "      <th>Menopause</th>\n",
              "      <th>TumorSize</th>\n",
              "      <th>InvNodes</th>\n",
              "      <th>NodeCaps</th>\n",
              "      <th>DegMalig</th>\n",
              "      <th>Breast</th>\n",
              "      <th>Quadrant</th>\n",
              "      <th>Radiation</th>\n",
              "    </tr>\n",
              "  </thead>\n",
              "  <tbody>\n",
              "    <tr>\n",
              "      <th>0</th>\n",
              "      <td>no-recurrence-events</td>\n",
              "      <td>40-49</td>\n",
              "      <td>premeno</td>\n",
              "      <td>30-34</td>\n",
              "      <td>0-2</td>\n",
              "      <td>no</td>\n",
              "      <td>1</td>\n",
              "      <td>left</td>\n",
              "      <td>left_low</td>\n",
              "      <td>no</td>\n",
              "    </tr>\n",
              "    <tr>\n",
              "      <th>1</th>\n",
              "      <td>recurrence-events</td>\n",
              "      <td>40-49</td>\n",
              "      <td>premeno</td>\n",
              "      <td>25-29</td>\n",
              "      <td>0-2</td>\n",
              "      <td>no</td>\n",
              "      <td>2</td>\n",
              "      <td>left</td>\n",
              "      <td>left_low</td>\n",
              "      <td>yes</td>\n",
              "    </tr>\n",
              "    <tr>\n",
              "      <th>2</th>\n",
              "      <td>no-recurrence-events</td>\n",
              "      <td>40-49</td>\n",
              "      <td>premeno</td>\n",
              "      <td>25-29</td>\n",
              "      <td>0-2</td>\n",
              "      <td>no</td>\n",
              "      <td>1</td>\n",
              "      <td>right</td>\n",
              "      <td>right_low</td>\n",
              "      <td>no</td>\n",
              "    </tr>\n",
              "    <tr>\n",
              "      <th>3</th>\n",
              "      <td>no-recurrence-events</td>\n",
              "      <td>70-79</td>\n",
              "      <td>ge40</td>\n",
              "      <td>10-14</td>\n",
              "      <td>0-2</td>\n",
              "      <td>no</td>\n",
              "      <td>2</td>\n",
              "      <td>left</td>\n",
              "      <td>central</td>\n",
              "      <td>no</td>\n",
              "    </tr>\n",
              "    <tr>\n",
              "      <th>4</th>\n",
              "      <td>no-recurrence-events</td>\n",
              "      <td>60-69</td>\n",
              "      <td>ge40</td>\n",
              "      <td>10-14</td>\n",
              "      <td>0-2</td>\n",
              "      <td>no</td>\n",
              "      <td>1</td>\n",
              "      <td>right</td>\n",
              "      <td>left_low</td>\n",
              "      <td>no</td>\n",
              "    </tr>\n",
              "  </tbody>\n",
              "</table>\n",
              "</div>"
            ],
            "text/plain": [
              "               RecClass    Age Menopause  ... Breast   Quadrant Radiation\n",
              "0  no-recurrence-events  40-49   premeno  ...   left   left_low        no\n",
              "1     recurrence-events  40-49   premeno  ...   left   left_low       yes\n",
              "2  no-recurrence-events  40-49   premeno  ...  right  right_low        no\n",
              "3  no-recurrence-events  70-79      ge40  ...   left    central        no\n",
              "4  no-recurrence-events  60-69      ge40  ...  right   left_low        no\n",
              "\n",
              "[5 rows x 10 columns]"
            ]
          },
          "metadata": {
            "tags": []
          },
          "execution_count": 4
        }
      ]
    },
    {
      "cell_type": "code",
      "metadata": {
        "colab": {
          "base_uri": "https://localhost:8080/"
        },
        "id": "i_pxeRJdCz6i",
        "outputId": "26d92db0-ffa4-4f9e-96f0-942456a36081"
      },
      "source": [
        "# Checking the number of observations and features\n",
        "\n",
        "data.shape"
      ],
      "execution_count": 5,
      "outputs": [
        {
          "output_type": "execute_result",
          "data": {
            "text/plain": [
              "(286, 10)"
            ]
          },
          "metadata": {
            "tags": []
          },
          "execution_count": 5
        }
      ]
    },
    {
      "cell_type": "code",
      "metadata": {
        "colab": {
          "base_uri": "https://localhost:8080/"
        },
        "id": "EV_CxARSC12h",
        "outputId": "da96a3ce-a809-4b55-e974-792481adeab4"
      },
      "source": [
        "# Checking the data type, existence of null cases within the observations\n",
        "\n",
        "data.info()"
      ],
      "execution_count": 6,
      "outputs": [
        {
          "output_type": "stream",
          "text": [
            "<class 'pandas.core.frame.DataFrame'>\n",
            "RangeIndex: 286 entries, 0 to 285\n",
            "Data columns (total 10 columns):\n",
            " #   Column     Non-Null Count  Dtype \n",
            "---  ------     --------------  ----- \n",
            " 0   RecClass   286 non-null    object\n",
            " 1   Age        286 non-null    object\n",
            " 2   Menopause  286 non-null    object\n",
            " 3   TumorSize  286 non-null    object\n",
            " 4   InvNodes   286 non-null    object\n",
            " 5   NodeCaps   286 non-null    object\n",
            " 6   DegMalig   286 non-null    int64 \n",
            " 7   Breast     286 non-null    object\n",
            " 8   Quadrant   286 non-null    object\n",
            " 9   Radiation  286 non-null    object\n",
            "dtypes: int64(1), object(9)\n",
            "memory usage: 22.5+ KB\n"
          ],
          "name": "stdout"
        }
      ]
    },
    {
      "cell_type": "code",
      "metadata": {
        "id": "EQefr1MAC81-",
        "colab": {
          "base_uri": "https://localhost:8080/"
        },
        "outputId": "7f241576-c7b1-4ac1-e6d0-5254b0f5be25"
      },
      "source": [
        "# Listing out the feature labels \n",
        "\n",
        "data.keys()"
      ],
      "execution_count": 7,
      "outputs": [
        {
          "output_type": "execute_result",
          "data": {
            "text/plain": [
              "Index(['RecClass', 'Age', 'Menopause', 'TumorSize', 'InvNodes', 'NodeCaps',\n",
              "       'DegMalig', 'Breast', 'Quadrant', 'Radiation'],\n",
              "      dtype='object')"
            ]
          },
          "metadata": {
            "tags": []
          },
          "execution_count": 7
        }
      ]
    },
    {
      "cell_type": "code",
      "metadata": {
        "colab": {
          "base_uri": "https://localhost:8080/"
        },
        "id": "nIyn8BntVpmC",
        "outputId": "4e57594c-9afd-4489-948b-54254b24d628"
      },
      "source": [
        "# Exploring the unique classes within each feature\n",
        "# Un-comment each one to check the classes\n",
        "\n",
        "data['Age'].unique()\n",
        "# data['Breast'].unique()\n",
        "# data['DegMalig'].unique()\n",
        "# data['InvNodes'].unique()\n",
        "# data['Menopause'].unique()\n",
        "# data['NodeCaps'].unique()\n",
        "# data['Quadrant'].unique()\n",
        "# data['Radiation'].unique()\n",
        "# data['TumorSize'].unique()\n",
        "# data['RecClass'].unique()"
      ],
      "execution_count": 8,
      "outputs": [
        {
          "output_type": "execute_result",
          "data": {
            "text/plain": [
              "array(['40-49', '70-79', '60-69', '50-59', '30-39', '20-29'], dtype=object)"
            ]
          },
          "metadata": {
            "tags": []
          },
          "execution_count": 8
        }
      ]
    },
    {
      "cell_type": "code",
      "metadata": {
        "id": "agbfcga0p31W"
      },
      "source": [
        "# Creation of dummy variables for the various features and prevention of the dummy variable trap (multicollinearity)\n",
        "\n",
        "# Converting the Age group variable into dummy variables and dropping the first column of the AgeGroup category\n",
        "\n",
        "# Original unique Age group categories '60-69', '40-49', '30-39', '50-59', '70-79', '20-29' (20 - 29 AgeGroup is dropped to prevent Multicollinearity)\n",
        "\n",
        "Age = pd.get_dummies(data['Age'], drop_first=True)\n",
        "\n",
        "data = data.drop('Age', axis=1)\n",
        "\n",
        "Age = Age.add_prefix('AgeGroup ')\n",
        "\n",
        "data = pd.concat([data, Age], axis=1)"
      ],
      "execution_count": 9,
      "outputs": []
    },
    {
      "cell_type": "code",
      "metadata": {
        "id": "A02F3CrKpgeF"
      },
      "source": [
        "# Converting the Menopause variable into dummy variables and dropping the first column of the Menopause category\n",
        "\n",
        "# Original unique Menopause categories 'ge40', 'premeno', 'lt40' (ge40 gets dropped)\n",
        "\n",
        "Menopause = pd.get_dummies(data['Menopause'], drop_first=True)\n",
        "\n",
        "data = data.drop('Menopause', axis=1)\n",
        "\n",
        "Menopause = Menopause.add_prefix('Menopause ')\n",
        "\n",
        "data = pd.concat([data, Menopause], axis=1)"
      ],
      "execution_count": 10,
      "outputs": []
    },
    {
      "cell_type": "code",
      "metadata": {
        "id": "5WlgyNBVrksZ"
      },
      "source": [
        "# Converting the TumorSize variables into dummies and droping the first column \n",
        "\n",
        "# Original unique TumorSize categories '30-34', '15-19', '25-29', '20-24', '0-4', '35-39', '10-14','40-44', '50-54', '45-49', '5-9' (0-4 dropped)\n",
        "\n",
        "TumorSize = pd.get_dummies(data['TumorSize'], drop_first=True)\n",
        "\n",
        "data = data.drop('TumorSize', axis=1)\n",
        "\n",
        "TumorSize = TumorSize.add_prefix('TumorSize ')\n",
        "\n",
        "data = pd.concat([data, TumorSize], axis=1)"
      ],
      "execution_count": 11,
      "outputs": []
    },
    {
      "cell_type": "code",
      "metadata": {
        "id": "oakB4R33saKQ"
      },
      "source": [
        "# Converting the InvNodes variables into dummies and droping the first column \n",
        "\n",
        "# Original unique InvNodes categories '0-2', '12-14', '3-5', '15-17', '6-8', '9-11', '24-26' (0-2 dropped)\n",
        "\n",
        "InvNodes = pd.get_dummies(data['InvNodes'], drop_first=True)\n",
        "\n",
        "data = data.drop('InvNodes', axis=1)\n",
        "\n",
        "InvNodes = InvNodes.add_prefix('InvNodes ')\n",
        "\n",
        "data = pd.concat([data, InvNodes], axis=1)"
      ],
      "execution_count": 12,
      "outputs": []
    },
    {
      "cell_type": "code",
      "metadata": {
        "id": "W1D8v6DKsykx"
      },
      "source": [
        "# Converting the NodeCaps variables into dummies and droping the first column \n",
        "\n",
        "# Original unique NodeCaps categories 'no', 'yes', '? (freaking ? dropped, nice)\n",
        "\n",
        "NodeCaps = pd.get_dummies(data['NodeCaps'], drop_first=True)\n",
        "\n",
        "data = data.drop('NodeCaps', axis=1)\n",
        "\n",
        "NodeCaps = NodeCaps.add_prefix('NodeCaps ')\n",
        "\n",
        "data = pd.concat([data, NodeCaps], axis=1)"
      ],
      "execution_count": 13,
      "outputs": []
    },
    {
      "cell_type": "code",
      "metadata": {
        "id": "Osy1hhQHtnni"
      },
      "source": [
        "# Converting the Breast variables into dummies and droping the first column \n",
        "\n",
        "# Original unique Breast categories 'left', 'right', (left dropped)\n",
        "\n",
        "Breast = pd.get_dummies(data['Breast'], drop_first=True)\n",
        "\n",
        "data = data.drop('Breast', axis=1)\n",
        "\n",
        "Breast = Breast.add_prefix('Breast ')\n",
        "\n",
        "data = pd.concat([data, Breast], axis=1)"
      ],
      "execution_count": 14,
      "outputs": []
    },
    {
      "cell_type": "code",
      "metadata": {
        "id": "ETw6D1iduJgL"
      },
      "source": [
        "# Converting the Quadrant variables into dummies and droping the first column \n",
        "\n",
        "# Original unique Quadrant categories 'left_low', 'right_low', 'central', 'left_up', 'right_up', '?' (freaking ? dropped again, nice)\n",
        "\n",
        "Quadrant = pd.get_dummies(data['Quadrant'], drop_first=True)\n",
        "\n",
        "data = data.drop('Quadrant', axis=1)\n",
        "\n",
        "Quadrant = Quadrant.add_prefix('Quadrant ')\n",
        "\n",
        "data = pd.concat([data, Quadrant], axis=1)"
      ],
      "execution_count": 15,
      "outputs": []
    },
    {
      "cell_type": "code",
      "metadata": {
        "id": "UjLmgjQWu0Iu"
      },
      "source": [
        "# Converting the Radiation variables into dummies and droping the first column \n",
        "\n",
        "# Original unique Radiation categories 'no', 'yes' (no dropped)\n",
        "\n",
        "Radiation = pd.get_dummies(data['Radiation'], drop_first=True)\n",
        "\n",
        "data = data.drop('Radiation', axis=1)\n",
        "\n",
        "Radiation = Radiation.add_prefix('Radiation ')\n",
        "\n",
        "data = pd.concat([data, Radiation], axis=1)"
      ],
      "execution_count": 16,
      "outputs": []
    },
    {
      "cell_type": "code",
      "metadata": {
        "colab": {
          "base_uri": "https://localhost:8080/",
          "height": 1000
        },
        "id": "5_yn0VxCZHzM",
        "outputId": "85f47338-0771-401d-cf8a-c68c13982f61"
      },
      "source": [
        "# Checking a sample of 20 observations from the dataset\n",
        "\n",
        "data.sample(20)"
      ],
      "execution_count": 17,
      "outputs": [
        {
          "output_type": "execute_result",
          "data": {
            "text/html": [
              "<div>\n",
              "<style scoped>\n",
              "    .dataframe tbody tr th:only-of-type {\n",
              "        vertical-align: middle;\n",
              "    }\n",
              "\n",
              "    .dataframe tbody tr th {\n",
              "        vertical-align: top;\n",
              "    }\n",
              "\n",
              "    .dataframe thead th {\n",
              "        text-align: right;\n",
              "    }\n",
              "</style>\n",
              "<table border=\"1\" class=\"dataframe\">\n",
              "  <thead>\n",
              "    <tr style=\"text-align: right;\">\n",
              "      <th></th>\n",
              "      <th>RecClass</th>\n",
              "      <th>DegMalig</th>\n",
              "      <th>AgeGroup 30-39</th>\n",
              "      <th>AgeGroup 40-49</th>\n",
              "      <th>AgeGroup 50-59</th>\n",
              "      <th>AgeGroup 60-69</th>\n",
              "      <th>AgeGroup 70-79</th>\n",
              "      <th>Menopause lt40</th>\n",
              "      <th>Menopause premeno</th>\n",
              "      <th>TumorSize 10-14</th>\n",
              "      <th>TumorSize 15-19</th>\n",
              "      <th>TumorSize 20-24</th>\n",
              "      <th>TumorSize 25-29</th>\n",
              "      <th>TumorSize 30-34</th>\n",
              "      <th>TumorSize 35-39</th>\n",
              "      <th>TumorSize 40-44</th>\n",
              "      <th>TumorSize 45-49</th>\n",
              "      <th>TumorSize 5-9</th>\n",
              "      <th>TumorSize 50-54</th>\n",
              "      <th>InvNodes 12-14</th>\n",
              "      <th>InvNodes 15-17</th>\n",
              "      <th>InvNodes 24-26</th>\n",
              "      <th>InvNodes 3-5</th>\n",
              "      <th>InvNodes 6-8</th>\n",
              "      <th>InvNodes 9-11</th>\n",
              "      <th>NodeCaps no</th>\n",
              "      <th>NodeCaps yes</th>\n",
              "      <th>Breast right</th>\n",
              "      <th>Quadrant central</th>\n",
              "      <th>Quadrant left_low</th>\n",
              "      <th>Quadrant left_up</th>\n",
              "      <th>Quadrant right_low</th>\n",
              "      <th>Quadrant right_up</th>\n",
              "      <th>Radiation yes</th>\n",
              "    </tr>\n",
              "  </thead>\n",
              "  <tbody>\n",
              "    <tr>\n",
              "      <th>128</th>\n",
              "      <td>no-recurrence-events</td>\n",
              "      <td>2</td>\n",
              "      <td>0</td>\n",
              "      <td>0</td>\n",
              "      <td>1</td>\n",
              "      <td>0</td>\n",
              "      <td>0</td>\n",
              "      <td>0</td>\n",
              "      <td>1</td>\n",
              "      <td>0</td>\n",
              "      <td>0</td>\n",
              "      <td>0</td>\n",
              "      <td>1</td>\n",
              "      <td>0</td>\n",
              "      <td>0</td>\n",
              "      <td>0</td>\n",
              "      <td>0</td>\n",
              "      <td>0</td>\n",
              "      <td>0</td>\n",
              "      <td>0</td>\n",
              "      <td>0</td>\n",
              "      <td>0</td>\n",
              "      <td>1</td>\n",
              "      <td>0</td>\n",
              "      <td>0</td>\n",
              "      <td>0</td>\n",
              "      <td>1</td>\n",
              "      <td>0</td>\n",
              "      <td>0</td>\n",
              "      <td>1</td>\n",
              "      <td>0</td>\n",
              "      <td>0</td>\n",
              "      <td>0</td>\n",
              "      <td>1</td>\n",
              "    </tr>\n",
              "    <tr>\n",
              "      <th>117</th>\n",
              "      <td>no-recurrence-events</td>\n",
              "      <td>2</td>\n",
              "      <td>0</td>\n",
              "      <td>0</td>\n",
              "      <td>1</td>\n",
              "      <td>0</td>\n",
              "      <td>0</td>\n",
              "      <td>0</td>\n",
              "      <td>1</td>\n",
              "      <td>0</td>\n",
              "      <td>0</td>\n",
              "      <td>0</td>\n",
              "      <td>1</td>\n",
              "      <td>0</td>\n",
              "      <td>0</td>\n",
              "      <td>0</td>\n",
              "      <td>0</td>\n",
              "      <td>0</td>\n",
              "      <td>0</td>\n",
              "      <td>0</td>\n",
              "      <td>0</td>\n",
              "      <td>0</td>\n",
              "      <td>0</td>\n",
              "      <td>0</td>\n",
              "      <td>0</td>\n",
              "      <td>1</td>\n",
              "      <td>0</td>\n",
              "      <td>1</td>\n",
              "      <td>0</td>\n",
              "      <td>0</td>\n",
              "      <td>0</td>\n",
              "      <td>1</td>\n",
              "      <td>0</td>\n",
              "      <td>0</td>\n",
              "    </tr>\n",
              "    <tr>\n",
              "      <th>40</th>\n",
              "      <td>recurrence-events</td>\n",
              "      <td>3</td>\n",
              "      <td>0</td>\n",
              "      <td>0</td>\n",
              "      <td>1</td>\n",
              "      <td>0</td>\n",
              "      <td>0</td>\n",
              "      <td>0</td>\n",
              "      <td>1</td>\n",
              "      <td>0</td>\n",
              "      <td>0</td>\n",
              "      <td>0</td>\n",
              "      <td>0</td>\n",
              "      <td>1</td>\n",
              "      <td>0</td>\n",
              "      <td>0</td>\n",
              "      <td>0</td>\n",
              "      <td>0</td>\n",
              "      <td>0</td>\n",
              "      <td>0</td>\n",
              "      <td>0</td>\n",
              "      <td>0</td>\n",
              "      <td>0</td>\n",
              "      <td>0</td>\n",
              "      <td>0</td>\n",
              "      <td>1</td>\n",
              "      <td>0</td>\n",
              "      <td>0</td>\n",
              "      <td>0</td>\n",
              "      <td>0</td>\n",
              "      <td>0</td>\n",
              "      <td>0</td>\n",
              "      <td>1</td>\n",
              "      <td>0</td>\n",
              "    </tr>\n",
              "    <tr>\n",
              "      <th>39</th>\n",
              "      <td>no-recurrence-events</td>\n",
              "      <td>2</td>\n",
              "      <td>1</td>\n",
              "      <td>0</td>\n",
              "      <td>0</td>\n",
              "      <td>0</td>\n",
              "      <td>0</td>\n",
              "      <td>0</td>\n",
              "      <td>1</td>\n",
              "      <td>0</td>\n",
              "      <td>0</td>\n",
              "      <td>0</td>\n",
              "      <td>1</td>\n",
              "      <td>0</td>\n",
              "      <td>0</td>\n",
              "      <td>0</td>\n",
              "      <td>0</td>\n",
              "      <td>0</td>\n",
              "      <td>0</td>\n",
              "      <td>0</td>\n",
              "      <td>0</td>\n",
              "      <td>0</td>\n",
              "      <td>0</td>\n",
              "      <td>0</td>\n",
              "      <td>0</td>\n",
              "      <td>1</td>\n",
              "      <td>0</td>\n",
              "      <td>0</td>\n",
              "      <td>0</td>\n",
              "      <td>1</td>\n",
              "      <td>0</td>\n",
              "      <td>0</td>\n",
              "      <td>0</td>\n",
              "      <td>0</td>\n",
              "    </tr>\n",
              "    <tr>\n",
              "      <th>186</th>\n",
              "      <td>no-recurrence-events</td>\n",
              "      <td>1</td>\n",
              "      <td>0</td>\n",
              "      <td>0</td>\n",
              "      <td>0</td>\n",
              "      <td>1</td>\n",
              "      <td>0</td>\n",
              "      <td>0</td>\n",
              "      <td>0</td>\n",
              "      <td>0</td>\n",
              "      <td>1</td>\n",
              "      <td>0</td>\n",
              "      <td>0</td>\n",
              "      <td>0</td>\n",
              "      <td>0</td>\n",
              "      <td>0</td>\n",
              "      <td>0</td>\n",
              "      <td>0</td>\n",
              "      <td>0</td>\n",
              "      <td>0</td>\n",
              "      <td>0</td>\n",
              "      <td>0</td>\n",
              "      <td>0</td>\n",
              "      <td>0</td>\n",
              "      <td>0</td>\n",
              "      <td>1</td>\n",
              "      <td>0</td>\n",
              "      <td>0</td>\n",
              "      <td>0</td>\n",
              "      <td>0</td>\n",
              "      <td>0</td>\n",
              "      <td>1</td>\n",
              "      <td>0</td>\n",
              "      <td>0</td>\n",
              "    </tr>\n",
              "    <tr>\n",
              "      <th>75</th>\n",
              "      <td>no-recurrence-events</td>\n",
              "      <td>2</td>\n",
              "      <td>0</td>\n",
              "      <td>1</td>\n",
              "      <td>0</td>\n",
              "      <td>0</td>\n",
              "      <td>0</td>\n",
              "      <td>0</td>\n",
              "      <td>1</td>\n",
              "      <td>1</td>\n",
              "      <td>0</td>\n",
              "      <td>0</td>\n",
              "      <td>0</td>\n",
              "      <td>0</td>\n",
              "      <td>0</td>\n",
              "      <td>0</td>\n",
              "      <td>0</td>\n",
              "      <td>0</td>\n",
              "      <td>0</td>\n",
              "      <td>0</td>\n",
              "      <td>0</td>\n",
              "      <td>0</td>\n",
              "      <td>0</td>\n",
              "      <td>0</td>\n",
              "      <td>0</td>\n",
              "      <td>1</td>\n",
              "      <td>0</td>\n",
              "      <td>0</td>\n",
              "      <td>0</td>\n",
              "      <td>1</td>\n",
              "      <td>0</td>\n",
              "      <td>0</td>\n",
              "      <td>0</td>\n",
              "      <td>0</td>\n",
              "    </tr>\n",
              "    <tr>\n",
              "      <th>112</th>\n",
              "      <td>recurrence-events</td>\n",
              "      <td>3</td>\n",
              "      <td>0</td>\n",
              "      <td>0</td>\n",
              "      <td>1</td>\n",
              "      <td>0</td>\n",
              "      <td>0</td>\n",
              "      <td>0</td>\n",
              "      <td>0</td>\n",
              "      <td>0</td>\n",
              "      <td>0</td>\n",
              "      <td>0</td>\n",
              "      <td>0</td>\n",
              "      <td>1</td>\n",
              "      <td>0</td>\n",
              "      <td>0</td>\n",
              "      <td>0</td>\n",
              "      <td>0</td>\n",
              "      <td>0</td>\n",
              "      <td>0</td>\n",
              "      <td>0</td>\n",
              "      <td>0</td>\n",
              "      <td>1</td>\n",
              "      <td>0</td>\n",
              "      <td>0</td>\n",
              "      <td>1</td>\n",
              "      <td>0</td>\n",
              "      <td>1</td>\n",
              "      <td>0</td>\n",
              "      <td>0</td>\n",
              "      <td>1</td>\n",
              "      <td>0</td>\n",
              "      <td>0</td>\n",
              "      <td>0</td>\n",
              "    </tr>\n",
              "    <tr>\n",
              "      <th>236</th>\n",
              "      <td>recurrence-events</td>\n",
              "      <td>3</td>\n",
              "      <td>1</td>\n",
              "      <td>0</td>\n",
              "      <td>0</td>\n",
              "      <td>0</td>\n",
              "      <td>0</td>\n",
              "      <td>0</td>\n",
              "      <td>1</td>\n",
              "      <td>0</td>\n",
              "      <td>0</td>\n",
              "      <td>0</td>\n",
              "      <td>0</td>\n",
              "      <td>0</td>\n",
              "      <td>1</td>\n",
              "      <td>0</td>\n",
              "      <td>0</td>\n",
              "      <td>0</td>\n",
              "      <td>0</td>\n",
              "      <td>0</td>\n",
              "      <td>0</td>\n",
              "      <td>0</td>\n",
              "      <td>0</td>\n",
              "      <td>0</td>\n",
              "      <td>1</td>\n",
              "      <td>0</td>\n",
              "      <td>1</td>\n",
              "      <td>0</td>\n",
              "      <td>0</td>\n",
              "      <td>1</td>\n",
              "      <td>0</td>\n",
              "      <td>0</td>\n",
              "      <td>0</td>\n",
              "      <td>0</td>\n",
              "    </tr>\n",
              "    <tr>\n",
              "      <th>108</th>\n",
              "      <td>no-recurrence-events</td>\n",
              "      <td>3</td>\n",
              "      <td>0</td>\n",
              "      <td>0</td>\n",
              "      <td>1</td>\n",
              "      <td>0</td>\n",
              "      <td>0</td>\n",
              "      <td>0</td>\n",
              "      <td>0</td>\n",
              "      <td>0</td>\n",
              "      <td>0</td>\n",
              "      <td>0</td>\n",
              "      <td>0</td>\n",
              "      <td>0</td>\n",
              "      <td>0</td>\n",
              "      <td>1</td>\n",
              "      <td>0</td>\n",
              "      <td>0</td>\n",
              "      <td>0</td>\n",
              "      <td>0</td>\n",
              "      <td>0</td>\n",
              "      <td>0</td>\n",
              "      <td>0</td>\n",
              "      <td>0</td>\n",
              "      <td>0</td>\n",
              "      <td>1</td>\n",
              "      <td>0</td>\n",
              "      <td>1</td>\n",
              "      <td>0</td>\n",
              "      <td>0</td>\n",
              "      <td>1</td>\n",
              "      <td>0</td>\n",
              "      <td>0</td>\n",
              "      <td>0</td>\n",
              "    </tr>\n",
              "    <tr>\n",
              "      <th>3</th>\n",
              "      <td>no-recurrence-events</td>\n",
              "      <td>2</td>\n",
              "      <td>0</td>\n",
              "      <td>0</td>\n",
              "      <td>0</td>\n",
              "      <td>0</td>\n",
              "      <td>1</td>\n",
              "      <td>0</td>\n",
              "      <td>0</td>\n",
              "      <td>1</td>\n",
              "      <td>0</td>\n",
              "      <td>0</td>\n",
              "      <td>0</td>\n",
              "      <td>0</td>\n",
              "      <td>0</td>\n",
              "      <td>0</td>\n",
              "      <td>0</td>\n",
              "      <td>0</td>\n",
              "      <td>0</td>\n",
              "      <td>0</td>\n",
              "      <td>0</td>\n",
              "      <td>0</td>\n",
              "      <td>0</td>\n",
              "      <td>0</td>\n",
              "      <td>0</td>\n",
              "      <td>1</td>\n",
              "      <td>0</td>\n",
              "      <td>0</td>\n",
              "      <td>1</td>\n",
              "      <td>0</td>\n",
              "      <td>0</td>\n",
              "      <td>0</td>\n",
              "      <td>0</td>\n",
              "      <td>0</td>\n",
              "    </tr>\n",
              "    <tr>\n",
              "      <th>8</th>\n",
              "      <td>no-recurrence-events</td>\n",
              "      <td>1</td>\n",
              "      <td>0</td>\n",
              "      <td>0</td>\n",
              "      <td>0</td>\n",
              "      <td>1</td>\n",
              "      <td>0</td>\n",
              "      <td>1</td>\n",
              "      <td>0</td>\n",
              "      <td>1</td>\n",
              "      <td>0</td>\n",
              "      <td>0</td>\n",
              "      <td>0</td>\n",
              "      <td>0</td>\n",
              "      <td>0</td>\n",
              "      <td>0</td>\n",
              "      <td>0</td>\n",
              "      <td>0</td>\n",
              "      <td>0</td>\n",
              "      <td>0</td>\n",
              "      <td>0</td>\n",
              "      <td>0</td>\n",
              "      <td>0</td>\n",
              "      <td>0</td>\n",
              "      <td>0</td>\n",
              "      <td>1</td>\n",
              "      <td>0</td>\n",
              "      <td>0</td>\n",
              "      <td>0</td>\n",
              "      <td>0</td>\n",
              "      <td>0</td>\n",
              "      <td>0</td>\n",
              "      <td>1</td>\n",
              "      <td>0</td>\n",
              "    </tr>\n",
              "    <tr>\n",
              "      <th>165</th>\n",
              "      <td>no-recurrence-events</td>\n",
              "      <td>2</td>\n",
              "      <td>0</td>\n",
              "      <td>1</td>\n",
              "      <td>0</td>\n",
              "      <td>0</td>\n",
              "      <td>0</td>\n",
              "      <td>0</td>\n",
              "      <td>1</td>\n",
              "      <td>0</td>\n",
              "      <td>0</td>\n",
              "      <td>0</td>\n",
              "      <td>0</td>\n",
              "      <td>0</td>\n",
              "      <td>0</td>\n",
              "      <td>0</td>\n",
              "      <td>1</td>\n",
              "      <td>0</td>\n",
              "      <td>0</td>\n",
              "      <td>0</td>\n",
              "      <td>0</td>\n",
              "      <td>0</td>\n",
              "      <td>0</td>\n",
              "      <td>0</td>\n",
              "      <td>0</td>\n",
              "      <td>1</td>\n",
              "      <td>0</td>\n",
              "      <td>0</td>\n",
              "      <td>0</td>\n",
              "      <td>1</td>\n",
              "      <td>0</td>\n",
              "      <td>0</td>\n",
              "      <td>0</td>\n",
              "      <td>1</td>\n",
              "    </tr>\n",
              "    <tr>\n",
              "      <th>115</th>\n",
              "      <td>no-recurrence-events</td>\n",
              "      <td>2</td>\n",
              "      <td>0</td>\n",
              "      <td>1</td>\n",
              "      <td>0</td>\n",
              "      <td>0</td>\n",
              "      <td>0</td>\n",
              "      <td>0</td>\n",
              "      <td>1</td>\n",
              "      <td>0</td>\n",
              "      <td>0</td>\n",
              "      <td>0</td>\n",
              "      <td>0</td>\n",
              "      <td>0</td>\n",
              "      <td>0</td>\n",
              "      <td>0</td>\n",
              "      <td>0</td>\n",
              "      <td>0</td>\n",
              "      <td>0</td>\n",
              "      <td>0</td>\n",
              "      <td>0</td>\n",
              "      <td>0</td>\n",
              "      <td>0</td>\n",
              "      <td>0</td>\n",
              "      <td>0</td>\n",
              "      <td>1</td>\n",
              "      <td>0</td>\n",
              "      <td>1</td>\n",
              "      <td>0</td>\n",
              "      <td>0</td>\n",
              "      <td>0</td>\n",
              "      <td>1</td>\n",
              "      <td>0</td>\n",
              "      <td>0</td>\n",
              "    </tr>\n",
              "    <tr>\n",
              "      <th>106</th>\n",
              "      <td>no-recurrence-events</td>\n",
              "      <td>2</td>\n",
              "      <td>0</td>\n",
              "      <td>0</td>\n",
              "      <td>0</td>\n",
              "      <td>1</td>\n",
              "      <td>0</td>\n",
              "      <td>0</td>\n",
              "      <td>0</td>\n",
              "      <td>0</td>\n",
              "      <td>0</td>\n",
              "      <td>0</td>\n",
              "      <td>1</td>\n",
              "      <td>0</td>\n",
              "      <td>0</td>\n",
              "      <td>0</td>\n",
              "      <td>0</td>\n",
              "      <td>0</td>\n",
              "      <td>0</td>\n",
              "      <td>0</td>\n",
              "      <td>0</td>\n",
              "      <td>0</td>\n",
              "      <td>0</td>\n",
              "      <td>0</td>\n",
              "      <td>0</td>\n",
              "      <td>1</td>\n",
              "      <td>0</td>\n",
              "      <td>0</td>\n",
              "      <td>0</td>\n",
              "      <td>1</td>\n",
              "      <td>0</td>\n",
              "      <td>0</td>\n",
              "      <td>0</td>\n",
              "      <td>0</td>\n",
              "    </tr>\n",
              "    <tr>\n",
              "      <th>136</th>\n",
              "      <td>no-recurrence-events</td>\n",
              "      <td>3</td>\n",
              "      <td>0</td>\n",
              "      <td>0</td>\n",
              "      <td>0</td>\n",
              "      <td>1</td>\n",
              "      <td>0</td>\n",
              "      <td>0</td>\n",
              "      <td>0</td>\n",
              "      <td>0</td>\n",
              "      <td>0</td>\n",
              "      <td>0</td>\n",
              "      <td>1</td>\n",
              "      <td>0</td>\n",
              "      <td>0</td>\n",
              "      <td>0</td>\n",
              "      <td>0</td>\n",
              "      <td>0</td>\n",
              "      <td>0</td>\n",
              "      <td>0</td>\n",
              "      <td>0</td>\n",
              "      <td>0</td>\n",
              "      <td>0</td>\n",
              "      <td>0</td>\n",
              "      <td>0</td>\n",
              "      <td>1</td>\n",
              "      <td>0</td>\n",
              "      <td>1</td>\n",
              "      <td>0</td>\n",
              "      <td>1</td>\n",
              "      <td>0</td>\n",
              "      <td>0</td>\n",
              "      <td>0</td>\n",
              "      <td>0</td>\n",
              "    </tr>\n",
              "    <tr>\n",
              "      <th>138</th>\n",
              "      <td>recurrence-events</td>\n",
              "      <td>3</td>\n",
              "      <td>0</td>\n",
              "      <td>0</td>\n",
              "      <td>0</td>\n",
              "      <td>1</td>\n",
              "      <td>0</td>\n",
              "      <td>0</td>\n",
              "      <td>0</td>\n",
              "      <td>0</td>\n",
              "      <td>0</td>\n",
              "      <td>0</td>\n",
              "      <td>1</td>\n",
              "      <td>0</td>\n",
              "      <td>0</td>\n",
              "      <td>0</td>\n",
              "      <td>0</td>\n",
              "      <td>0</td>\n",
              "      <td>0</td>\n",
              "      <td>0</td>\n",
              "      <td>0</td>\n",
              "      <td>0</td>\n",
              "      <td>0</td>\n",
              "      <td>0</td>\n",
              "      <td>0</td>\n",
              "      <td>1</td>\n",
              "      <td>0</td>\n",
              "      <td>0</td>\n",
              "      <td>0</td>\n",
              "      <td>0</td>\n",
              "      <td>1</td>\n",
              "      <td>0</td>\n",
              "      <td>0</td>\n",
              "      <td>0</td>\n",
              "    </tr>\n",
              "    <tr>\n",
              "      <th>145</th>\n",
              "      <td>no-recurrence-events</td>\n",
              "      <td>2</td>\n",
              "      <td>0</td>\n",
              "      <td>1</td>\n",
              "      <td>0</td>\n",
              "      <td>0</td>\n",
              "      <td>0</td>\n",
              "      <td>0</td>\n",
              "      <td>1</td>\n",
              "      <td>0</td>\n",
              "      <td>0</td>\n",
              "      <td>1</td>\n",
              "      <td>0</td>\n",
              "      <td>0</td>\n",
              "      <td>0</td>\n",
              "      <td>0</td>\n",
              "      <td>0</td>\n",
              "      <td>0</td>\n",
              "      <td>0</td>\n",
              "      <td>0</td>\n",
              "      <td>0</td>\n",
              "      <td>0</td>\n",
              "      <td>0</td>\n",
              "      <td>0</td>\n",
              "      <td>0</td>\n",
              "      <td>1</td>\n",
              "      <td>0</td>\n",
              "      <td>0</td>\n",
              "      <td>0</td>\n",
              "      <td>1</td>\n",
              "      <td>0</td>\n",
              "      <td>0</td>\n",
              "      <td>0</td>\n",
              "      <td>0</td>\n",
              "    </tr>\n",
              "    <tr>\n",
              "      <th>76</th>\n",
              "      <td>recurrence-events</td>\n",
              "      <td>2</td>\n",
              "      <td>0</td>\n",
              "      <td>1</td>\n",
              "      <td>0</td>\n",
              "      <td>0</td>\n",
              "      <td>0</td>\n",
              "      <td>0</td>\n",
              "      <td>1</td>\n",
              "      <td>0</td>\n",
              "      <td>0</td>\n",
              "      <td>0</td>\n",
              "      <td>0</td>\n",
              "      <td>1</td>\n",
              "      <td>0</td>\n",
              "      <td>0</td>\n",
              "      <td>0</td>\n",
              "      <td>0</td>\n",
              "      <td>0</td>\n",
              "      <td>0</td>\n",
              "      <td>0</td>\n",
              "      <td>0</td>\n",
              "      <td>1</td>\n",
              "      <td>0</td>\n",
              "      <td>0</td>\n",
              "      <td>0</td>\n",
              "      <td>1</td>\n",
              "      <td>0</td>\n",
              "      <td>0</td>\n",
              "      <td>0</td>\n",
              "      <td>0</td>\n",
              "      <td>0</td>\n",
              "      <td>1</td>\n",
              "      <td>0</td>\n",
              "    </tr>\n",
              "    <tr>\n",
              "      <th>252</th>\n",
              "      <td>no-recurrence-events</td>\n",
              "      <td>3</td>\n",
              "      <td>0</td>\n",
              "      <td>1</td>\n",
              "      <td>0</td>\n",
              "      <td>0</td>\n",
              "      <td>0</td>\n",
              "      <td>0</td>\n",
              "      <td>1</td>\n",
              "      <td>0</td>\n",
              "      <td>0</td>\n",
              "      <td>0</td>\n",
              "      <td>0</td>\n",
              "      <td>1</td>\n",
              "      <td>0</td>\n",
              "      <td>0</td>\n",
              "      <td>0</td>\n",
              "      <td>0</td>\n",
              "      <td>0</td>\n",
              "      <td>0</td>\n",
              "      <td>0</td>\n",
              "      <td>0</td>\n",
              "      <td>0</td>\n",
              "      <td>0</td>\n",
              "      <td>0</td>\n",
              "      <td>1</td>\n",
              "      <td>0</td>\n",
              "      <td>1</td>\n",
              "      <td>0</td>\n",
              "      <td>0</td>\n",
              "      <td>0</td>\n",
              "      <td>0</td>\n",
              "      <td>1</td>\n",
              "      <td>0</td>\n",
              "    </tr>\n",
              "    <tr>\n",
              "      <th>272</th>\n",
              "      <td>no-recurrence-events</td>\n",
              "      <td>2</td>\n",
              "      <td>0</td>\n",
              "      <td>0</td>\n",
              "      <td>0</td>\n",
              "      <td>1</td>\n",
              "      <td>0</td>\n",
              "      <td>0</td>\n",
              "      <td>0</td>\n",
              "      <td>0</td>\n",
              "      <td>1</td>\n",
              "      <td>0</td>\n",
              "      <td>0</td>\n",
              "      <td>0</td>\n",
              "      <td>0</td>\n",
              "      <td>0</td>\n",
              "      <td>0</td>\n",
              "      <td>0</td>\n",
              "      <td>0</td>\n",
              "      <td>0</td>\n",
              "      <td>0</td>\n",
              "      <td>0</td>\n",
              "      <td>0</td>\n",
              "      <td>0</td>\n",
              "      <td>0</td>\n",
              "      <td>1</td>\n",
              "      <td>0</td>\n",
              "      <td>0</td>\n",
              "      <td>0</td>\n",
              "      <td>1</td>\n",
              "      <td>0</td>\n",
              "      <td>0</td>\n",
              "      <td>0</td>\n",
              "      <td>0</td>\n",
              "    </tr>\n",
              "  </tbody>\n",
              "</table>\n",
              "</div>"
            ],
            "text/plain": [
              "                 RecClass  DegMalig  ...  Quadrant right_up  Radiation yes\n",
              "128  no-recurrence-events         2  ...                  0              1\n",
              "117  no-recurrence-events         2  ...                  0              0\n",
              "40      recurrence-events         3  ...                  1              0\n",
              "39   no-recurrence-events         2  ...                  0              0\n",
              "186  no-recurrence-events         1  ...                  0              0\n",
              "75   no-recurrence-events         2  ...                  0              0\n",
              "112     recurrence-events         3  ...                  0              0\n",
              "236     recurrence-events         3  ...                  0              0\n",
              "108  no-recurrence-events         3  ...                  0              0\n",
              "3    no-recurrence-events         2  ...                  0              0\n",
              "8    no-recurrence-events         1  ...                  1              0\n",
              "165  no-recurrence-events         2  ...                  0              1\n",
              "115  no-recurrence-events         2  ...                  0              0\n",
              "106  no-recurrence-events         2  ...                  0              0\n",
              "136  no-recurrence-events         3  ...                  0              0\n",
              "138     recurrence-events         3  ...                  0              0\n",
              "145  no-recurrence-events         2  ...                  0              0\n",
              "76      recurrence-events         2  ...                  1              0\n",
              "252  no-recurrence-events         3  ...                  1              0\n",
              "272  no-recurrence-events         2  ...                  0              0\n",
              "\n",
              "[20 rows x 34 columns]"
            ]
          },
          "metadata": {
            "tags": []
          },
          "execution_count": 17
        }
      ]
    },
    {
      "cell_type": "code",
      "metadata": {
        "colab": {
          "base_uri": "https://localhost:8080/"
        },
        "id": "Do-ZC27pytf4",
        "outputId": "9e9ec0f1-78e3-460d-d054-160835fc677d"
      },
      "source": [
        "data.info()"
      ],
      "execution_count": 18,
      "outputs": [
        {
          "output_type": "stream",
          "text": [
            "<class 'pandas.core.frame.DataFrame'>\n",
            "RangeIndex: 286 entries, 0 to 285\n",
            "Data columns (total 34 columns):\n",
            " #   Column              Non-Null Count  Dtype \n",
            "---  ------              --------------  ----- \n",
            " 0   RecClass            286 non-null    object\n",
            " 1   DegMalig            286 non-null    int64 \n",
            " 2   AgeGroup 30-39      286 non-null    uint8 \n",
            " 3   AgeGroup 40-49      286 non-null    uint8 \n",
            " 4   AgeGroup 50-59      286 non-null    uint8 \n",
            " 5   AgeGroup 60-69      286 non-null    uint8 \n",
            " 6   AgeGroup 70-79      286 non-null    uint8 \n",
            " 7   Menopause lt40      286 non-null    uint8 \n",
            " 8   Menopause premeno   286 non-null    uint8 \n",
            " 9   TumorSize 10-14     286 non-null    uint8 \n",
            " 10  TumorSize 15-19     286 non-null    uint8 \n",
            " 11  TumorSize 20-24     286 non-null    uint8 \n",
            " 12  TumorSize 25-29     286 non-null    uint8 \n",
            " 13  TumorSize 30-34     286 non-null    uint8 \n",
            " 14  TumorSize 35-39     286 non-null    uint8 \n",
            " 15  TumorSize 40-44     286 non-null    uint8 \n",
            " 16  TumorSize 45-49     286 non-null    uint8 \n",
            " 17  TumorSize 5-9       286 non-null    uint8 \n",
            " 18  TumorSize 50-54     286 non-null    uint8 \n",
            " 19  InvNodes 12-14      286 non-null    uint8 \n",
            " 20  InvNodes 15-17      286 non-null    uint8 \n",
            " 21  InvNodes 24-26      286 non-null    uint8 \n",
            " 22  InvNodes 3-5        286 non-null    uint8 \n",
            " 23  InvNodes 6-8        286 non-null    uint8 \n",
            " 24  InvNodes 9-11       286 non-null    uint8 \n",
            " 25  NodeCaps no         286 non-null    uint8 \n",
            " 26  NodeCaps yes        286 non-null    uint8 \n",
            " 27  Breast right        286 non-null    uint8 \n",
            " 28  Quadrant central    286 non-null    uint8 \n",
            " 29  Quadrant left_low   286 non-null    uint8 \n",
            " 30  Quadrant left_up    286 non-null    uint8 \n",
            " 31  Quadrant right_low  286 non-null    uint8 \n",
            " 32  Quadrant right_up   286 non-null    uint8 \n",
            " 33  Radiation yes       286 non-null    uint8 \n",
            "dtypes: int64(1), object(1), uint8(32)\n",
            "memory usage: 13.5+ KB\n"
          ],
          "name": "stdout"
        }
      ]
    },
    {
      "cell_type": "code",
      "metadata": {
        "colab": {
          "base_uri": "https://localhost:8080/"
        },
        "id": "D7WQSpMrzJbX",
        "outputId": "69599116-5894-47af-8d4f-01e81adca22b"
      },
      "source": [
        "# Checking th final shape of the dataset\n",
        "\n",
        "data.shape"
      ],
      "execution_count": 19,
      "outputs": [
        {
          "output_type": "execute_result",
          "data": {
            "text/plain": [
              "(286, 34)"
            ]
          },
          "metadata": {
            "tags": []
          },
          "execution_count": 19
        }
      ]
    },
    {
      "cell_type": "code",
      "metadata": {
        "id": "eRvSEE5uzakh"
      },
      "source": [
        "# Mapping the input features into the X dataframe and the labels into y\n",
        "\n",
        "X = data._get_numeric_data()\n",
        "y = data['RecClass']\n",
        "\n",
        "# Creating the train and test data splits \n",
        "\n",
        "X_train, X_test, y_train, y_test = train_test_split(X, y, stratify = y, random_state = 1919)"
      ],
      "execution_count": 20,
      "outputs": []
    },
    {
      "cell_type": "code",
      "metadata": {
        "colab": {
          "base_uri": "https://localhost:8080/"
        },
        "id": "JlrYc24QUNW4",
        "outputId": "657a3e85-e27b-4c24-d6ee-51c64ab70095"
      },
      "source": [
        "# Checking the size and dimensions of the data splits \n",
        "\n",
        "print (f'X_train: {X_train.shape}, y_train: {y_train.shape}')\n",
        "print (f'X_test: {X_test.shape}, y_test: {y_test.shape}')"
      ],
      "execution_count": 21,
      "outputs": [
        {
          "output_type": "stream",
          "text": [
            "X_train: (214, 33), y_train: (214,)\n",
            "X_test: (72, 33), y_test: (72,)\n"
          ],
          "name": "stdout"
        }
      ]
    },
    {
      "cell_type": "code",
      "metadata": {
        "colab": {
          "base_uri": "https://localhost:8080/"
        },
        "id": "LqeHO2jMWaTi",
        "outputId": "f2e766fb-6993-4329-e6fa-a0739bef0225"
      },
      "source": [
        "# Exploring the overall class distribution\n",
        "# To see if the labels are fairly evenly distributed between the data splits\n",
        "\n",
        "class_count = dict(collections.Counter(y))\n",
        "train_class_count = dict(collections.Counter(y_train))\n",
        "test_class_count = dict(collections.Counter(y_test))\n",
        "\n",
        "print (f'classes: {class_count}')\n",
        "print (f\"no-rec:rec = {class_count['no-recurrence-events']/class_count['recurrence-events']:.2f}\")\n",
        "print (f'train classes: {train_class_count}')\n",
        "print (f\"train no-rec:rec = {train_class_count['no-recurrence-events']/train_class_count['recurrence-events']:.2f}\")\n",
        "print (f'test classes: {test_class_count}')\n",
        "print (f\"test no-rec:rec = {test_class_count['no-recurrence-events']/test_class_count['recurrence-events']:.2f}\")"
      ],
      "execution_count": 22,
      "outputs": [
        {
          "output_type": "stream",
          "text": [
            "classes: {'no-recurrence-events': 201, 'recurrence-events': 85}\n",
            "no-rec:rec = 2.36\n",
            "train classes: {'no-recurrence-events': 150, 'recurrence-events': 64}\n",
            "train no-rec:rec = 2.34\n",
            "test classes: {'no-recurrence-events': 51, 'recurrence-events': 21}\n",
            "test no-rec:rec = 2.43\n"
          ],
          "name": "stdout"
        }
      ]
    },
    {
      "cell_type": "code",
      "metadata": {
        "id": "3wrD8fYtZCTD"
      },
      "source": [
        "# Standardising the data (mean = 0, std = 1) using the training data\n",
        "\n",
        "X_scaler = StandardScaler().fit(X_train)\n",
        "\n",
        "# Not necessary to standardise the data using the StandardScaler class of Sklearn as the orders of magnitude are in single digits"
      ],
      "execution_count": 23,
      "outputs": []
    },
    {
      "cell_type": "code",
      "metadata": {
        "id": "y1OynuK0aCk1"
      },
      "source": [
        "# Applying the scaler on training and test data (not necessary to standardise outputs for classification)\n",
        "\n",
        "X_train = X_scaler.transform(X_train)\n",
        "X_test = X_scaler.transform(X_test)"
      ],
      "execution_count": 24,
      "outputs": []
    },
    {
      "cell_type": "code",
      "metadata": {
        "colab": {
          "base_uri": "https://localhost:8080/"
        },
        "id": "KHJ95YQhaXRL",
        "outputId": "d94eb108-94c7-469a-b521-f36007c23147"
      },
      "source": [
        "# Check (mean should approx 0 and std should be approx 1)\n",
        "\n",
        "print (f'X_train[0]: mean: {np.mean(X_train[:, 0], axis = 0):.1f}, std: {np.std(X_train[:, 0], axis=0):.1f}')\n",
        "print (f'X_test[1]: mean: {np.mean(X_test[:, 1], axis = 0):.1f}, std: {np.std(X_test[:, 1], axis=0):.1f}')"
      ],
      "execution_count": 25,
      "outputs": [
        {
          "output_type": "stream",
          "text": [
            "X_train[0]: mean: 0.0, std: 1.0\n",
            "X_test[1]: mean: 0.2, std: 1.2\n"
          ],
          "name": "stdout"
        }
      ]
    },
    {
      "cell_type": "code",
      "metadata": {
        "colab": {
          "base_uri": "https://localhost:8080/"
        },
        "id": "4PI3QPeO0sVb",
        "outputId": "354fb43e-14f2-406f-8cd8-2b7e6d0a082b"
      },
      "source": [
        "# Base Model \n",
        "\n",
        "y.value_counts(normalize=True)\n",
        "\n",
        "# A base model that predicts no recurrence events would be correct 70% of the time"
      ],
      "execution_count": 26,
      "outputs": [
        {
          "output_type": "execute_result",
          "data": {
            "text/plain": [
              "no-recurrence-events    0.702797\n",
              "recurrence-events       0.297203\n",
              "Name: RecClass, dtype: float64"
            ]
          },
          "metadata": {
            "tags": []
          },
          "execution_count": 26
        }
      ]
    },
    {
      "cell_type": "code",
      "metadata": {
        "colab": {
          "base_uri": "https://localhost:8080/"
        },
        "id": "zhxFs1Au1Bz6",
        "outputId": "7baf62ae-3e20-4c1a-82fa-2a2e82412023"
      },
      "source": [
        "pipe = Pipeline(steps=[('lr', LogisticRegression())]) # Running a pipeline of logistic regression \n",
        "\n",
        "params = {'lr__penalty': ['l1'], \n",
        "          'lr__C': [1], \n",
        "          'lr__solver': ['liblinear']} # setting parameters\n",
        "\n",
        "gs_lr = GridSearchCV(pipe, param_grid=params, cv=5,scoring='accuracy', n_jobs=-2)\n",
        "\n",
        "gs_lr.fit(X_train, y_train)\n",
        "gs_lr.best_estimator_"
      ],
      "execution_count": 27,
      "outputs": [
        {
          "output_type": "execute_result",
          "data": {
            "text/plain": [
              "Pipeline(memory=None,\n",
              "         steps=[('lr',\n",
              "                 LogisticRegression(C=1, class_weight=None, dual=False,\n",
              "                                    fit_intercept=True, intercept_scaling=1,\n",
              "                                    l1_ratio=None, max_iter=100,\n",
              "                                    multi_class='auto', n_jobs=None,\n",
              "                                    penalty='l1', random_state=None,\n",
              "                                    solver='liblinear', tol=0.0001, verbose=0,\n",
              "                                    warm_start=False))],\n",
              "         verbose=False)"
            ]
          },
          "metadata": {
            "tags": []
          },
          "execution_count": 27
        }
      ]
    },
    {
      "cell_type": "code",
      "metadata": {
        "colab": {
          "base_uri": "https://localhost:8080/"
        },
        "id": "uMbMssmnd40T",
        "outputId": "32a22702-7daa-4f5e-ac5c-d574829fb24c"
      },
      "source": [
        "# Predicting the first 5 observations \n",
        "\n",
        "log_reg_y_pred = gs_lr.best_estimator_.predict(X_test[:5])\n",
        "log_reg_y_pred"
      ],
      "execution_count": 28,
      "outputs": [
        {
          "output_type": "execute_result",
          "data": {
            "text/plain": [
              "array(['no-recurrence-events', 'no-recurrence-events',\n",
              "       'no-recurrence-events', 'recurrence-events',\n",
              "       'no-recurrence-events'], dtype=object)"
            ]
          },
          "metadata": {
            "tags": []
          },
          "execution_count": 28
        }
      ]
    },
    {
      "cell_type": "code",
      "metadata": {
        "colab": {
          "base_uri": "https://localhost:8080/"
        },
        "id": "pe1ZA69yeURA",
        "outputId": "396745f1-cd09-4675-b698-e3a0da8e72d2"
      },
      "source": [
        "# Checking the actual labels for the first 5 observations\n",
        "\n",
        "print (f'Actual labels: {y_test[:5]}')"
      ],
      "execution_count": 29,
      "outputs": [
        {
          "output_type": "stream",
          "text": [
            "Actual labels: 170    no-recurrence-events\n",
            "35     no-recurrence-events\n",
            "224    no-recurrence-events\n",
            "142       recurrence-events\n",
            "150       recurrence-events\n",
            "Name: RecClass, dtype: object\n"
          ],
          "name": "stdout"
        }
      ]
    },
    {
      "cell_type": "code",
      "metadata": {
        "colab": {
          "base_uri": "https://localhost:8080/"
        },
        "id": "s2bGKSjR2hgo",
        "outputId": "1af3bb1c-6901-46bd-cb87-5ff4f768bcda"
      },
      "source": [
        "# Scoring the model (trainin, cross validation and test score)\n",
        "\n",
        "print (f'training score: {gs_lr.score(X_train, y_train)}')\n",
        "print (f\"cross validation score: {cross_val_score(gs_lr.best_estimator_, X, y, cv=5).mean()}\")\n",
        "print (f\"test score: {gs_lr.score(X_test, y_test)}\")\n",
        "\n",
        "# Inference: this model performs worse than the base model"
      ],
      "execution_count": 30,
      "outputs": [
        {
          "output_type": "stream",
          "text": [
            "training score: 0.7616822429906542\n",
            "cross validation score: 0.7134301270417422\n",
            "test score: 0.6805555555555556\n"
          ],
          "name": "stdout"
        }
      ]
    },
    {
      "cell_type": "code",
      "metadata": {
        "colab": {
          "base_uri": "https://localhost:8080/",
          "height": 347
        },
        "id": "3x-d2n0n2ziE",
        "outputId": "e9b00f4c-f02f-433f-bb9e-2ac63c393fea"
      },
      "source": [
        "print (f'confusion matrix: {confusion_matrix(y_test, gs_lr.best_estimator_)}')\n",
        "print (f'classification report: {classification_report(y_test, log_reg_y_pred)}')\n",
        "print (f'accuracy score: {accuracy_score(y_test, log_reg_y_pred)}')"
      ],
      "execution_count": 34,
      "outputs": [
        {
          "output_type": "error",
          "ename": "TypeError",
          "evalue": "ignored",
          "traceback": [
            "\u001b[0;31m---------------------------------------------------------------------------\u001b[0m",
            "\u001b[0;31mTypeError\u001b[0m                                 Traceback (most recent call last)",
            "\u001b[0;32m<ipython-input-34-d5b14d78a50e>\u001b[0m in \u001b[0;36m<module>\u001b[0;34m()\u001b[0m\n\u001b[0;32m----> 1\u001b[0;31m \u001b[0mprint\u001b[0m \u001b[0;34m(\u001b[0m\u001b[0;34mf'confusion matrix: {confusion_matrix(y_test, gs_lr.best_estimator_)}'\u001b[0m\u001b[0;34m)\u001b[0m\u001b[0;34m\u001b[0m\u001b[0;34m\u001b[0m\u001b[0m\n\u001b[0m\u001b[1;32m      2\u001b[0m \u001b[0mprint\u001b[0m \u001b[0;34m(\u001b[0m\u001b[0;34mf'classification report: {classification_report(y_test, log_reg_y_pred)}'\u001b[0m\u001b[0;34m)\u001b[0m\u001b[0;34m\u001b[0m\u001b[0;34m\u001b[0m\u001b[0m\n\u001b[1;32m      3\u001b[0m \u001b[0mprint\u001b[0m \u001b[0;34m(\u001b[0m\u001b[0;34mf'accuracy score: {accuracy_score(y_test, log_reg_y_pred)}'\u001b[0m\u001b[0;34m)\u001b[0m\u001b[0;34m\u001b[0m\u001b[0;34m\u001b[0m\u001b[0m\n",
            "\u001b[0;32m/usr/local/lib/python3.7/dist-packages/sklearn/metrics/_classification.py\u001b[0m in \u001b[0;36mconfusion_matrix\u001b[0;34m(y_true, y_pred, labels, sample_weight, normalize)\u001b[0m\n\u001b[1;32m    266\u001b[0m \u001b[0;34m\u001b[0m\u001b[0m\n\u001b[1;32m    267\u001b[0m     \"\"\"\n\u001b[0;32m--> 268\u001b[0;31m     \u001b[0my_type\u001b[0m\u001b[0;34m,\u001b[0m \u001b[0my_true\u001b[0m\u001b[0;34m,\u001b[0m \u001b[0my_pred\u001b[0m \u001b[0;34m=\u001b[0m \u001b[0m_check_targets\u001b[0m\u001b[0;34m(\u001b[0m\u001b[0my_true\u001b[0m\u001b[0;34m,\u001b[0m \u001b[0my_pred\u001b[0m\u001b[0;34m)\u001b[0m\u001b[0;34m\u001b[0m\u001b[0;34m\u001b[0m\u001b[0m\n\u001b[0m\u001b[1;32m    269\u001b[0m     \u001b[0;32mif\u001b[0m \u001b[0my_type\u001b[0m \u001b[0;32mnot\u001b[0m \u001b[0;32min\u001b[0m \u001b[0;34m(\u001b[0m\u001b[0;34m\"binary\"\u001b[0m\u001b[0;34m,\u001b[0m \u001b[0;34m\"multiclass\"\u001b[0m\u001b[0;34m)\u001b[0m\u001b[0;34m:\u001b[0m\u001b[0;34m\u001b[0m\u001b[0;34m\u001b[0m\u001b[0m\n\u001b[1;32m    270\u001b[0m         \u001b[0;32mraise\u001b[0m \u001b[0mValueError\u001b[0m\u001b[0;34m(\u001b[0m\u001b[0;34m\"%s is not supported\"\u001b[0m \u001b[0;34m%\u001b[0m \u001b[0my_type\u001b[0m\u001b[0;34m)\u001b[0m\u001b[0;34m\u001b[0m\u001b[0;34m\u001b[0m\u001b[0m\n",
            "\u001b[0;32m/usr/local/lib/python3.7/dist-packages/sklearn/metrics/_classification.py\u001b[0m in \u001b[0;36m_check_targets\u001b[0;34m(y_true, y_pred)\u001b[0m\n\u001b[1;32m     78\u001b[0m     \u001b[0my_pred\u001b[0m \u001b[0;34m:\u001b[0m \u001b[0marray\u001b[0m \u001b[0;32mor\u001b[0m \u001b[0mindicator\u001b[0m \u001b[0mmatrix\u001b[0m\u001b[0;34m\u001b[0m\u001b[0;34m\u001b[0m\u001b[0m\n\u001b[1;32m     79\u001b[0m     \"\"\"\n\u001b[0;32m---> 80\u001b[0;31m     \u001b[0mcheck_consistent_length\u001b[0m\u001b[0;34m(\u001b[0m\u001b[0my_true\u001b[0m\u001b[0;34m,\u001b[0m \u001b[0my_pred\u001b[0m\u001b[0;34m)\u001b[0m\u001b[0;34m\u001b[0m\u001b[0;34m\u001b[0m\u001b[0m\n\u001b[0m\u001b[1;32m     81\u001b[0m     \u001b[0mtype_true\u001b[0m \u001b[0;34m=\u001b[0m \u001b[0mtype_of_target\u001b[0m\u001b[0;34m(\u001b[0m\u001b[0my_true\u001b[0m\u001b[0;34m)\u001b[0m\u001b[0;34m\u001b[0m\u001b[0;34m\u001b[0m\u001b[0m\n\u001b[1;32m     82\u001b[0m     \u001b[0mtype_pred\u001b[0m \u001b[0;34m=\u001b[0m \u001b[0mtype_of_target\u001b[0m\u001b[0;34m(\u001b[0m\u001b[0my_pred\u001b[0m\u001b[0;34m)\u001b[0m\u001b[0;34m\u001b[0m\u001b[0;34m\u001b[0m\u001b[0m\n",
            "\u001b[0;32m/usr/local/lib/python3.7/dist-packages/sklearn/utils/validation.py\u001b[0m in \u001b[0;36mcheck_consistent_length\u001b[0;34m(*arrays)\u001b[0m\n\u001b[1;32m    206\u001b[0m     \"\"\"\n\u001b[1;32m    207\u001b[0m \u001b[0;34m\u001b[0m\u001b[0m\n\u001b[0;32m--> 208\u001b[0;31m     \u001b[0mlengths\u001b[0m \u001b[0;34m=\u001b[0m \u001b[0;34m[\u001b[0m\u001b[0m_num_samples\u001b[0m\u001b[0;34m(\u001b[0m\u001b[0mX\u001b[0m\u001b[0;34m)\u001b[0m \u001b[0;32mfor\u001b[0m \u001b[0mX\u001b[0m \u001b[0;32min\u001b[0m \u001b[0marrays\u001b[0m \u001b[0;32mif\u001b[0m \u001b[0mX\u001b[0m \u001b[0;32mis\u001b[0m \u001b[0;32mnot\u001b[0m \u001b[0;32mNone\u001b[0m\u001b[0;34m]\u001b[0m\u001b[0;34m\u001b[0m\u001b[0;34m\u001b[0m\u001b[0m\n\u001b[0m\u001b[1;32m    209\u001b[0m     \u001b[0muniques\u001b[0m \u001b[0;34m=\u001b[0m \u001b[0mnp\u001b[0m\u001b[0;34m.\u001b[0m\u001b[0munique\u001b[0m\u001b[0;34m(\u001b[0m\u001b[0mlengths\u001b[0m\u001b[0;34m)\u001b[0m\u001b[0;34m\u001b[0m\u001b[0;34m\u001b[0m\u001b[0m\n\u001b[1;32m    210\u001b[0m     \u001b[0;32mif\u001b[0m \u001b[0mlen\u001b[0m\u001b[0;34m(\u001b[0m\u001b[0muniques\u001b[0m\u001b[0;34m)\u001b[0m \u001b[0;34m>\u001b[0m \u001b[0;36m1\u001b[0m\u001b[0;34m:\u001b[0m\u001b[0;34m\u001b[0m\u001b[0;34m\u001b[0m\u001b[0m\n",
            "\u001b[0;32m/usr/local/lib/python3.7/dist-packages/sklearn/utils/validation.py\u001b[0m in \u001b[0;36m<listcomp>\u001b[0;34m(.0)\u001b[0m\n\u001b[1;32m    206\u001b[0m     \"\"\"\n\u001b[1;32m    207\u001b[0m \u001b[0;34m\u001b[0m\u001b[0m\n\u001b[0;32m--> 208\u001b[0;31m     \u001b[0mlengths\u001b[0m \u001b[0;34m=\u001b[0m \u001b[0;34m[\u001b[0m\u001b[0m_num_samples\u001b[0m\u001b[0;34m(\u001b[0m\u001b[0mX\u001b[0m\u001b[0;34m)\u001b[0m \u001b[0;32mfor\u001b[0m \u001b[0mX\u001b[0m \u001b[0;32min\u001b[0m \u001b[0marrays\u001b[0m \u001b[0;32mif\u001b[0m \u001b[0mX\u001b[0m \u001b[0;32mis\u001b[0m \u001b[0;32mnot\u001b[0m \u001b[0;32mNone\u001b[0m\u001b[0;34m]\u001b[0m\u001b[0;34m\u001b[0m\u001b[0;34m\u001b[0m\u001b[0m\n\u001b[0m\u001b[1;32m    209\u001b[0m     \u001b[0muniques\u001b[0m \u001b[0;34m=\u001b[0m \u001b[0mnp\u001b[0m\u001b[0;34m.\u001b[0m\u001b[0munique\u001b[0m\u001b[0;34m(\u001b[0m\u001b[0mlengths\u001b[0m\u001b[0;34m)\u001b[0m\u001b[0;34m\u001b[0m\u001b[0;34m\u001b[0m\u001b[0m\n\u001b[1;32m    210\u001b[0m     \u001b[0;32mif\u001b[0m \u001b[0mlen\u001b[0m\u001b[0;34m(\u001b[0m\u001b[0muniques\u001b[0m\u001b[0;34m)\u001b[0m \u001b[0;34m>\u001b[0m \u001b[0;36m1\u001b[0m\u001b[0;34m:\u001b[0m\u001b[0;34m\u001b[0m\u001b[0;34m\u001b[0m\u001b[0m\n",
            "\u001b[0;32m/usr/local/lib/python3.7/dist-packages/sklearn/utils/validation.py\u001b[0m in \u001b[0;36m_num_samples\u001b[0;34m(x)\u001b[0m\n\u001b[1;32m    139\u001b[0m     \u001b[0;32mif\u001b[0m \u001b[0mhasattr\u001b[0m\u001b[0;34m(\u001b[0m\u001b[0mx\u001b[0m\u001b[0;34m,\u001b[0m \u001b[0;34m'fit'\u001b[0m\u001b[0;34m)\u001b[0m \u001b[0;32mand\u001b[0m \u001b[0mcallable\u001b[0m\u001b[0;34m(\u001b[0m\u001b[0mx\u001b[0m\u001b[0;34m.\u001b[0m\u001b[0mfit\u001b[0m\u001b[0;34m)\u001b[0m\u001b[0;34m:\u001b[0m\u001b[0;34m\u001b[0m\u001b[0;34m\u001b[0m\u001b[0m\n\u001b[1;32m    140\u001b[0m         \u001b[0;31m# Don't get num_samples from an ensembles length!\u001b[0m\u001b[0;34m\u001b[0m\u001b[0;34m\u001b[0m\u001b[0;34m\u001b[0m\u001b[0m\n\u001b[0;32m--> 141\u001b[0;31m         \u001b[0;32mraise\u001b[0m \u001b[0mTypeError\u001b[0m\u001b[0;34m(\u001b[0m\u001b[0mmessage\u001b[0m\u001b[0;34m)\u001b[0m\u001b[0;34m\u001b[0m\u001b[0;34m\u001b[0m\u001b[0m\n\u001b[0m\u001b[1;32m    142\u001b[0m \u001b[0;34m\u001b[0m\u001b[0m\n\u001b[1;32m    143\u001b[0m     \u001b[0;32mif\u001b[0m \u001b[0;32mnot\u001b[0m \u001b[0mhasattr\u001b[0m\u001b[0;34m(\u001b[0m\u001b[0mx\u001b[0m\u001b[0;34m,\u001b[0m \u001b[0;34m'__len__'\u001b[0m\u001b[0;34m)\u001b[0m \u001b[0;32mand\u001b[0m \u001b[0;32mnot\u001b[0m \u001b[0mhasattr\u001b[0m\u001b[0;34m(\u001b[0m\u001b[0mx\u001b[0m\u001b[0;34m,\u001b[0m \u001b[0;34m'shape'\u001b[0m\u001b[0;34m)\u001b[0m\u001b[0;34m:\u001b[0m\u001b[0;34m\u001b[0m\u001b[0;34m\u001b[0m\u001b[0m\n",
            "\u001b[0;31mTypeError\u001b[0m: Expected sequence or array-like, got <class 'sklearn.pipeline.Pipeline'>"
          ]
        }
      ]
    },
    {
      "cell_type": "code",
      "metadata": {
        "colab": {
          "base_uri": "https://localhost:8080/"
        },
        "id": "1BscprHx3BZz",
        "outputId": "77d3790b-e85f-45e5-975d-d22d97b9e39b"
      },
      "source": [
        "pipe = Pipeline(steps=[('sc', StandardScaler()), ('knn', KNeighborsClassifier())])\n",
        "\n",
        "params = {'knn__n_neighbors': [21], 'knn__p': [1]}\n",
        "\n",
        "gs_knn = GridSearchCV(pipe, param_grid=params, cv=5, scoring='accuracy')\n",
        "\n",
        "gs_knn.fit(X_train, y_train)\n",
        "gs_knn.best_estimator_"
      ],
      "execution_count": null,
      "outputs": [
        {
          "output_type": "execute_result",
          "data": {
            "text/plain": [
              "Pipeline(memory=None,\n",
              "         steps=[('sc',\n",
              "                 StandardScaler(copy=True, with_mean=True, with_std=True)),\n",
              "                ('knn',\n",
              "                 KNeighborsClassifier(algorithm='auto', leaf_size=30,\n",
              "                                      metric='minkowski', metric_params=None,\n",
              "                                      n_jobs=None, n_neighbors=21, p=1,\n",
              "                                      weights='uniform'))],\n",
              "         verbose=False)"
            ]
          },
          "metadata": {
            "tags": []
          },
          "execution_count": 35
        }
      ]
    },
    {
      "cell_type": "code",
      "metadata": {
        "colab": {
          "base_uri": "https://localhost:8080/"
        },
        "id": "HDwycDA23ugA",
        "outputId": "ac3ccbbf-e58d-4e9b-af45-e4402f814dd0"
      },
      "source": [
        "# Scoring the model \n",
        "\n",
        "gs_knn.score(X_train, y_train)"
      ],
      "execution_count": null,
      "outputs": [
        {
          "output_type": "execute_result",
          "data": {
            "text/plain": [
              "0.6962616822429907"
            ]
          },
          "metadata": {
            "tags": []
          },
          "execution_count": 36
        }
      ]
    },
    {
      "cell_type": "code",
      "metadata": {
        "colab": {
          "base_uri": "https://localhost:8080/"
        },
        "id": "NAInQYxF34Qt",
        "outputId": "be16f6fc-5ffc-4e76-8ecb-d551d4a95dde"
      },
      "source": [
        "# Cross validation scoring \n",
        "\n",
        "cross_val_score(gs_knn.best_estimator_, X, y, cv=5).mean()"
      ],
      "execution_count": null,
      "outputs": [
        {
          "output_type": "execute_result",
          "data": {
            "text/plain": [
              "0.6956442831215972"
            ]
          },
          "metadata": {
            "tags": []
          },
          "execution_count": 37
        }
      ]
    },
    {
      "cell_type": "code",
      "metadata": {
        "colab": {
          "base_uri": "https://localhost:8080/"
        },
        "id": "fwazwYLj4BRt",
        "outputId": "7fda0863-dc03-4c78-c3ec-2dfc2af083e8"
      },
      "source": [
        "# Scoring the test data\n",
        "\n",
        "gs_knn.score(X_test, y_test)\n",
        "\n",
        "# Inference: a bit worse than the base model"
      ],
      "execution_count": null,
      "outputs": [
        {
          "output_type": "execute_result",
          "data": {
            "text/plain": [
              "0.7083333333333334"
            ]
          },
          "metadata": {
            "tags": []
          },
          "execution_count": 38
        }
      ]
    },
    {
      "cell_type": "code",
      "metadata": {
        "colab": {
          "base_uri": "https://localhost:8080/"
        },
        "id": "GR7NgTAc4SYD",
        "outputId": "2c675314-10f8-466f-a03c-6fc1a5fb233f"
      },
      "source": [
        "# Decision Tree Classifer\n",
        "\n",
        "pipe = Pipeline(steps=[('tree', DecisionTreeClassifier())])\n",
        "\n",
        "params = {'tree__max_depth': [6, 8]}\n",
        "\n",
        "gs_tree = GridSearchCV(pipe, param_grid=params, cv=5, scoring='accuracy')\n",
        "\n",
        "gs_tree.fit(X_train, y_train)\n",
        "gs_tree.best_estimator_"
      ],
      "execution_count": null,
      "outputs": [
        {
          "output_type": "execute_result",
          "data": {
            "text/plain": [
              "Pipeline(memory=None,\n",
              "         steps=[('tree',\n",
              "                 DecisionTreeClassifier(ccp_alpha=0.0, class_weight=None,\n",
              "                                        criterion='gini', max_depth=6,\n",
              "                                        max_features=None, max_leaf_nodes=None,\n",
              "                                        min_impurity_decrease=0.0,\n",
              "                                        min_impurity_split=None,\n",
              "                                        min_samples_leaf=1, min_samples_split=2,\n",
              "                                        min_weight_fraction_leaf=0.0,\n",
              "                                        presort='deprecated', random_state=None,\n",
              "                                        splitter='best'))],\n",
              "         verbose=False)"
            ]
          },
          "metadata": {
            "tags": []
          },
          "execution_count": 39
        }
      ]
    },
    {
      "cell_type": "code",
      "metadata": {
        "colab": {
          "base_uri": "https://localhost:8080/"
        },
        "id": "ljKnbBa-m5_E",
        "outputId": "32760064-c01d-4c5b-e42f-43048c8f47d8"
      },
      "source": [
        "# Scoring the model \n",
        "\n",
        "gs_tree.score(X_train, y_train)"
      ],
      "execution_count": null,
      "outputs": [
        {
          "output_type": "execute_result",
          "data": {
            "text/plain": [
              "0.8785046728971962"
            ]
          },
          "metadata": {
            "tags": []
          },
          "execution_count": 40
        }
      ]
    },
    {
      "cell_type": "code",
      "metadata": {
        "colab": {
          "base_uri": "https://localhost:8080/"
        },
        "id": "xNfWgLdMnBCA",
        "outputId": "c62ed857-6a54-4894-d72c-00943d04928e"
      },
      "source": [
        "# Cross validation score \n",
        "\n",
        "cross_val_score(gs_tree.best_estimator_, X, y, cv=5).mean()"
      ],
      "execution_count": null,
      "outputs": [
        {
          "output_type": "execute_result",
          "data": {
            "text/plain": [
              "0.7200241984271022"
            ]
          },
          "metadata": {
            "tags": []
          },
          "execution_count": 41
        }
      ]
    },
    {
      "cell_type": "code",
      "metadata": {
        "colab": {
          "base_uri": "https://localhost:8080/"
        },
        "id": "jk3LRC8rnJIr",
        "outputId": "d06f0d02-78d4-46a9-e58d-050b802dfcb1"
      },
      "source": [
        "# Scoring the test data split \n",
        "\n",
        "gs_tree.score(X_test, y_test)\n",
        "\n",
        "# Inference: the decision tree model performs better than the other models  and slightly better than the base model"
      ],
      "execution_count": null,
      "outputs": [
        {
          "output_type": "execute_result",
          "data": {
            "text/plain": [
              "0.6805555555555556"
            ]
          },
          "metadata": {
            "tags": []
          },
          "execution_count": 42
        }
      ]
    },
    {
      "cell_type": "code",
      "metadata": {
        "colab": {
          "base_uri": "https://localhost:8080/"
        },
        "id": "nVvrt5ynnbJj",
        "outputId": "6a3a229c-1a02-4ba2-d0a2-a871baa8d6e0"
      },
      "source": [
        "# Bagging Classifier Model \n",
        "\n",
        "pipe = Pipeline(steps = [('bag', BaggingClassifier())])\n",
        "\n",
        "params = {'bag__n_estimators': [200]}\n",
        "\n",
        "gs_bag = GridSearchCV(pipe, param_grid=params, cv=5, scoring='accuracy')\n",
        "\n",
        "gs_bag.fit(X_train, y_train)\n",
        "gs_bag.best_estimator_"
      ],
      "execution_count": null,
      "outputs": [
        {
          "output_type": "execute_result",
          "data": {
            "text/plain": [
              "Pipeline(memory=None,\n",
              "         steps=[('bag',\n",
              "                 BaggingClassifier(base_estimator=None, bootstrap=True,\n",
              "                                   bootstrap_features=False, max_features=1.0,\n",
              "                                   max_samples=1.0, n_estimators=200,\n",
              "                                   n_jobs=None, oob_score=False,\n",
              "                                   random_state=None, verbose=0,\n",
              "                                   warm_start=False))],\n",
              "         verbose=False)"
            ]
          },
          "metadata": {
            "tags": []
          },
          "execution_count": 43
        }
      ]
    },
    {
      "cell_type": "code",
      "metadata": {
        "colab": {
          "base_uri": "https://localhost:8080/"
        },
        "id": "TyuucCLrn7W8",
        "outputId": "ce672dbe-0086-432d-ae74-00bdcac84ed7"
      },
      "source": [
        "# Scoring the model \n",
        "gs_bag.score(X_train, y_train)"
      ],
      "execution_count": null,
      "outputs": [
        {
          "output_type": "execute_result",
          "data": {
            "text/plain": [
              "0.9953271028037384"
            ]
          },
          "metadata": {
            "tags": []
          },
          "execution_count": 44
        }
      ]
    },
    {
      "cell_type": "code",
      "metadata": {
        "colab": {
          "base_uri": "https://localhost:8080/"
        },
        "id": "MGiCt22OpFJW",
        "outputId": "50a0beb0-2788-4830-a044-b7d36b366fd6"
      },
      "source": [
        "# Cross validation score \n",
        "\n",
        "cross_val_score(gs_bag.best_estimator_, X, y, cv = 5).mean()"
      ],
      "execution_count": null,
      "outputs": [
        {
          "output_type": "execute_result",
          "data": {
            "text/plain": [
              "0.7199032062915911"
            ]
          },
          "metadata": {
            "tags": []
          },
          "execution_count": 45
        }
      ]
    },
    {
      "cell_type": "code",
      "metadata": {
        "colab": {
          "base_uri": "https://localhost:8080/"
        },
        "id": "eA85tGEIpRjG",
        "outputId": "80e9d126-3de8-4d02-fef5-dcd19e290d49"
      },
      "source": [
        "# Scoring the test data\n",
        "\n",
        "gs_bag.score(X_test, y_test)\n",
        "\n",
        "# Inference: Better performance than other model but the training score seems significantly overfit "
      ],
      "execution_count": null,
      "outputs": [
        {
          "output_type": "execute_result",
          "data": {
            "text/plain": [
              "0.6388888888888888"
            ]
          },
          "metadata": {
            "tags": []
          },
          "execution_count": 46
        }
      ]
    },
    {
      "cell_type": "code",
      "metadata": {
        "colab": {
          "base_uri": "https://localhost:8080/"
        },
        "id": "B3kueioQp7It",
        "outputId": "658464c7-7a51-4326-ed59-1a72a44fabcf"
      },
      "source": [
        "# Random Forest Model \n",
        "\n",
        "pipe = Pipeline(steps=[('forest', RandomForestClassifier())])\n",
        "\n",
        "params = {'forest__n_estimators': [150], 'forest__max_depth':[15]}\n",
        "\n",
        "gs_forest = GridSearchCV(pipe, param_grid=params, cv=5, scoring='accuracy')\n",
        "\n",
        "gs_forest.fit(X_train, y_train)\n",
        "\n",
        "gs_forest.best_estimator_"
      ],
      "execution_count": null,
      "outputs": [
        {
          "output_type": "execute_result",
          "data": {
            "text/plain": [
              "Pipeline(memory=None,\n",
              "         steps=[('forest',\n",
              "                 RandomForestClassifier(bootstrap=True, ccp_alpha=0.0,\n",
              "                                        class_weight=None, criterion='gini',\n",
              "                                        max_depth=15, max_features='auto',\n",
              "                                        max_leaf_nodes=None, max_samples=None,\n",
              "                                        min_impurity_decrease=0.0,\n",
              "                                        min_impurity_split=None,\n",
              "                                        min_samples_leaf=1, min_samples_split=2,\n",
              "                                        min_weight_fraction_leaf=0.0,\n",
              "                                        n_estimators=150, n_jobs=None,\n",
              "                                        oob_score=False, random_state=None,\n",
              "                                        verbose=0, warm_start=False))],\n",
              "         verbose=False)"
            ]
          },
          "metadata": {
            "tags": []
          },
          "execution_count": 47
        }
      ]
    },
    {
      "cell_type": "code",
      "metadata": {
        "colab": {
          "base_uri": "https://localhost:8080/"
        },
        "id": "b_7JNuF1qeFk",
        "outputId": "ac6d0183-b1b8-46fb-a47f-8abd3c18b117"
      },
      "source": [
        "# Scoring the model \n",
        "gs_forest.score(X_train, y_train)"
      ],
      "execution_count": null,
      "outputs": [
        {
          "output_type": "execute_result",
          "data": {
            "text/plain": [
              "0.9953271028037384"
            ]
          },
          "metadata": {
            "tags": []
          },
          "execution_count": 48
        }
      ]
    },
    {
      "cell_type": "code",
      "metadata": {
        "colab": {
          "base_uri": "https://localhost:8080/"
        },
        "id": "4jls7SrlqyBE",
        "outputId": "fa652ec8-dca1-400f-fec6-ff9f45d41ee0"
      },
      "source": [
        "# Cross validation score \n",
        "\n",
        "cross_val_score(gs_forest.best_estimator_, X, y, cv=5).mean()"
      ],
      "execution_count": null,
      "outputs": [
        {
          "output_type": "execute_result",
          "data": {
            "text/plain": [
              "0.7199032062915911"
            ]
          },
          "metadata": {
            "tags": []
          },
          "execution_count": 49
        }
      ]
    },
    {
      "cell_type": "code",
      "metadata": {
        "colab": {
          "base_uri": "https://localhost:8080/"
        },
        "id": "Pr9iC0Roq9IC",
        "outputId": "d1e49452-3f02-45fa-f099-a4cfd1bf728b"
      },
      "source": [
        "# Scoring the test data \n",
        "\n",
        "gs_forest.score(X_test, y_test)\n",
        "\n",
        "# Inference: Same test performance as the bagging classifier, equally overfit on the training data"
      ],
      "execution_count": null,
      "outputs": [
        {
          "output_type": "execute_result",
          "data": {
            "text/plain": [
              "0.6666666666666666"
            ]
          },
          "metadata": {
            "tags": []
          },
          "execution_count": 50
        }
      ]
    },
    {
      "cell_type": "code",
      "metadata": {
        "colab": {
          "base_uri": "https://localhost:8080/"
        },
        "id": "0gBlnJbSrO9M",
        "outputId": "f7001f99-305a-4972-a9fb-0d18bbd0faeb"
      },
      "source": [
        "# Extra Trees Model \n",
        "\n",
        "pipe = Pipeline(steps=[('extra', ExtraTreesClassifier())])\n",
        "\n",
        "params = {'extra__n_estimators': [600], 'extra__max_depth': [None]}\n",
        "\n",
        "gs_extra = GridSearchCV(pipe, param_grid=params, cv=5, scoring='accuracy')\n",
        "\n",
        "gs_extra.fit(X_train, y_train)\n",
        "gs_extra.best_estimator_"
      ],
      "execution_count": null,
      "outputs": [
        {
          "output_type": "execute_result",
          "data": {
            "text/plain": [
              "Pipeline(memory=None,\n",
              "         steps=[('extra',\n",
              "                 ExtraTreesClassifier(bootstrap=False, ccp_alpha=0.0,\n",
              "                                      class_weight=None, criterion='gini',\n",
              "                                      max_depth=None, max_features='auto',\n",
              "                                      max_leaf_nodes=None, max_samples=None,\n",
              "                                      min_impurity_decrease=0.0,\n",
              "                                      min_impurity_split=None,\n",
              "                                      min_samples_leaf=1, min_samples_split=2,\n",
              "                                      min_weight_fraction_leaf=0.0,\n",
              "                                      n_estimators=600, n_jobs=None,\n",
              "                                      oob_score=False, random_state=None,\n",
              "                                      verbose=0, warm_start=False))],\n",
              "         verbose=False)"
            ]
          },
          "metadata": {
            "tags": []
          },
          "execution_count": 51
        }
      ]
    },
    {
      "cell_type": "code",
      "metadata": {
        "colab": {
          "base_uri": "https://localhost:8080/"
        },
        "id": "Kdsl7rJzsHQn",
        "outputId": "16bb83ce-d7b3-4a0b-f35e-469a4d9d5939"
      },
      "source": [
        "# Scoring the model \n",
        "\n",
        "gs_extra.score(X_train, y_train)"
      ],
      "execution_count": null,
      "outputs": [
        {
          "output_type": "execute_result",
          "data": {
            "text/plain": [
              "0.9953271028037384"
            ]
          },
          "metadata": {
            "tags": []
          },
          "execution_count": 52
        }
      ]
    },
    {
      "cell_type": "code",
      "metadata": {
        "colab": {
          "base_uri": "https://localhost:8080/"
        },
        "id": "l4x_wfTzsNVm",
        "outputId": "0fe4cc6f-dbd9-4292-bb10-fffad11e22e7"
      },
      "source": [
        "# Cross validation scoring \n",
        "\n",
        "cross_val_score(gs_extra.best_estimator_, X, y, cv=5).mean()"
      ],
      "execution_count": null,
      "outputs": [
        {
          "output_type": "execute_result",
          "data": {
            "text/plain": [
              "0.7059286146400484"
            ]
          },
          "metadata": {
            "tags": []
          },
          "execution_count": 53
        }
      ]
    },
    {
      "cell_type": "code",
      "metadata": {
        "colab": {
          "base_uri": "https://localhost:8080/"
        },
        "id": "W1GDUh59sWl4",
        "outputId": "9d5a1f68-97ac-40a9-cd4a-a025d4408986"
      },
      "source": [
        "# Scoring the test data \n",
        "\n",
        "gs_extra.score(X_test, y_test)\n",
        "\n",
        "# Inference: Similar to the bagging classifier and random forest model in performance, overfit on training and reasonable performance on test data"
      ],
      "execution_count": null,
      "outputs": [
        {
          "output_type": "execute_result",
          "data": {
            "text/plain": [
              "0.6666666666666666"
            ]
          },
          "metadata": {
            "tags": []
          },
          "execution_count": 54
        }
      ]
    },
    {
      "cell_type": "code",
      "metadata": {
        "colab": {
          "base_uri": "https://localhost:8080/"
        },
        "id": "cjym4-9PsgYq",
        "outputId": "41b38265-ca11-4250-f3d4-92b7d513a536"
      },
      "source": [
        "# AdaBoost Model \n",
        "\n",
        "pipe = Pipeline(steps=[('ada', AdaBoostClassifier())])\n",
        "\n",
        "params = {'ada__n_estimators': [10]}\n",
        "\n",
        "gs_ada = GridSearchCV(pipe, param_grid=params, cv=5, scoring='accuracy')\n",
        "\n",
        "gs_ada.fit(X_train, y_train)\n",
        "\n",
        "gs_ada.best_estimator_"
      ],
      "execution_count": null,
      "outputs": [
        {
          "output_type": "execute_result",
          "data": {
            "text/plain": [
              "Pipeline(memory=None,\n",
              "         steps=[('ada',\n",
              "                 AdaBoostClassifier(algorithm='SAMME.R', base_estimator=None,\n",
              "                                    learning_rate=1.0, n_estimators=10,\n",
              "                                    random_state=None))],\n",
              "         verbose=False)"
            ]
          },
          "metadata": {
            "tags": []
          },
          "execution_count": 55
        }
      ]
    },
    {
      "cell_type": "code",
      "metadata": {
        "colab": {
          "base_uri": "https://localhost:8080/"
        },
        "id": "TtZxMS-5tRAu",
        "outputId": "e9404b03-cf14-4c80-8f88-79939405ba65"
      },
      "source": [
        "# Scoring the model \n",
        "\n",
        "gs_ada.score(X_train, y_train)"
      ],
      "execution_count": null,
      "outputs": [
        {
          "output_type": "execute_result",
          "data": {
            "text/plain": [
              "0.7429906542056075"
            ]
          },
          "metadata": {
            "tags": []
          },
          "execution_count": 56
        }
      ]
    },
    {
      "cell_type": "code",
      "metadata": {
        "colab": {
          "base_uri": "https://localhost:8080/"
        },
        "id": "H7PhpPznuE7U",
        "outputId": "342e2ac6-bf12-4c0c-f701-4c4afd203d57"
      },
      "source": [
        "# Cross Validation score\n",
        "\n",
        "cross_val_score(gs_ada.best_estimator_, X, y, cv=5).mean()"
      ],
      "execution_count": null,
      "outputs": [
        {
          "output_type": "execute_result",
          "data": {
            "text/plain": [
              "0.6745916515426498"
            ]
          },
          "metadata": {
            "tags": []
          },
          "execution_count": 57
        }
      ]
    },
    {
      "cell_type": "code",
      "metadata": {
        "colab": {
          "base_uri": "https://localhost:8080/"
        },
        "id": "BSYgB4hNuMC7",
        "outputId": "a66f3025-968d-4833-dc5a-1860f447ae9f"
      },
      "source": [
        "# Scoring the test data \n",
        "\n",
        "gs_ada.score(X_test, y_test)\n",
        "\n",
        "# Inference: performs poorly, even below the baseline data"
      ],
      "execution_count": null,
      "outputs": [
        {
          "output_type": "execute_result",
          "data": {
            "text/plain": [
              "0.6388888888888888"
            ]
          },
          "metadata": {
            "tags": []
          },
          "execution_count": 58
        }
      ]
    },
    {
      "cell_type": "code",
      "metadata": {
        "colab": {
          "base_uri": "https://localhost:8080/"
        },
        "id": "ye4dTrcNuYbw",
        "outputId": "5337381e-c37b-46c8-c520-84b3db01cef1"
      },
      "source": [
        "# Gradient Boosting Classifier Model \n",
        "\n",
        "pipe = Pipeline(steps=[('grad', GradientBoostingClassifier())])\n",
        "\n",
        "params = {'grad__n_estimators': [300], 'grad__max_depth': [3]}\n",
        "\n",
        "gs_grad = GridSearchCV(pipe, param_grid=params, cv=5, scoring='accuracy')\n",
        "\n",
        "gs_grad.fit(X_train, y_train)\n",
        "gs_grad.best_estimator_"
      ],
      "execution_count": null,
      "outputs": [
        {
          "output_type": "execute_result",
          "data": {
            "text/plain": [
              "Pipeline(memory=None,\n",
              "         steps=[('grad',\n",
              "                 GradientBoostingClassifier(ccp_alpha=0.0,\n",
              "                                            criterion='friedman_mse', init=None,\n",
              "                                            learning_rate=0.1, loss='deviance',\n",
              "                                            max_depth=3, max_features=None,\n",
              "                                            max_leaf_nodes=None,\n",
              "                                            min_impurity_decrease=0.0,\n",
              "                                            min_impurity_split=None,\n",
              "                                            min_samples_leaf=1,\n",
              "                                            min_samples_split=2,\n",
              "                                            min_weight_fraction_leaf=0.0,\n",
              "                                            n_estimators=300,\n",
              "                                            n_iter_no_change=None,\n",
              "                                            presort='deprecated',\n",
              "                                            random_state=None, subsample=1.0,\n",
              "                                            tol=0.0001, validation_fraction=0.1,\n",
              "                                            verbose=0, warm_start=False))],\n",
              "         verbose=False)"
            ]
          },
          "metadata": {
            "tags": []
          },
          "execution_count": 59
        }
      ]
    },
    {
      "cell_type": "code",
      "metadata": {
        "colab": {
          "base_uri": "https://localhost:8080/"
        },
        "id": "K8x3pbePu9xY",
        "outputId": "52e1c20f-0124-479d-8353-ceda3c869dba"
      },
      "source": [
        "# Scoring the model \n",
        "\n",
        "gs_grad.score(X_train, y_train)"
      ],
      "execution_count": null,
      "outputs": [
        {
          "output_type": "execute_result",
          "data": {
            "text/plain": [
              "0.9626168224299065"
            ]
          },
          "metadata": {
            "tags": []
          },
          "execution_count": 60
        }
      ]
    },
    {
      "cell_type": "code",
      "metadata": {
        "colab": {
          "base_uri": "https://localhost:8080/"
        },
        "id": "_yS9MrzavDEE",
        "outputId": "30e4e372-1634-44f3-faab-843ac0dd2684"
      },
      "source": [
        "# Cross validation score\n",
        "\n",
        "cross_val_score(gs_grad.best_estimator_, X, y, cv=5).mean()"
      ],
      "execution_count": null,
      "outputs": [
        {
          "output_type": "execute_result",
          "data": {
            "text/plain": [
              "0.7200241984271023"
            ]
          },
          "metadata": {
            "tags": []
          },
          "execution_count": 61
        }
      ]
    },
    {
      "cell_type": "code",
      "metadata": {
        "colab": {
          "base_uri": "https://localhost:8080/"
        },
        "id": "LRb0qD9NvLm0",
        "outputId": "a169df6e-8a1c-4fdc-ce4b-13ff2595b288"
      },
      "source": [
        "# Scoring the test data \n",
        "\n",
        "gs_grad.score(X_test, y_test)\n",
        "\n",
        "# Inference: Overfits on the test data and performs worse than the base model "
      ],
      "execution_count": null,
      "outputs": [
        {
          "output_type": "execute_result",
          "data": {
            "text/plain": [
              "0.6666666666666666"
            ]
          },
          "metadata": {
            "tags": []
          },
          "execution_count": 62
        }
      ]
    },
    {
      "cell_type": "code",
      "metadata": {
        "colab": {
          "base_uri": "https://localhost:8080/"
        },
        "id": "NCKOXEclw9dt",
        "outputId": "dd0c494d-7692-449c-be06-bb11c96b0462"
      },
      "source": [
        "# SVC Model \n",
        "\n",
        "# - Setting up the model \n",
        "\n",
        "pipe = Pipeline(steps = [(\"svc\", SVC())])\n",
        "\n",
        "# - Setting the model parameters \n",
        "\n",
        "params = {\"svc__C\": [3]}\n",
        "\n",
        "gs_svc = GridSearchCV(pipe, param_grid = params, cv = 5, scoring = \"accuracy\")\n",
        "\n",
        "gs_svc.fit(X_train, y_train)\n",
        "\n",
        "gs_svc.best_estimator_"
      ],
      "execution_count": null,
      "outputs": [
        {
          "output_type": "execute_result",
          "data": {
            "text/plain": [
              "Pipeline(memory=None,\n",
              "         steps=[('svc',\n",
              "                 SVC(C=3, break_ties=False, cache_size=200, class_weight=None,\n",
              "                     coef0=0.0, decision_function_shape='ovr', degree=3,\n",
              "                     gamma='scale', kernel='rbf', max_iter=-1,\n",
              "                     probability=False, random_state=None, shrinking=True,\n",
              "                     tol=0.001, verbose=False))],\n",
              "         verbose=False)"
            ]
          },
          "metadata": {
            "tags": []
          },
          "execution_count": 63
        }
      ]
    },
    {
      "cell_type": "code",
      "metadata": {
        "colab": {
          "base_uri": "https://localhost:8080/"
        },
        "id": "MgBAcJ53w_EJ",
        "outputId": "0110533f-499b-41c6-8b5a-f40ddf6bcd2f"
      },
      "source": [
        "# Scoring the model \n",
        "\n",
        "gs_svc.score(X_train, y_train)"
      ],
      "execution_count": null,
      "outputs": [
        {
          "output_type": "execute_result",
          "data": {
            "text/plain": [
              "0.9065420560747663"
            ]
          },
          "metadata": {
            "tags": []
          },
          "execution_count": 64
        }
      ]
    },
    {
      "cell_type": "code",
      "metadata": {
        "colab": {
          "base_uri": "https://localhost:8080/"
        },
        "id": "LMxU4hbLxC4T",
        "outputId": "cb563aa1-f2c0-4c95-c4e9-2bae4ff56df7"
      },
      "source": [
        "# Cross validation scoring \n",
        "\n",
        "cross_val_score(gs_svc.best_estimator_, X, y, cv = 5).mean()"
      ],
      "execution_count": null,
      "outputs": [
        {
          "output_type": "execute_result",
          "data": {
            "text/plain": [
              "0.7585601935874168"
            ]
          },
          "metadata": {
            "tags": []
          },
          "execution_count": 65
        }
      ]
    },
    {
      "cell_type": "code",
      "metadata": {
        "colab": {
          "base_uri": "https://localhost:8080/"
        },
        "id": "waMogs1bxEBn",
        "outputId": "e0d51c30-5869-4193-b61c-8922697a173d"
      },
      "source": [
        "# Scoring the test data split \n",
        "\n",
        "gs_svc.score(X_test, y_test)\n",
        "\n",
        "# Inference: Performs slightly better than the base model"
      ],
      "execution_count": null,
      "outputs": [
        {
          "output_type": "execute_result",
          "data": {
            "text/plain": [
              "0.75"
            ]
          },
          "metadata": {
            "tags": []
          },
          "execution_count": 66
        }
      ]
    },
    {
      "cell_type": "code",
      "metadata": {
        "colab": {
          "base_uri": "https://localhost:8080/"
        },
        "id": "eNkvhfyYxF6M",
        "outputId": "92d03329-4df1-46bf-ae82-d7477bf0ca00"
      },
      "source": [
        "# Voting Classifier Model \n",
        "\n",
        "knn_pipe = Pipeline([('ss', StandardScaler()), ('knn', KNeighborsClassifier())])\n",
        "\n",
        "vote = VotingClassifier([('rand', RandomForestClassifier()), \n",
        "                         ('grad', GradientBoostingClassifier()), \n",
        "                         ('lr', LogisticRegression()), \n",
        "                         ('tree', DecisionTreeClassifier()), \n",
        "                         ('bag', BaggingClassifier()), \n",
        "                         ('ada', AdaBoostClassifier()), \n",
        "                         ('extra', ExtraTreesClassifier()), \n",
        "                         ('knn_pipe', knn_pipe)], voting = 'soft')\n",
        "\n",
        "vote_params = {'rand__n_estimators': [150], \n",
        "               'rand__max_depth': [15], \n",
        "               'grad__n_estimators': [300], \n",
        "               'tree__max_depth': [8], \n",
        "               'bag__n_estimators': [200], \n",
        "               'ada__n_estimators': [10], \n",
        "               'extra__n_estimators': [600], \n",
        "               'knn_pipe__knn__n_neighbors': [21], \n",
        "               'lr__penalty': ['l1'], \n",
        "               'lr__C': [1], \n",
        "               'lr__solver': ['liblinear']}\n",
        "\n",
        "gs_vc = GridSearchCV(vote, param_grid=vote_params, cv=5, scoring='accuracy')\n",
        "\n",
        "gs_vc.fit(X_train, y_train)\n",
        "\n",
        "gs_vc.best_estimator_"
      ],
      "execution_count": null,
      "outputs": [
        {
          "output_type": "execute_result",
          "data": {
            "text/plain": [
              "VotingClassifier(estimators=[('rand',\n",
              "                              RandomForestClassifier(bootstrap=True,\n",
              "                                                     ccp_alpha=0.0,\n",
              "                                                     class_weight=None,\n",
              "                                                     criterion='gini',\n",
              "                                                     max_depth=15,\n",
              "                                                     max_features='auto',\n",
              "                                                     max_leaf_nodes=None,\n",
              "                                                     max_samples=None,\n",
              "                                                     min_impurity_decrease=0.0,\n",
              "                                                     min_impurity_split=None,\n",
              "                                                     min_samples_leaf=1,\n",
              "                                                     min_samples_split=2,\n",
              "                                                     min_weight_fraction_leaf=0.0,\n",
              "                                                     n_estimators=150,\n",
              "                                                     n_jobs=None,\n",
              "                                                     oob_score...\n",
              "                                                   random_state=None, verbose=0,\n",
              "                                                   warm_start=False)),\n",
              "                             ('knn_pipe',\n",
              "                              Pipeline(memory=None,\n",
              "                                       steps=[('ss',\n",
              "                                               StandardScaler(copy=True,\n",
              "                                                              with_mean=True,\n",
              "                                                              with_std=True)),\n",
              "                                              ('knn',\n",
              "                                               KNeighborsClassifier(algorithm='auto',\n",
              "                                                                    leaf_size=30,\n",
              "                                                                    metric='minkowski',\n",
              "                                                                    metric_params=None,\n",
              "                                                                    n_jobs=None,\n",
              "                                                                    n_neighbors=21,\n",
              "                                                                    p=2,\n",
              "                                                                    weights='uniform'))],\n",
              "                                       verbose=False))],\n",
              "                 flatten_transform=True, n_jobs=None, voting='soft',\n",
              "                 weights=None)"
            ]
          },
          "metadata": {
            "tags": []
          },
          "execution_count": 67
        }
      ]
    },
    {
      "cell_type": "code",
      "metadata": {
        "colab": {
          "base_uri": "https://localhost:8080/"
        },
        "id": "cKVC8FTXzUgo",
        "outputId": "3e4aacb2-27bb-46d1-d126-7db9fc188528"
      },
      "source": [
        "# Scoring the model \n",
        "\n",
        "gs_vc.score(X_train, y_train)"
      ],
      "execution_count": null,
      "outputs": [
        {
          "output_type": "execute_result",
          "data": {
            "text/plain": [
              "0.9813084112149533"
            ]
          },
          "metadata": {
            "tags": []
          },
          "execution_count": 68
        }
      ]
    },
    {
      "cell_type": "code",
      "metadata": {
        "colab": {
          "base_uri": "https://localhost:8080/"
        },
        "id": "tsYRNWGhzdoh",
        "outputId": "8d5bf7ca-ccff-404a-d79c-f5f2e7304e6e"
      },
      "source": [
        "# Cross validation score \n",
        "\n",
        "cross_val_score(gs_vc.best_estimator_, X, y, cv=5).mean()"
      ],
      "execution_count": null,
      "outputs": [
        {
          "output_type": "execute_result",
          "data": {
            "text/plain": [
              "0.7304900181488204"
            ]
          },
          "metadata": {
            "tags": []
          },
          "execution_count": 69
        }
      ]
    },
    {
      "cell_type": "code",
      "metadata": {
        "colab": {
          "base_uri": "https://localhost:8080/"
        },
        "id": "VFil5ijFznZY",
        "outputId": "ce348bb4-c836-4c98-832d-415a5e219ea6"
      },
      "source": [
        "# Scoring the test data\n",
        "\n",
        "gs_vc.score(X_test, y_test)\n",
        "\n",
        "# Inference, voting classifier performs slightly slightly worse than decision tree, random forest and bagging classifer models although those ones like the voting classifer\n",
        "# ... clearly overfit the data. \n",
        "# Also as voting classifiers are ensemble, they are difficult to interprete"
      ],
      "execution_count": null,
      "outputs": [
        {
          "output_type": "execute_result",
          "data": {
            "text/plain": [
              "0.6666666666666666"
            ]
          },
          "metadata": {
            "tags": []
          },
          "execution_count": 70
        }
      ]
    },
    {
      "cell_type": "code",
      "metadata": {
        "colab": {
          "base_uri": "https://localhost:8080/",
          "height": 410
        },
        "id": "3dNyDB3m1zn5",
        "outputId": "eeceb796-fdcb-4306-8ca9-1c6e5e1347c0"
      },
      "source": [
        "# Model evaluation \n",
        "\n",
        "# First the Voting Classifier\n",
        "\n",
        "vc_preds = gs_vc.best_estimator_.predict(X_test) # Getting the prediction from the voting classifier model \n",
        "\n",
        "def pretty_confusion_matrix(y_true, y_pred):\n",
        "  \"\"\" Creating a confusion in a nice chart.\"\"\"\n",
        "\n",
        "  # Handling the data\n",
        "  cm = confusion_matrix(y_true, y_pred)\n",
        "  labels = y_true.unique()\n",
        "  labels.sort()\n",
        "\n",
        "  # Plotting \n",
        "  sns.set(font_scale=1)\n",
        "  plt.figure(figsize=(8, 6))\n",
        "\n",
        "  chart = sns.heatmap(cm, annot=True, fmt='g', cmap='coolwarm', xticklabels=labels, yticklabels=labels)\n",
        "  chart.set_yticklabels(chart.get_yticklabels(), rotation = 0)\n",
        "  plt.title('Confusion Matrix')\n",
        "  plt.xlabel('Predicted Class')\n",
        "  plt.ylabel('True Class')\n",
        "\n",
        "pretty_confusion_matrix(y_test, vc_preds)"
      ],
      "execution_count": null,
      "outputs": [
        {
          "output_type": "display_data",
          "data": {
            "image/png": "[encoded data removed]",
            "text/plain": [
              "<Figure size 576x432 with 2 Axes>"
            ]
          },
          "metadata": {
            "tags": []
          }
        }
      ]
    },
    {
      "cell_type": "code",
      "metadata": {
        "colab": {
          "base_uri": "https://localhost:8080/"
        },
        "id": "18oGDg5iWcYF",
        "outputId": "bb04c3c6-a510-49d6-cf25-f2f411aab662"
      },
      "source": [
        "print(f'No-recurrence-events: {47/(47+4)}')\n",
        "print(f'Recurrence-events: {7/(13+7)}')"
      ],
      "execution_count": null,
      "outputs": [
        {
          "output_type": "stream",
          "text": [
            "No-recurrence-events: 0.9215686274509803\n",
            "Recurrence-events: 0.35\n"
          ],
          "name": "stdout"
        }
      ]
    },
    {
      "cell_type": "code",
      "metadata": {
        "colab": {
          "base_uri": "https://localhost:8080/",
          "height": 236
        },
        "id": "ry5N_VdoXJuO",
        "outputId": "eec77024-2258-45e0-8341-0664e7c8e566"
      },
      "source": [
        "# Checking the coefficients of the logistic regression \n",
        "\n",
        "keys = list(X_test.keys()) # Getting the list of features \n",
        "\n",
        "classes = gs_lr.best_estimator_.steps[0][1].classes_ # Getting the classes from the logistic regression \n",
        "\n",
        "coefs = gs_lr.best_estimator_.steps[0][1].coef_ # Getting the coefs from the model \n",
        "\n",
        "coefs_df = pd.DataFrame(keys, columns=['features']) # Setting up a dataframe with the featurs in one column\n",
        "\n",
        "for i, cl in enumerate(classes):\n",
        "  coefs_df[i] = coefs[i]\n",
        "\n",
        "\n"
      ],
      "execution_count": null,
      "outputs": [
        {
          "output_type": "error",
          "ename": "IndexError",
          "evalue": "ignored",
          "traceback": [
            "\u001b[0;31m---------------------------------------------------------------------------\u001b[0m",
            "\u001b[0;31mIndexError\u001b[0m                                Traceback (most recent call last)",
            "\u001b[0;32m<ipython-input-77-a28a8dd819bd>\u001b[0m in \u001b[0;36m<module>\u001b[0;34m()\u001b[0m\n\u001b[1;32m     10\u001b[0m \u001b[0;34m\u001b[0m\u001b[0m\n\u001b[1;32m     11\u001b[0m \u001b[0;32mfor\u001b[0m \u001b[0mi\u001b[0m\u001b[0;34m,\u001b[0m \u001b[0mcl\u001b[0m \u001b[0;32min\u001b[0m \u001b[0menumerate\u001b[0m\u001b[0;34m(\u001b[0m\u001b[0mclasses\u001b[0m\u001b[0;34m)\u001b[0m\u001b[0;34m:\u001b[0m\u001b[0;34m\u001b[0m\u001b[0;34m\u001b[0m\u001b[0m\n\u001b[0;32m---> 12\u001b[0;31m   \u001b[0mcoefs_df\u001b[0m\u001b[0;34m[\u001b[0m\u001b[0mi\u001b[0m\u001b[0;34m]\u001b[0m \u001b[0;34m=\u001b[0m \u001b[0mcoefs\u001b[0m\u001b[0;34m[\u001b[0m\u001b[0mi\u001b[0m\u001b[0;34m]\u001b[0m\u001b[0;34m\u001b[0m\u001b[0;34m\u001b[0m\u001b[0m\n\u001b[0m\u001b[1;32m     13\u001b[0m \u001b[0;34m\u001b[0m\u001b[0m\n\u001b[1;32m     14\u001b[0m \u001b[0;34m\u001b[0m\u001b[0m\n",
            "\u001b[0;31mIndexError\u001b[0m: index 1 is out of bounds for axis 0 with size 1"
          ]
        }
      ]
    }
  ]
}