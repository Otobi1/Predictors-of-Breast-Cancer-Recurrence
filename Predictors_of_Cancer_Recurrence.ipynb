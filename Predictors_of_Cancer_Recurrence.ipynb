{
  "nbformat": 4,
  "nbformat_minor": 0,
  "metadata": {
    "colab": {
      "name": "Predictors of Cancer Recurrence",
      "provenance": [],
      "authorship_tag": "ABX9TyPWhaZFQdSK59MkJs6StqiS",
      "include_colab_link": true
    },
    "kernelspec": {
      "name": "python3",
      "display_name": "Python 3"
    },
    "language_info": {
      "name": "python"
    }
  },
  "cells": [
    {
      "cell_type": "markdown",
      "metadata": {
        "id": "view-in-github",
        "colab_type": "text"
      },
      "source": [
        "<a href=\"https://colab.research.google.com/github/Otobi1/Predictors-of-Breast-Cancer-Recurrence/blob/master/Predictors_of_Cancer_Recurrence.ipynb\" target=\"_parent\"><img src=\"https://colab.research.google.com/assets/colab-badge.svg\" alt=\"Open In Colab\"/></a>"
      ]
    },
    {
      "cell_type": "code",
      "metadata": {
        "id": "lrq1F4oQ4zEO"
      },
      "source": [
        "import numpy as np\n",
        "import pandas as pd\n",
        "import matplotlib.pyplot as plt\n",
        "from pandas.plotting import scatter_matrix\n",
        "import seaborn as sns\n",
        "from sklearn.pipeline import Pipeline\n",
        "from sklearn.model_selection import cross_val_score, train_test_split, GridSearchCV\n",
        "from sklearn.linear_model import LogisticRegression\n",
        "from sklearn.naive_bayes import MultinomialNB, GaussianNB\n",
        "from sklearn.neighbors import KNeighborsClassifier\n",
        "from sklearn.svm import SVC\n",
        "from sklearn.ensemble import BaggingClassifier, RandomForestClassifier, ExtraTreesClassifier, GradientBoostingClassifier, AdaBoostClassifier, VotingClassifier\n",
        "from sklearn.tree import DecisionTreeClassifier\n",
        "from sklearn.metrics import confusion_matrix\n",
        "from sklearn.preprocessing import StandardScaler, MinMaxScaler, LabelBinarizer\n",
        " \n",
        "import warnings\n",
        "warnings.filterwarnings('ignore')"
      ],
      "execution_count": null,
      "outputs": []
    },
    {
      "cell_type": "code",
      "metadata": {
        "colab": {
          "base_uri": "https://localhost:8080/"
        },
        "id": "_kj750-e4j5e",
        "outputId": "30b518d3-bed1-46e2-a587-b0d6d77b73c1"
      },
      "source": [
        "!wget http://archive.ics.uci.edu/ml/machine-learning-databases/breast-cancer/breast-cancer.data"
      ],
      "execution_count": null,
      "outputs": [
        {
          "output_type": "stream",
          "text": [
            "--2021-04-23 16:00:16--  http://archive.ics.uci.edu/ml/machine-learning-databases/breast-cancer/breast-cancer.data\n",
            "Resolving archive.ics.uci.edu (archive.ics.uci.edu)... 128.195.10.252\n",
            "Connecting to archive.ics.uci.edu (archive.ics.uci.edu)|128.195.10.252|:80... connected.\n",
            "HTTP request sent, awaiting response... 200 OK\n",
            "Length: 18654 (18K) [application/x-httpd-php]\n",
            "Saving to: ‘breast-cancer.data.3’\n",
            "\n",
            "\rbreast-cancer.data.   0%[                    ]       0  --.-KB/s               \rbreast-cancer.data. 100%[===================>]  18.22K  --.-KB/s    in 0.06s   \n",
            "\n",
            "2021-04-23 16:00:16 (289 KB/s) - ‘breast-cancer.data.3’ saved [18654/18654]\n",
            "\n"
          ],
          "name": "stdout"
        }
      ]
    },
    {
      "cell_type": "code",
      "metadata": {
        "id": "pQZ5r-0o4r77"
      },
      "source": [
        "df = pd.read_csv('breast-cancer.data', sep=',', names=['RecClass', 'Age', 'Menopause',\n",
        "                                                       'TumorSize', 'InvNodes', 'NodeCaps',\n",
        "                                                       'DegMalig', 'Breast', 'Quadrant', 'Radiation']) \n",
        "\n",
        "# Shuffle data \n",
        "df = df.sample(frac = 1).reset_index(drop = True) \n",
        "\n",
        "# Make a copy of the data\n",
        "data = df.copy()"
      ],
      "execution_count": null,
      "outputs": []
    },
    {
      "cell_type": "code",
      "metadata": {
        "colab": {
          "base_uri": "https://localhost:8080/",
          "height": 202
        },
        "id": "73nSVgU35F9g",
        "outputId": "76b793d4-d280-4bb0-cfb7-1649456e8ba7"
      },
      "source": [
        "data.head()"
      ],
      "execution_count": null,
      "outputs": [
        {
          "output_type": "execute_result",
          "data": {
            "text/html": [
              "<div>\n",
              "<style scoped>\n",
              "    .dataframe tbody tr th:only-of-type {\n",
              "        vertical-align: middle;\n",
              "    }\n",
              "\n",
              "    .dataframe tbody tr th {\n",
              "        vertical-align: top;\n",
              "    }\n",
              "\n",
              "    .dataframe thead th {\n",
              "        text-align: right;\n",
              "    }\n",
              "</style>\n",
              "<table border=\"1\" class=\"dataframe\">\n",
              "  <thead>\n",
              "    <tr style=\"text-align: right;\">\n",
              "      <th></th>\n",
              "      <th>RecClass</th>\n",
              "      <th>Age</th>\n",
              "      <th>Menopause</th>\n",
              "      <th>TumorSize</th>\n",
              "      <th>InvNodes</th>\n",
              "      <th>NodeCaps</th>\n",
              "      <th>DegMalig</th>\n",
              "      <th>Breast</th>\n",
              "      <th>Quadrant</th>\n",
              "      <th>Radiation</th>\n",
              "    </tr>\n",
              "  </thead>\n",
              "  <tbody>\n",
              "    <tr>\n",
              "      <th>0</th>\n",
              "      <td>recurrence-events</td>\n",
              "      <td>70-79</td>\n",
              "      <td>ge40</td>\n",
              "      <td>15-19</td>\n",
              "      <td>9-11</td>\n",
              "      <td>?</td>\n",
              "      <td>1</td>\n",
              "      <td>left</td>\n",
              "      <td>left_low</td>\n",
              "      <td>yes</td>\n",
              "    </tr>\n",
              "    <tr>\n",
              "      <th>1</th>\n",
              "      <td>no-recurrence-events</td>\n",
              "      <td>30-39</td>\n",
              "      <td>premeno</td>\n",
              "      <td>30-34</td>\n",
              "      <td>0-2</td>\n",
              "      <td>no</td>\n",
              "      <td>3</td>\n",
              "      <td>left</td>\n",
              "      <td>left_low</td>\n",
              "      <td>no</td>\n",
              "    </tr>\n",
              "    <tr>\n",
              "      <th>2</th>\n",
              "      <td>no-recurrence-events</td>\n",
              "      <td>50-59</td>\n",
              "      <td>premeno</td>\n",
              "      <td>40-44</td>\n",
              "      <td>0-2</td>\n",
              "      <td>no</td>\n",
              "      <td>2</td>\n",
              "      <td>left</td>\n",
              "      <td>left_up</td>\n",
              "      <td>no</td>\n",
              "    </tr>\n",
              "    <tr>\n",
              "      <th>3</th>\n",
              "      <td>no-recurrence-events</td>\n",
              "      <td>50-59</td>\n",
              "      <td>premeno</td>\n",
              "      <td>30-34</td>\n",
              "      <td>0-2</td>\n",
              "      <td>no</td>\n",
              "      <td>3</td>\n",
              "      <td>left</td>\n",
              "      <td>left_low</td>\n",
              "      <td>no</td>\n",
              "    </tr>\n",
              "    <tr>\n",
              "      <th>4</th>\n",
              "      <td>no-recurrence-events</td>\n",
              "      <td>20-29</td>\n",
              "      <td>premeno</td>\n",
              "      <td>35-39</td>\n",
              "      <td>0-2</td>\n",
              "      <td>no</td>\n",
              "      <td>2</td>\n",
              "      <td>right</td>\n",
              "      <td>right_up</td>\n",
              "      <td>no</td>\n",
              "    </tr>\n",
              "  </tbody>\n",
              "</table>\n",
              "</div>"
            ],
            "text/plain": [
              "               RecClass    Age Menopause  ... Breast  Quadrant Radiation\n",
              "0     recurrence-events  70-79      ge40  ...   left  left_low       yes\n",
              "1  no-recurrence-events  30-39   premeno  ...   left  left_low        no\n",
              "2  no-recurrence-events  50-59   premeno  ...   left   left_up        no\n",
              "3  no-recurrence-events  50-59   premeno  ...   left  left_low        no\n",
              "4  no-recurrence-events  20-29   premeno  ...  right  right_up        no\n",
              "\n",
              "[5 rows x 10 columns]"
            ]
          },
          "metadata": {
            "tags": []
          },
          "execution_count": 4
        }
      ]
    },
    {
      "cell_type": "code",
      "metadata": {
        "colab": {
          "base_uri": "https://localhost:8080/"
        },
        "id": "i_pxeRJdCz6i",
        "outputId": "3d72ddef-9f13-461e-b3c9-255ffaee3b11"
      },
      "source": [
        "data.shape"
      ],
      "execution_count": null,
      "outputs": [
        {
          "output_type": "execute_result",
          "data": {
            "text/plain": [
              "(286, 10)"
            ]
          },
          "metadata": {
            "tags": []
          },
          "execution_count": 5
        }
      ]
    },
    {
      "cell_type": "code",
      "metadata": {
        "colab": {
          "base_uri": "https://localhost:8080/"
        },
        "id": "EV_CxARSC12h",
        "outputId": "19f2a85d-232d-4a50-f54f-79fa0acb724f"
      },
      "source": [
        "data.info()"
      ],
      "execution_count": null,
      "outputs": [
        {
          "output_type": "stream",
          "text": [
            "<class 'pandas.core.frame.DataFrame'>\n",
            "RangeIndex: 286 entries, 0 to 285\n",
            "Data columns (total 10 columns):\n",
            " #   Column     Non-Null Count  Dtype \n",
            "---  ------     --------------  ----- \n",
            " 0   RecClass   286 non-null    object\n",
            " 1   Age        286 non-null    object\n",
            " 2   Menopause  286 non-null    object\n",
            " 3   TumorSize  286 non-null    object\n",
            " 4   InvNodes   286 non-null    object\n",
            " 5   NodeCaps   286 non-null    object\n",
            " 6   DegMalig   286 non-null    int64 \n",
            " 7   Breast     286 non-null    object\n",
            " 8   Quadrant   286 non-null    object\n",
            " 9   Radiation  286 non-null    object\n",
            "dtypes: int64(1), object(9)\n",
            "memory usage: 22.5+ KB\n"
          ],
          "name": "stdout"
        }
      ]
    },
    {
      "cell_type": "code",
      "metadata": {
        "id": "EQefr1MAC81-",
        "colab": {
          "base_uri": "https://localhost:8080/"
        },
        "outputId": "36e91e1f-68eb-4c87-c551-ad522d8ceee9"
      },
      "source": [
        "data.keys()"
      ],
      "execution_count": null,
      "outputs": [
        {
          "output_type": "execute_result",
          "data": {
            "text/plain": [
              "Index(['RecClass', 'Age', 'Menopause', 'TumorSize', 'InvNodes', 'NodeCaps',\n",
              "       'DegMalig', 'Breast', 'Quadrant', 'Radiation'],\n",
              "      dtype='object')"
            ]
          },
          "metadata": {
            "tags": []
          },
          "execution_count": 7
        }
      ]
    },
    {
      "cell_type": "code",
      "metadata": {
        "colab": {
          "base_uri": "https://localhost:8080/"
        },
        "id": "nIyn8BntVpmC",
        "outputId": "1fd41466-30fa-4b8d-e931-9741143e4414"
      },
      "source": [
        "data['Age'].unique()"
      ],
      "execution_count": null,
      "outputs": [
        {
          "output_type": "execute_result",
          "data": {
            "text/plain": [
              "array(['70-79', '30-39', '50-59', '20-29', '40-49', '60-69'], dtype=object)"
            ]
          },
          "metadata": {
            "tags": []
          },
          "execution_count": 8
        }
      ]
    },
    {
      "cell_type": "code",
      "metadata": {
        "colab": {
          "base_uri": "https://localhost:8080/"
        },
        "id": "PR4SZ77lVyUO",
        "outputId": "73bc842c-5061-4778-d7fe-ec6866614fe8"
      },
      "source": [
        "data['Breast'].unique()"
      ],
      "execution_count": null,
      "outputs": [
        {
          "output_type": "execute_result",
          "data": {
            "text/plain": [
              "array(['left', 'right'], dtype=object)"
            ]
          },
          "metadata": {
            "tags": []
          },
          "execution_count": 9
        }
      ]
    },
    {
      "cell_type": "code",
      "metadata": {
        "colab": {
          "base_uri": "https://localhost:8080/"
        },
        "id": "Vs3lnJLFV2PB",
        "outputId": "00f5dcd3-6c9d-4ea7-caa7-5d1c6113374f"
      },
      "source": [
        "data['DegMalig'].unique()"
      ],
      "execution_count": null,
      "outputs": [
        {
          "output_type": "execute_result",
          "data": {
            "text/plain": [
              "array([1, 3, 2])"
            ]
          },
          "metadata": {
            "tags": []
          },
          "execution_count": 10
        }
      ]
    },
    {
      "cell_type": "code",
      "metadata": {
        "colab": {
          "base_uri": "https://localhost:8080/"
        },
        "id": "VWZVQ_KHV5qp",
        "outputId": "c5f0450d-bfc0-4f3f-f196-702d571b83a8"
      },
      "source": [
        "data['InvNodes'].unique()"
      ],
      "execution_count": null,
      "outputs": [
        {
          "output_type": "execute_result",
          "data": {
            "text/plain": [
              "array(['9-11', '0-2', '3-5', '6-8', '15-17', '24-26', '12-14'],\n",
              "      dtype=object)"
            ]
          },
          "metadata": {
            "tags": []
          },
          "execution_count": 11
        }
      ]
    },
    {
      "cell_type": "code",
      "metadata": {
        "colab": {
          "base_uri": "https://localhost:8080/"
        },
        "id": "jQRMvW10V-dt",
        "outputId": "15714e41-b957-4d32-86f5-f54aabead3d9"
      },
      "source": [
        "data['Menopause'].unique()"
      ],
      "execution_count": null,
      "outputs": [
        {
          "output_type": "execute_result",
          "data": {
            "text/plain": [
              "array(['ge40', 'premeno', 'lt40'], dtype=object)"
            ]
          },
          "metadata": {
            "tags": []
          },
          "execution_count": 12
        }
      ]
    },
    {
      "cell_type": "code",
      "metadata": {
        "colab": {
          "base_uri": "https://localhost:8080/"
        },
        "id": "zBBTpT_CWEZl",
        "outputId": "39494963-119e-4c12-92d0-7be3619d533c"
      },
      "source": [
        "data['NodeCaps'].unique()"
      ],
      "execution_count": null,
      "outputs": [
        {
          "output_type": "execute_result",
          "data": {
            "text/plain": [
              "array(['?', 'no', 'yes'], dtype=object)"
            ]
          },
          "metadata": {
            "tags": []
          },
          "execution_count": 13
        }
      ]
    },
    {
      "cell_type": "code",
      "metadata": {
        "colab": {
          "base_uri": "https://localhost:8080/"
        },
        "id": "6ON_9Yh3WJZd",
        "outputId": "0b2fb8d1-9cdb-4174-c36c-8822664a7270"
      },
      "source": [
        "data['Quadrant'].unique()"
      ],
      "execution_count": null,
      "outputs": [
        {
          "output_type": "execute_result",
          "data": {
            "text/plain": [
              "array(['left_low', 'left_up', 'right_up', 'central', '?', 'right_low'],\n",
              "      dtype=object)"
            ]
          },
          "metadata": {
            "tags": []
          },
          "execution_count": 14
        }
      ]
    },
    {
      "cell_type": "code",
      "metadata": {
        "colab": {
          "base_uri": "https://localhost:8080/"
        },
        "id": "iTDf2PIlWiJN",
        "outputId": "c2958841-3c28-4db2-ecb1-b18d11f059fb"
      },
      "source": [
        "data['Radiation'].unique()"
      ],
      "execution_count": null,
      "outputs": [
        {
          "output_type": "execute_result",
          "data": {
            "text/plain": [
              "array(['yes', 'no'], dtype=object)"
            ]
          },
          "metadata": {
            "tags": []
          },
          "execution_count": 15
        }
      ]
    },
    {
      "cell_type": "code",
      "metadata": {
        "colab": {
          "base_uri": "https://localhost:8080/"
        },
        "id": "FDsFueVjWn0x",
        "outputId": "4780056c-8750-4e40-ac3c-b30e7fbf8130"
      },
      "source": [
        "data['TumorSize'].unique()"
      ],
      "execution_count": null,
      "outputs": [
        {
          "output_type": "execute_result",
          "data": {
            "text/plain": [
              "array(['15-19', '30-34', '40-44', '35-39', '10-14', '20-24', '25-29',\n",
              "       '50-54', '0-4', '45-49', '5-9'], dtype=object)"
            ]
          },
          "metadata": {
            "tags": []
          },
          "execution_count": 16
        }
      ]
    },
    {
      "cell_type": "code",
      "metadata": {
        "colab": {
          "base_uri": "https://localhost:8080/"
        },
        "id": "Wq3vtQzsWtiS",
        "outputId": "b6fc2a20-d928-4c4c-9374-c6461f4a645a"
      },
      "source": [
        "data['RecClass'].unique()"
      ],
      "execution_count": null,
      "outputs": [
        {
          "output_type": "execute_result",
          "data": {
            "text/plain": [
              "array(['recurrence-events', 'no-recurrence-events'], dtype=object)"
            ]
          },
          "metadata": {
            "tags": []
          },
          "execution_count": 17
        }
      ]
    },
    {
      "cell_type": "code",
      "metadata": {
        "colab": {
          "base_uri": "https://localhost:8080/"
        },
        "id": "PolE4v9so0lB",
        "outputId": "3a3eab3f-56bf-44d9-f5f5-0f13a5d9e8cd"
      },
      "source": [
        "data.keys()"
      ],
      "execution_count": null,
      "outputs": [
        {
          "output_type": "execute_result",
          "data": {
            "text/plain": [
              "Index(['RecClass', 'Age', 'Menopause', 'TumorSize', 'InvNodes', 'NodeCaps',\n",
              "       'DegMalig', 'Breast', 'Quadrant', 'Radiation'],\n",
              "      dtype='object')"
            ]
          },
          "metadata": {
            "tags": []
          },
          "execution_count": 18
        }
      ]
    },
    {
      "cell_type": "code",
      "metadata": {
        "id": "agbfcga0p31W"
      },
      "source": [
        "# Converting the Age group variable into dummy variables and dropping the first column of the AgeGroup category\n",
        "\n",
        "# Original unique Age group categories '60-69', '40-49', '30-39', '50-59', '70-79', '20-29' (20 - 29 AgeGroup is dropped to prevent Multicollinearity)\n",
        "\n",
        "Age = pd.get_dummies(data['Age'], drop_first=True)\n",
        "\n",
        "data = data.drop('Age', axis=1)\n",
        "\n",
        "Age = Age.add_prefix('AgeGroup ')\n",
        "\n",
        "data = pd.concat([data, Age], axis=1)"
      ],
      "execution_count": null,
      "outputs": []
    },
    {
      "cell_type": "code",
      "metadata": {
        "id": "A02F3CrKpgeF"
      },
      "source": [
        "# Converting the Menopause variable into dummy variables and dropping the first column of the Menopause category\n",
        "\n",
        "# Original unique Menopause categories 'ge40', 'premeno', 'lt40' (ge40 gets dropped)\n",
        "\n",
        "Menopause = pd.get_dummies(data['Menopause'], drop_first=True)\n",
        "\n",
        "data = data.drop('Menopause', axis=1)\n",
        "\n",
        "Menopause = Menopause.add_prefix('Menopause ')\n",
        "\n",
        "data = pd.concat([data, Menopause], axis=1)"
      ],
      "execution_count": null,
      "outputs": []
    },
    {
      "cell_type": "code",
      "metadata": {
        "id": "5WlgyNBVrksZ"
      },
      "source": [
        "# Converting the TumorSize variables into dummies and droping the first column \n",
        "\n",
        "# Original unique TumorSize categories '30-34', '15-19', '25-29', '20-24', '0-4', '35-39', '10-14','40-44', '50-54', '45-49', '5-9' (0-4 dropped)\n",
        "\n",
        "TumorSize = pd.get_dummies(data['TumorSize'], drop_first=True)\n",
        "\n",
        "data = data.drop('TumorSize', axis=1)\n",
        "\n",
        "TumorSize = TumorSize.add_prefix('TumorSize ')\n",
        "\n",
        "data = pd.concat([data, TumorSize], axis=1)"
      ],
      "execution_count": null,
      "outputs": []
    },
    {
      "cell_type": "code",
      "metadata": {
        "id": "oakB4R33saKQ"
      },
      "source": [
        "# Converting the InvNodes variables into dummies and droping the first column \n",
        "\n",
        "# Original unique InvNodes categories '0-2', '12-14', '3-5', '15-17', '6-8', '9-11', '24-26' (0-2 dropped)\n",
        "\n",
        "InvNodes = pd.get_dummies(data['InvNodes'], drop_first=True)\n",
        "\n",
        "data = data.drop('InvNodes', axis=1)\n",
        "\n",
        "InvNodes = InvNodes.add_prefix('InvNodes ')\n",
        "\n",
        "data = pd.concat([data, InvNodes], axis=1)"
      ],
      "execution_count": null,
      "outputs": []
    },
    {
      "cell_type": "code",
      "metadata": {
        "id": "W1D8v6DKsykx"
      },
      "source": [
        "# Converting the NodeCaps variables into dummies and droping the first column \n",
        "\n",
        "# Original unique NodeCaps categories 'no', 'yes', '? (freaking ? dropped, nice)\n",
        "\n",
        "NodeCaps = pd.get_dummies(data['NodeCaps'], drop_first=True)\n",
        "\n",
        "data = data.drop('NodeCaps', axis=1)\n",
        "\n",
        "NodeCaps = NodeCaps.add_prefix('NodeCaps ')\n",
        "\n",
        "data = pd.concat([data, NodeCaps], axis=1)"
      ],
      "execution_count": null,
      "outputs": []
    },
    {
      "cell_type": "code",
      "metadata": {
        "id": "Osy1hhQHtnni"
      },
      "source": [
        "# Converting the Breast variables into dummies and droping the first column \n",
        "\n",
        "# Original unique Breast categories 'left', 'right', (left dropped)\n",
        "\n",
        "Breast = pd.get_dummies(data['Breast'], drop_first=True)\n",
        "\n",
        "data = data.drop('Breast', axis=1)\n",
        "\n",
        "Breast = Breast.add_prefix('Breast ')\n",
        "\n",
        "data = pd.concat([data, Breast], axis=1)"
      ],
      "execution_count": null,
      "outputs": []
    },
    {
      "cell_type": "code",
      "metadata": {
        "id": "ETw6D1iduJgL"
      },
      "source": [
        "# Converting the Quadrant variables into dummies and droping the first column \n",
        "\n",
        "# Original unique Quadrant categories 'left_low', 'right_low', 'central', 'left_up', 'right_up', '?' (freaking ? dropped again, nice)\n",
        "\n",
        "Quadrant = pd.get_dummies(data['Quadrant'], drop_first=True)\n",
        "\n",
        "data = data.drop('Quadrant', axis=1)\n",
        "\n",
        "Quadrant = Quadrant.add_prefix('Quadrant ')\n",
        "\n",
        "data = pd.concat([data, Quadrant], axis=1)"
      ],
      "execution_count": null,
      "outputs": []
    },
    {
      "cell_type": "code",
      "metadata": {
        "id": "UjLmgjQWu0Iu"
      },
      "source": [
        "# Converting the Radiation variables into dummies and droping the first column \n",
        "\n",
        "# Original unique Radiation categories 'no', 'yes' (no dropped)\n",
        "\n",
        "Radiation = pd.get_dummies(data['Radiation'], drop_first=True)\n",
        "\n",
        "data = data.drop('Radiation', axis=1)\n",
        "\n",
        "Radiation = Radiation.add_prefix('Radiation ')\n",
        "\n",
        "data = pd.concat([data, Radiation], axis=1)"
      ],
      "execution_count": null,
      "outputs": []
    },
    {
      "cell_type": "code",
      "metadata": {
        "colab": {
          "base_uri": "https://localhost:8080/"
        },
        "id": "Do-ZC27pytf4",
        "outputId": "fdbb5eac-173c-4b20-95f9-749513d5c188"
      },
      "source": [
        "data.info()"
      ],
      "execution_count": null,
      "outputs": [
        {
          "output_type": "stream",
          "text": [
            "<class 'pandas.core.frame.DataFrame'>\n",
            "RangeIndex: 286 entries, 0 to 285\n",
            "Data columns (total 34 columns):\n",
            " #   Column              Non-Null Count  Dtype \n",
            "---  ------              --------------  ----- \n",
            " 0   RecClass            286 non-null    object\n",
            " 1   DegMalig            286 non-null    int64 \n",
            " 2   AgeGroup 30-39      286 non-null    uint8 \n",
            " 3   AgeGroup 40-49      286 non-null    uint8 \n",
            " 4   AgeGroup 50-59      286 non-null    uint8 \n",
            " 5   AgeGroup 60-69      286 non-null    uint8 \n",
            " 6   AgeGroup 70-79      286 non-null    uint8 \n",
            " 7   Menopause lt40      286 non-null    uint8 \n",
            " 8   Menopause premeno   286 non-null    uint8 \n",
            " 9   TumorSize 10-14     286 non-null    uint8 \n",
            " 10  TumorSize 15-19     286 non-null    uint8 \n",
            " 11  TumorSize 20-24     286 non-null    uint8 \n",
            " 12  TumorSize 25-29     286 non-null    uint8 \n",
            " 13  TumorSize 30-34     286 non-null    uint8 \n",
            " 14  TumorSize 35-39     286 non-null    uint8 \n",
            " 15  TumorSize 40-44     286 non-null    uint8 \n",
            " 16  TumorSize 45-49     286 non-null    uint8 \n",
            " 17  TumorSize 5-9       286 non-null    uint8 \n",
            " 18  TumorSize 50-54     286 non-null    uint8 \n",
            " 19  InvNodes 12-14      286 non-null    uint8 \n",
            " 20  InvNodes 15-17      286 non-null    uint8 \n",
            " 21  InvNodes 24-26      286 non-null    uint8 \n",
            " 22  InvNodes 3-5        286 non-null    uint8 \n",
            " 23  InvNodes 6-8        286 non-null    uint8 \n",
            " 24  InvNodes 9-11       286 non-null    uint8 \n",
            " 25  NodeCaps no         286 non-null    uint8 \n",
            " 26  NodeCaps yes        286 non-null    uint8 \n",
            " 27  Breast right        286 non-null    uint8 \n",
            " 28  Quadrant central    286 non-null    uint8 \n",
            " 29  Quadrant left_low   286 non-null    uint8 \n",
            " 30  Quadrant left_up    286 non-null    uint8 \n",
            " 31  Quadrant right_low  286 non-null    uint8 \n",
            " 32  Quadrant right_up   286 non-null    uint8 \n",
            " 33  Radiation yes       286 non-null    uint8 \n",
            "dtypes: int64(1), object(1), uint8(32)\n",
            "memory usage: 13.5+ KB\n"
          ],
          "name": "stdout"
        }
      ]
    },
    {
      "cell_type": "code",
      "metadata": {
        "colab": {
          "base_uri": "https://localhost:8080/"
        },
        "id": "D7WQSpMrzJbX",
        "outputId": "341bc2e7-90f6-4e48-82c1-6857501f12f8"
      },
      "source": [
        "data.shape"
      ],
      "execution_count": null,
      "outputs": [
        {
          "output_type": "execute_result",
          "data": {
            "text/plain": [
              "(286, 34)"
            ]
          },
          "metadata": {
            "tags": []
          },
          "execution_count": 28
        }
      ]
    },
    {
      "cell_type": "code",
      "metadata": {
        "id": "eRvSEE5uzakh"
      },
      "source": [
        "X = data._get_numeric_data()\n",
        "y = data['RecClass']\n",
        "\n",
        "X_train, X_test, y_train, y_test = train_test_split(X, y, stratify = y, random_state = 1919)"
      ],
      "execution_count": null,
      "outputs": []
    },
    {
      "cell_type": "code",
      "metadata": {
        "colab": {
          "base_uri": "https://localhost:8080/"
        },
        "id": "4PI3QPeO0sVb",
        "outputId": "e44c8811-dab4-4148-88f0-3f778469ee38"
      },
      "source": [
        "# Base Model \n",
        "\n",
        "y.value_counts(normalize=True)\n",
        "\n",
        "# A base model that predicts no recurrence events would be correct 70% of the time"
      ],
      "execution_count": null,
      "outputs": [
        {
          "output_type": "execute_result",
          "data": {
            "text/plain": [
              "no-recurrence-events    0.702797\n",
              "recurrence-events       0.297203\n",
              "Name: RecClass, dtype: float64"
            ]
          },
          "metadata": {
            "tags": []
          },
          "execution_count": 30
        }
      ]
    },
    {
      "cell_type": "code",
      "metadata": {
        "colab": {
          "base_uri": "https://localhost:8080/"
        },
        "id": "zhxFs1Au1Bz6",
        "outputId": "81c25f48-a909-4137-b428-bd32f128e5f6"
      },
      "source": [
        "pipe = Pipeline(steps=[('lr', LogisticRegression())]) # Running a pipeline of logistic regression \n",
        "\n",
        "params = {'lr__penalty': ['l1'], \n",
        "          'lr__C': [1], \n",
        "          'lr__solver': ['liblinear']} # setting parameters\n",
        "\n",
        "gs_lr = GridSearchCV(pipe, param_grid=params, cv=5,scoring='accuracy', n_jobs=-2)\n",
        "\n",
        "gs_lr.fit(X_train, y_train)\n",
        "gs_lr.best_estimator_"
      ],
      "execution_count": null,
      "outputs": [
        {
          "output_type": "execute_result",
          "data": {
            "text/plain": [
              "Pipeline(memory=None,\n",
              "         steps=[('lr',\n",
              "                 LogisticRegression(C=1, class_weight=None, dual=False,\n",
              "                                    fit_intercept=True, intercept_scaling=1,\n",
              "                                    l1_ratio=None, max_iter=100,\n",
              "                                    multi_class='auto', n_jobs=None,\n",
              "                                    penalty='l1', random_state=None,\n",
              "                                    solver='liblinear', tol=0.0001, verbose=0,\n",
              "                                    warm_start=False))],\n",
              "         verbose=False)"
            ]
          },
          "metadata": {
            "tags": []
          },
          "execution_count": 31
        }
      ]
    },
    {
      "cell_type": "code",
      "metadata": {
        "colab": {
          "base_uri": "https://localhost:8080/"
        },
        "id": "s2bGKSjR2hgo",
        "outputId": "8592f2b9-7499-4108-99cd-74c80facf98b"
      },
      "source": [
        "# Scoring the model \n",
        "\n",
        "gs_lr.score(X_train, y_train)"
      ],
      "execution_count": null,
      "outputs": [
        {
          "output_type": "execute_result",
          "data": {
            "text/plain": [
              "0.7616822429906542"
            ]
          },
          "metadata": {
            "tags": []
          },
          "execution_count": 32
        }
      ]
    },
    {
      "cell_type": "code",
      "metadata": {
        "colab": {
          "base_uri": "https://localhost:8080/"
        },
        "id": "-40ZHZar2qTS",
        "outputId": "a854ee13-389b-4dab-95b8-5585324a2af1"
      },
      "source": [
        "# Cross validation scoring \n",
        "\n",
        "cross_val_score(gs_lr.best_estimator_, X, y, cv=5).mean()"
      ],
      "execution_count": null,
      "outputs": [
        {
          "output_type": "execute_result",
          "data": {
            "text/plain": [
              "0.6924379915305505"
            ]
          },
          "metadata": {
            "tags": []
          },
          "execution_count": 33
        }
      ]
    },
    {
      "cell_type": "code",
      "metadata": {
        "colab": {
          "base_uri": "https://localhost:8080/"
        },
        "id": "3x-d2n0n2ziE",
        "outputId": "4a3b206f-0c29-4205-ccf7-7dc8d5a829bf"
      },
      "source": [
        "# Scoring the test data\n",
        "\n",
        "gs_lr.score(X_test, y_test)\n",
        "\n",
        "# Inference: this model performs worse than the base model"
      ],
      "execution_count": null,
      "outputs": [
        {
          "output_type": "execute_result",
          "data": {
            "text/plain": [
              "0.7083333333333334"
            ]
          },
          "metadata": {
            "tags": []
          },
          "execution_count": 34
        }
      ]
    },
    {
      "cell_type": "code",
      "metadata": {
        "colab": {
          "base_uri": "https://localhost:8080/"
        },
        "id": "1BscprHx3BZz",
        "outputId": "ea0c2f65-7247-4b15-c88f-79e54b081440"
      },
      "source": [
        "pipe = Pipeline(steps=[('sc', StandardScaler()), ('knn', KNeighborsClassifier())])\n",
        "\n",
        "params = {'knn__n_neighbors': [21], 'knn__p': [1]}\n",
        "\n",
        "gs_knn = GridSearchCV(pipe, param_grid=params, cv=5, scoring='accuracy')\n",
        "\n",
        "gs_knn.fit(X_train, y_train)\n",
        "gs_knn.best_estimator_"
      ],
      "execution_count": null,
      "outputs": [
        {
          "output_type": "execute_result",
          "data": {
            "text/plain": [
              "Pipeline(memory=None,\n",
              "         steps=[('sc',\n",
              "                 StandardScaler(copy=True, with_mean=True, with_std=True)),\n",
              "                ('knn',\n",
              "                 KNeighborsClassifier(algorithm='auto', leaf_size=30,\n",
              "                                      metric='minkowski', metric_params=None,\n",
              "                                      n_jobs=None, n_neighbors=21, p=1,\n",
              "                                      weights='uniform'))],\n",
              "         verbose=False)"
            ]
          },
          "metadata": {
            "tags": []
          },
          "execution_count": 35
        }
      ]
    },
    {
      "cell_type": "code",
      "metadata": {
        "colab": {
          "base_uri": "https://localhost:8080/"
        },
        "id": "HDwycDA23ugA",
        "outputId": "71aad184-e21c-4758-e339-fb930c1ab219"
      },
      "source": [
        "# Scoring the model \n",
        "\n",
        "gs_knn.score(X_train, y_train)"
      ],
      "execution_count": null,
      "outputs": [
        {
          "output_type": "execute_result",
          "data": {
            "text/plain": [
              "0.705607476635514"
            ]
          },
          "metadata": {
            "tags": []
          },
          "execution_count": 36
        }
      ]
    },
    {
      "cell_type": "code",
      "metadata": {
        "colab": {
          "base_uri": "https://localhost:8080/"
        },
        "id": "NAInQYxF34Qt",
        "outputId": "91097182-8c02-4331-f3e3-63b57b13b4af"
      },
      "source": [
        "# Cross validation scoring \n",
        "\n",
        "cross_val_score(gs_knn.best_estimator_, X, y, cv=5).mean()"
      ],
      "execution_count": null,
      "outputs": [
        {
          "output_type": "execute_result",
          "data": {
            "text/plain": [
              "0.7062915910465819"
            ]
          },
          "metadata": {
            "tags": []
          },
          "execution_count": 37
        }
      ]
    },
    {
      "cell_type": "code",
      "metadata": {
        "colab": {
          "base_uri": "https://localhost:8080/"
        },
        "id": "fwazwYLj4BRt",
        "outputId": "c4e10833-ee8f-409b-ed92-70292c649bb4"
      },
      "source": [
        "# Scoring the test data\n",
        "\n",
        "gs_knn.score(X_test, y_test)\n",
        "\n",
        "# Inference: a bit worse than the base model"
      ],
      "execution_count": null,
      "outputs": [
        {
          "output_type": "execute_result",
          "data": {
            "text/plain": [
              "0.7222222222222222"
            ]
          },
          "metadata": {
            "tags": []
          },
          "execution_count": 38
        }
      ]
    },
    {
      "cell_type": "code",
      "metadata": {
        "colab": {
          "base_uri": "https://localhost:8080/"
        },
        "id": "GR7NgTAc4SYD",
        "outputId": "be03edb3-99fa-41a6-90f4-1f356ad75161"
      },
      "source": [
        "# Decision Tree Classifer\n",
        "\n",
        "pipe = Pipeline(steps=[('tree', DecisionTreeClassifier())])\n",
        "\n",
        "params = {'tree__max_depth': [6, 8]}\n",
        "\n",
        "gs_tree = GridSearchCV(pipe, param_grid=params, cv=5, scoring='accuracy')\n",
        "\n",
        "gs_tree.fit(X_train, y_train)\n",
        "gs_tree.best_estimator_"
      ],
      "execution_count": null,
      "outputs": [
        {
          "output_type": "execute_result",
          "data": {
            "text/plain": [
              "Pipeline(memory=None,\n",
              "         steps=[('tree',\n",
              "                 DecisionTreeClassifier(ccp_alpha=0.0, class_weight=None,\n",
              "                                        criterion='gini', max_depth=6,\n",
              "                                        max_features=None, max_leaf_nodes=None,\n",
              "                                        min_impurity_decrease=0.0,\n",
              "                                        min_impurity_split=None,\n",
              "                                        min_samples_leaf=1, min_samples_split=2,\n",
              "                                        min_weight_fraction_leaf=0.0,\n",
              "                                        presort='deprecated', random_state=None,\n",
              "                                        splitter='best'))],\n",
              "         verbose=False)"
            ]
          },
          "metadata": {
            "tags": []
          },
          "execution_count": 39
        }
      ]
    },
    {
      "cell_type": "code",
      "metadata": {
        "colab": {
          "base_uri": "https://localhost:8080/"
        },
        "id": "ljKnbBa-m5_E",
        "outputId": "a072be11-3906-4165-90ce-d3f71488d9ab"
      },
      "source": [
        "# Scoring the model \n",
        "\n",
        "gs_tree.score(X_train, y_train)"
      ],
      "execution_count": null,
      "outputs": [
        {
          "output_type": "execute_result",
          "data": {
            "text/plain": [
              "0.8785046728971962"
            ]
          },
          "metadata": {
            "tags": []
          },
          "execution_count": 40
        }
      ]
    },
    {
      "cell_type": "code",
      "metadata": {
        "colab": {
          "base_uri": "https://localhost:8080/"
        },
        "id": "xNfWgLdMnBCA",
        "outputId": "6ad18086-5624-404b-90c0-fd17eb124528"
      },
      "source": [
        "# Cross validation score \n",
        "\n",
        "cross_val_score(gs_tree.best_estimator_, X, y, cv=5).mean()"
      ],
      "execution_count": null,
      "outputs": [
        {
          "output_type": "execute_result",
          "data": {
            "text/plain": [
              "0.7239564428312161"
            ]
          },
          "metadata": {
            "tags": []
          },
          "execution_count": 41
        }
      ]
    },
    {
      "cell_type": "code",
      "metadata": {
        "colab": {
          "base_uri": "https://localhost:8080/"
        },
        "id": "jk3LRC8rnJIr",
        "outputId": "ad731fa2-ea29-4502-c806-1007a6695230"
      },
      "source": [
        "# Scoring the test data split \n",
        "\n",
        "gs_tree.score(X_test, y_test)\n",
        "\n",
        "# Inference: the decision tree model performs better than the other models  and slightly better than the base model"
      ],
      "execution_count": null,
      "outputs": [
        {
          "output_type": "execute_result",
          "data": {
            "text/plain": [
              "0.7222222222222222"
            ]
          },
          "metadata": {
            "tags": []
          },
          "execution_count": 42
        }
      ]
    },
    {
      "cell_type": "code",
      "metadata": {
        "colab": {
          "base_uri": "https://localhost:8080/"
        },
        "id": "nVvrt5ynnbJj",
        "outputId": "495a1524-c1a7-4fb0-8de7-e93e3b85f3b9"
      },
      "source": [
        "# Bagging Classifier Model \n",
        "\n",
        "pipe = Pipeline(steps = [('bag', BaggingClassifier())])\n",
        "\n",
        "params = {'bag__n_estimators': [200]}\n",
        "\n",
        "gs_bag = GridSearchCV(pipe, param_grid=params, cv=5, scoring='accuracy')\n",
        "\n",
        "gs_bag.fit(X_train, y_train)\n",
        "gs_bag.best_estimator_"
      ],
      "execution_count": null,
      "outputs": [
        {
          "output_type": "execute_result",
          "data": {
            "text/plain": [
              "Pipeline(memory=None,\n",
              "         steps=[('bag',\n",
              "                 BaggingClassifier(base_estimator=None, bootstrap=True,\n",
              "                                   bootstrap_features=False, max_features=1.0,\n",
              "                                   max_samples=1.0, n_estimators=200,\n",
              "                                   n_jobs=None, oob_score=False,\n",
              "                                   random_state=None, verbose=0,\n",
              "                                   warm_start=False))],\n",
              "         verbose=False)"
            ]
          },
          "metadata": {
            "tags": []
          },
          "execution_count": 43
        }
      ]
    },
    {
      "cell_type": "code",
      "metadata": {
        "colab": {
          "base_uri": "https://localhost:8080/"
        },
        "id": "TyuucCLrn7W8",
        "outputId": "840e8a86-0a26-4ac7-d45f-139726f46f14"
      },
      "source": [
        "# Scoring the model \n",
        "gs_bag.score(X_train, y_train)"
      ],
      "execution_count": null,
      "outputs": [
        {
          "output_type": "execute_result",
          "data": {
            "text/plain": [
              "0.9906542056074766"
            ]
          },
          "metadata": {
            "tags": []
          },
          "execution_count": 44
        }
      ]
    },
    {
      "cell_type": "code",
      "metadata": {
        "colab": {
          "base_uri": "https://localhost:8080/"
        },
        "id": "MGiCt22OpFJW",
        "outputId": "e1ed0430-1cc0-4cdc-95ff-2b6059e85d63"
      },
      "source": [
        "# Cross validation score \n",
        "\n",
        "cross_val_score(gs_bag.best_estimator_, X, y, cv = 5).mean()"
      ],
      "execution_count": null,
      "outputs": [
        {
          "output_type": "execute_result",
          "data": {
            "text/plain": [
              "0.6889897156684814"
            ]
          },
          "metadata": {
            "tags": []
          },
          "execution_count": 45
        }
      ]
    },
    {
      "cell_type": "code",
      "metadata": {
        "colab": {
          "base_uri": "https://localhost:8080/"
        },
        "id": "eA85tGEIpRjG",
        "outputId": "8c38cead-704e-483d-ca28-8c8fe8e1e0be"
      },
      "source": [
        "# Scoring the test data\n",
        "\n",
        "gs_bag.score(X_test, y_test)\n",
        "\n",
        "# Inference: Better performance than other model but the training score seems significantly overfit "
      ],
      "execution_count": null,
      "outputs": [
        {
          "output_type": "execute_result",
          "data": {
            "text/plain": [
              "0.6944444444444444"
            ]
          },
          "metadata": {
            "tags": []
          },
          "execution_count": 46
        }
      ]
    },
    {
      "cell_type": "code",
      "metadata": {
        "colab": {
          "base_uri": "https://localhost:8080/"
        },
        "id": "B3kueioQp7It",
        "outputId": "95389cc8-6290-4388-b450-a2c704cc400f"
      },
      "source": [
        "# Random Forest Model \n",
        "\n",
        "pipe = Pipeline(steps=[('forest', RandomForestClassifier())])\n",
        "\n",
        "params = {'forest__n_estimators': [150], 'forest__max_depth':[15]}\n",
        "\n",
        "gs_forest = GridSearchCV(pipe, param_grid=params, cv=5, scoring='accuracy')\n",
        "\n",
        "gs_forest.fit(X_train, y_train)\n",
        "\n",
        "gs_forest.best_estimator_"
      ],
      "execution_count": null,
      "outputs": [
        {
          "output_type": "execute_result",
          "data": {
            "text/plain": [
              "Pipeline(memory=None,\n",
              "         steps=[('forest',\n",
              "                 RandomForestClassifier(bootstrap=True, ccp_alpha=0.0,\n",
              "                                        class_weight=None, criterion='gini',\n",
              "                                        max_depth=15, max_features='auto',\n",
              "                                        max_leaf_nodes=None, max_samples=None,\n",
              "                                        min_impurity_decrease=0.0,\n",
              "                                        min_impurity_split=None,\n",
              "                                        min_samples_leaf=1, min_samples_split=2,\n",
              "                                        min_weight_fraction_leaf=0.0,\n",
              "                                        n_estimators=150, n_jobs=None,\n",
              "                                        oob_score=False, random_state=None,\n",
              "                                        verbose=0, warm_start=False))],\n",
              "         verbose=False)"
            ]
          },
          "metadata": {
            "tags": []
          },
          "execution_count": 47
        }
      ]
    },
    {
      "cell_type": "code",
      "metadata": {
        "colab": {
          "base_uri": "https://localhost:8080/"
        },
        "id": "b_7JNuF1qeFk",
        "outputId": "2924d34f-4084-42e9-a043-6ab9fa4d42f4"
      },
      "source": [
        "# Scoring the model \n",
        "gs_forest.score(X_train, y_train)"
      ],
      "execution_count": null,
      "outputs": [
        {
          "output_type": "execute_result",
          "data": {
            "text/plain": [
              "0.9906542056074766"
            ]
          },
          "metadata": {
            "tags": []
          },
          "execution_count": 48
        }
      ]
    },
    {
      "cell_type": "code",
      "metadata": {
        "colab": {
          "base_uri": "https://localhost:8080/"
        },
        "id": "4jls7SrlqyBE",
        "outputId": "47ea0db2-8eb3-4e39-962d-7a21f0e3890f"
      },
      "source": [
        "# Cross validation score \n",
        "\n",
        "cross_val_score(gs_forest.best_estimator_, X, y, cv=5).mean()"
      ],
      "execution_count": null,
      "outputs": [
        {
          "output_type": "execute_result",
          "data": {
            "text/plain": [
              "0.7100423472474289"
            ]
          },
          "metadata": {
            "tags": []
          },
          "execution_count": 49
        }
      ]
    },
    {
      "cell_type": "code",
      "metadata": {
        "colab": {
          "base_uri": "https://localhost:8080/"
        },
        "id": "Pr9iC0Roq9IC",
        "outputId": "914b0e56-7658-491c-ff1b-cf2304ba4afb"
      },
      "source": [
        "# Scoring the test data \n",
        "\n",
        "gs_forest.score(X_test, y_test)\n",
        "\n",
        "# Inference: Same test performance as the bagging classifier, equally overfit on the training data"
      ],
      "execution_count": null,
      "outputs": [
        {
          "output_type": "execute_result",
          "data": {
            "text/plain": [
              "0.6666666666666666"
            ]
          },
          "metadata": {
            "tags": []
          },
          "execution_count": 50
        }
      ]
    },
    {
      "cell_type": "code",
      "metadata": {
        "colab": {
          "base_uri": "https://localhost:8080/"
        },
        "id": "0gBlnJbSrO9M",
        "outputId": "475692fd-5efd-42b7-98c2-4d8b5dcb2b57"
      },
      "source": [
        "# Extra Trees Model \n",
        "\n",
        "pipe = Pipeline(steps=[('extra', ExtraTreesClassifier())])\n",
        "\n",
        "params = {'extra__n_estimators': [600], 'extra__max_depth': [None]}\n",
        "\n",
        "gs_extra = GridSearchCV(pipe, param_grid=params, cv=5, scoring='accuracy')\n",
        "\n",
        "gs_extra.fit(X_train, y_train)\n",
        "gs_extra.best_estimator_"
      ],
      "execution_count": null,
      "outputs": [
        {
          "output_type": "execute_result",
          "data": {
            "text/plain": [
              "Pipeline(memory=None,\n",
              "         steps=[('extra',\n",
              "                 ExtraTreesClassifier(bootstrap=False, ccp_alpha=0.0,\n",
              "                                      class_weight=None, criterion='gini',\n",
              "                                      max_depth=None, max_features='auto',\n",
              "                                      max_leaf_nodes=None, max_samples=None,\n",
              "                                      min_impurity_decrease=0.0,\n",
              "                                      min_impurity_split=None,\n",
              "                                      min_samples_leaf=1, min_samples_split=2,\n",
              "                                      min_weight_fraction_leaf=0.0,\n",
              "                                      n_estimators=600, n_jobs=None,\n",
              "                                      oob_score=False, random_state=None,\n",
              "                                      verbose=0, warm_start=False))],\n",
              "         verbose=False)"
            ]
          },
          "metadata": {
            "tags": []
          },
          "execution_count": 51
        }
      ]
    },
    {
      "cell_type": "code",
      "metadata": {
        "colab": {
          "base_uri": "https://localhost:8080/"
        },
        "id": "Kdsl7rJzsHQn",
        "outputId": "2f54f456-5ac2-445b-c18e-bb4090ebceea"
      },
      "source": [
        "# Scoring the model \n",
        "\n",
        "gs_extra.score(X_train, y_train)"
      ],
      "execution_count": null,
      "outputs": [
        {
          "output_type": "execute_result",
          "data": {
            "text/plain": [
              "0.9906542056074766"
            ]
          },
          "metadata": {
            "tags": []
          },
          "execution_count": 52
        }
      ]
    },
    {
      "cell_type": "code",
      "metadata": {
        "colab": {
          "base_uri": "https://localhost:8080/"
        },
        "id": "l4x_wfTzsNVm",
        "outputId": "fb64dcee-b58d-4736-ba06-d7a5708bb4c5"
      },
      "source": [
        "# Cross validation scoring \n",
        "\n",
        "cross_val_score(gs_extra.best_estimator_, X, y, cv=5).mean()"
      ],
      "execution_count": null,
      "outputs": [
        {
          "output_type": "execute_result",
          "data": {
            "text/plain": [
              "0.71016333938294"
            ]
          },
          "metadata": {
            "tags": []
          },
          "execution_count": 53
        }
      ]
    },
    {
      "cell_type": "code",
      "metadata": {
        "colab": {
          "base_uri": "https://localhost:8080/"
        },
        "id": "W1GDUh59sWl4",
        "outputId": "b3c29b2f-0077-4295-fa6f-6e58ab0bfe12"
      },
      "source": [
        "# Scoring the test data \n",
        "\n",
        "gs_extra.score(X_test, y_test)\n",
        "\n",
        "# Inference: Similar to the bagging classifier and random forest model in performance, overfit on training and reasonable performance on test data"
      ],
      "execution_count": null,
      "outputs": [
        {
          "output_type": "execute_result",
          "data": {
            "text/plain": [
              "0.7083333333333334"
            ]
          },
          "metadata": {
            "tags": []
          },
          "execution_count": 54
        }
      ]
    },
    {
      "cell_type": "code",
      "metadata": {
        "colab": {
          "base_uri": "https://localhost:8080/"
        },
        "id": "cjym4-9PsgYq",
        "outputId": "16f970b1-dda7-4088-b2ed-ca5432fb3a08"
      },
      "source": [
        "# AdaBoost Model \n",
        "\n",
        "pipe = Pipeline(steps=[('ada', AdaBoostClassifier())])\n",
        "\n",
        "params = {'ada__n_estimators': [10]}\n",
        "\n",
        "gs_ada = GridSearchCV(pipe, param_grid=params, cv=5, scoring='accuracy')\n",
        "\n",
        "gs_ada.fit(X_train, y_train)\n",
        "\n",
        "gs_ada.best_estimator_"
      ],
      "execution_count": null,
      "outputs": [
        {
          "output_type": "execute_result",
          "data": {
            "text/plain": [
              "Pipeline(memory=None,\n",
              "         steps=[('ada',\n",
              "                 AdaBoostClassifier(algorithm='SAMME.R', base_estimator=None,\n",
              "                                    learning_rate=1.0, n_estimators=10,\n",
              "                                    random_state=None))],\n",
              "         verbose=False)"
            ]
          },
          "metadata": {
            "tags": []
          },
          "execution_count": 55
        }
      ]
    },
    {
      "cell_type": "code",
      "metadata": {
        "colab": {
          "base_uri": "https://localhost:8080/"
        },
        "id": "TtZxMS-5tRAu",
        "outputId": "4b0a755d-cdf8-4efc-bd61-57fbc1901582"
      },
      "source": [
        "# Scoring the model \n",
        "\n",
        "gs_ada.score(X_train, y_train)"
      ],
      "execution_count": null,
      "outputs": [
        {
          "output_type": "execute_result",
          "data": {
            "text/plain": [
              "0.780373831775701"
            ]
          },
          "metadata": {
            "tags": []
          },
          "execution_count": 56
        }
      ]
    },
    {
      "cell_type": "code",
      "metadata": {
        "colab": {
          "base_uri": "https://localhost:8080/"
        },
        "id": "H7PhpPznuE7U",
        "outputId": "1e0b71d3-efbd-4561-b0d0-04980bc8bded"
      },
      "source": [
        "# Cross Validation score\n",
        "\n",
        "cross_val_score(gs_ada.best_estimator_, X, y, cv=5).mean()"
      ],
      "execution_count": null,
      "outputs": [
        {
          "output_type": "execute_result",
          "data": {
            "text/plain": [
              "0.6923169993950393"
            ]
          },
          "metadata": {
            "tags": []
          },
          "execution_count": 57
        }
      ]
    },
    {
      "cell_type": "code",
      "metadata": {
        "colab": {
          "base_uri": "https://localhost:8080/"
        },
        "id": "BSYgB4hNuMC7",
        "outputId": "fd963fb4-42fc-4224-a1a3-76cae095d314"
      },
      "source": [
        "# Scoring the test data \n",
        "\n",
        "gs_ada.score(X_test, y_test)\n",
        "\n",
        "# Inference: performs poorly, even below the baseline data"
      ],
      "execution_count": null,
      "outputs": [
        {
          "output_type": "execute_result",
          "data": {
            "text/plain": [
              "0.7083333333333334"
            ]
          },
          "metadata": {
            "tags": []
          },
          "execution_count": 58
        }
      ]
    },
    {
      "cell_type": "code",
      "metadata": {
        "colab": {
          "base_uri": "https://localhost:8080/"
        },
        "id": "ye4dTrcNuYbw",
        "outputId": "8aa676ff-56e9-4504-912d-808c6d7a8702"
      },
      "source": [
        "# Gradient Boosting Classifier Model \n",
        "\n",
        "pipe = Pipeline(steps=[('grad', GradientBoostingClassifier())])\n",
        "\n",
        "params = {'grad__n_estimators': [300], 'grad__max_depth': [3]}\n",
        "\n",
        "gs_grad = GridSearchCV(pipe, param_grid=params, cv=5, scoring='accuracy')\n",
        "\n",
        "gs_grad.fit(X_train, y_train)\n",
        "gs_grad.best_estimator_"
      ],
      "execution_count": null,
      "outputs": [
        {
          "output_type": "execute_result",
          "data": {
            "text/plain": [
              "Pipeline(memory=None,\n",
              "         steps=[('grad',\n",
              "                 GradientBoostingClassifier(ccp_alpha=0.0,\n",
              "                                            criterion='friedman_mse', init=None,\n",
              "                                            learning_rate=0.1, loss='deviance',\n",
              "                                            max_depth=3, max_features=None,\n",
              "                                            max_leaf_nodes=None,\n",
              "                                            min_impurity_decrease=0.0,\n",
              "                                            min_impurity_split=None,\n",
              "                                            min_samples_leaf=1,\n",
              "                                            min_samples_split=2,\n",
              "                                            min_weight_fraction_leaf=0.0,\n",
              "                                            n_estimators=300,\n",
              "                                            n_iter_no_change=None,\n",
              "                                            presort='deprecated',\n",
              "                                            random_state=None, subsample=1.0,\n",
              "                                            tol=0.0001, validation_fraction=0.1,\n",
              "                                            verbose=0, warm_start=False))],\n",
              "         verbose=False)"
            ]
          },
          "metadata": {
            "tags": []
          },
          "execution_count": 59
        }
      ]
    },
    {
      "cell_type": "code",
      "metadata": {
        "colab": {
          "base_uri": "https://localhost:8080/"
        },
        "id": "K8x3pbePu9xY",
        "outputId": "aa885c77-7046-4572-8e70-2deb293a1679"
      },
      "source": [
        "# Scoring the model \n",
        "\n",
        "gs_grad.score(X_train, y_train)"
      ],
      "execution_count": null,
      "outputs": [
        {
          "output_type": "execute_result",
          "data": {
            "text/plain": [
              "0.9766355140186916"
            ]
          },
          "metadata": {
            "tags": []
          },
          "execution_count": 60
        }
      ]
    },
    {
      "cell_type": "code",
      "metadata": {
        "colab": {
          "base_uri": "https://localhost:8080/"
        },
        "id": "_yS9MrzavDEE",
        "outputId": "137f1f00-260c-449c-f665-375e52758924"
      },
      "source": [
        "# Cross validation score\n",
        "\n",
        "cross_val_score(gs_grad.best_estimator_, X, y, cv=5).mean()"
      ],
      "execution_count": null,
      "outputs": [
        {
          "output_type": "execute_result",
          "data": {
            "text/plain": [
              "0.685480943738657"
            ]
          },
          "metadata": {
            "tags": []
          },
          "execution_count": 61
        }
      ]
    },
    {
      "cell_type": "code",
      "metadata": {
        "colab": {
          "base_uri": "https://localhost:8080/"
        },
        "id": "LRb0qD9NvLm0",
        "outputId": "70638aa4-58a9-4276-d7b8-94970cb4f031"
      },
      "source": [
        "# Scoring the test data \n",
        "\n",
        "gs_grad.score(X_test, y_test)\n",
        "\n",
        "# Inference: Overfits on the test data and performs worse than the base model "
      ],
      "execution_count": null,
      "outputs": [
        {
          "output_type": "execute_result",
          "data": {
            "text/plain": [
              "0.6944444444444444"
            ]
          },
          "metadata": {
            "tags": []
          },
          "execution_count": 62
        }
      ]
    },
    {
      "cell_type": "code",
      "metadata": {
        "colab": {
          "base_uri": "https://localhost:8080/"
        },
        "id": "NCKOXEclw9dt",
        "outputId": "b37ce098-fa73-4970-f906-a1d63f46e92e"
      },
      "source": [
        "# SVC Model \n",
        "\n",
        "# - Setting up the model \n",
        "\n",
        "pipe = Pipeline(steps = [(\"svc\", SVC())])\n",
        "\n",
        "# - Setting the model parameters \n",
        "\n",
        "params = {\"svc__C\": [3]}\n",
        "\n",
        "gs_svc = GridSearchCV(pipe, param_grid = params, cv = 5, scoring = \"accuracy\")\n",
        "\n",
        "gs_svc.fit(X_train, y_train)\n",
        "\n",
        "gs_svc.best_estimator_"
      ],
      "execution_count": null,
      "outputs": [
        {
          "output_type": "execute_result",
          "data": {
            "text/plain": [
              "Pipeline(memory=None,\n",
              "         steps=[('svc',\n",
              "                 SVC(C=3, break_ties=False, cache_size=200, class_weight=None,\n",
              "                     coef0=0.0, decision_function_shape='ovr', degree=3,\n",
              "                     gamma='scale', kernel='rbf', max_iter=-1,\n",
              "                     probability=False, random_state=None, shrinking=True,\n",
              "                     tol=0.001, verbose=False))],\n",
              "         verbose=False)"
            ]
          },
          "metadata": {
            "tags": []
          },
          "execution_count": 63
        }
      ]
    },
    {
      "cell_type": "code",
      "metadata": {
        "colab": {
          "base_uri": "https://localhost:8080/"
        },
        "id": "MgBAcJ53w_EJ",
        "outputId": "8a113cf8-fef6-4704-e817-8e74a2a97e84"
      },
      "source": [
        "# Scoring the model \n",
        "\n",
        "gs_svc.score(X_train, y_train)"
      ],
      "execution_count": null,
      "outputs": [
        {
          "output_type": "execute_result",
          "data": {
            "text/plain": [
              "0.8738317757009346"
            ]
          },
          "metadata": {
            "tags": []
          },
          "execution_count": 64
        }
      ]
    },
    {
      "cell_type": "code",
      "metadata": {
        "colab": {
          "base_uri": "https://localhost:8080/"
        },
        "id": "LMxU4hbLxC4T",
        "outputId": "3b5f5a3f-3111-420d-8229-5bee663e623e"
      },
      "source": [
        "# Cross validation scoring \n",
        "\n",
        "cross_val_score(gs_svc.best_estimator_, X, y, cv = 5).mean()"
      ],
      "execution_count": null,
      "outputs": [
        {
          "output_type": "execute_result",
          "data": {
            "text/plain": [
              "0.7239564428312161"
            ]
          },
          "metadata": {
            "tags": []
          },
          "execution_count": 65
        }
      ]
    },
    {
      "cell_type": "code",
      "metadata": {
        "colab": {
          "base_uri": "https://localhost:8080/"
        },
        "id": "waMogs1bxEBn",
        "outputId": "0bc66af4-0948-4dca-fe07-765956f359bb"
      },
      "source": [
        "# Scoring the test data split \n",
        "\n",
        "gs_svc.score(X_test, y_test)\n",
        "\n",
        "# Inference: Performs slightly better than the base model"
      ],
      "execution_count": null,
      "outputs": [
        {
          "output_type": "execute_result",
          "data": {
            "text/plain": [
              "0.6944444444444444"
            ]
          },
          "metadata": {
            "tags": []
          },
          "execution_count": 66
        }
      ]
    },
    {
      "cell_type": "code",
      "metadata": {
        "colab": {
          "base_uri": "https://localhost:8080/"
        },
        "id": "eNkvhfyYxF6M",
        "outputId": "40bf76b0-ba82-4326-991d-d0e7262b31e4"
      },
      "source": [
        "# Voting Classifier Model \n",
        "\n",
        "knn_pipe = Pipeline([('ss', StandardScaler()), ('knn', KNeighborsClassifier())])\n",
        "\n",
        "vote = VotingClassifier([('rand', RandomForestClassifier()), \n",
        "                         ('grad', GradientBoostingClassifier()), \n",
        "                         ('lr', LogisticRegression()), \n",
        "                         ('tree', DecisionTreeClassifier()), \n",
        "                         ('bag', BaggingClassifier()), \n",
        "                         ('ada', AdaBoostClassifier()), \n",
        "                         ('extra', ExtraTreesClassifier()), \n",
        "                         ('knn_pipe', knn_pipe)], voting = 'soft')\n",
        "\n",
        "vote_params = {'rand__n_estimators': [150], \n",
        "               'rand__max_depth': [15], \n",
        "               'grad__n_estimators': [300], \n",
        "               'tree__max_depth': [8], \n",
        "               'bag__n_estimators': [200], \n",
        "               'ada__n_estimators': [10], \n",
        "               'extra__n_estimators': [600], \n",
        "               'knn_pipe__knn__n_neighbors': [21], \n",
        "               'lr__penalty': ['l1'], \n",
        "               'lr__C': [1], \n",
        "               'lr__solver': ['liblinear']}\n",
        "\n",
        "gs_vc = GridSearchCV(vote, param_grid=vote_params, cv=5, scoring='accuracy')\n",
        "\n",
        "gs_vc.fit(X_train, y_train)\n",
        "\n",
        "gs_vc.best_estimator_"
      ],
      "execution_count": null,
      "outputs": [
        {
          "output_type": "execute_result",
          "data": {
            "text/plain": [
              "VotingClassifier(estimators=[('rand',\n",
              "                              RandomForestClassifier(bootstrap=True,\n",
              "                                                     ccp_alpha=0.0,\n",
              "                                                     class_weight=None,\n",
              "                                                     criterion='gini',\n",
              "                                                     max_depth=15,\n",
              "                                                     max_features='auto',\n",
              "                                                     max_leaf_nodes=None,\n",
              "                                                     max_samples=None,\n",
              "                                                     min_impurity_decrease=0.0,\n",
              "                                                     min_impurity_split=None,\n",
              "                                                     min_samples_leaf=1,\n",
              "                                                     min_samples_split=2,\n",
              "                                                     min_weight_fraction_leaf=0.0,\n",
              "                                                     n_estimators=150,\n",
              "                                                     n_jobs=None,\n",
              "                                                     oob_score...\n",
              "                                                   random_state=None, verbose=0,\n",
              "                                                   warm_start=False)),\n",
              "                             ('knn_pipe',\n",
              "                              Pipeline(memory=None,\n",
              "                                       steps=[('ss',\n",
              "                                               StandardScaler(copy=True,\n",
              "                                                              with_mean=True,\n",
              "                                                              with_std=True)),\n",
              "                                              ('knn',\n",
              "                                               KNeighborsClassifier(algorithm='auto',\n",
              "                                                                    leaf_size=30,\n",
              "                                                                    metric='minkowski',\n",
              "                                                                    metric_params=None,\n",
              "                                                                    n_jobs=None,\n",
              "                                                                    n_neighbors=21,\n",
              "                                                                    p=2,\n",
              "                                                                    weights='uniform'))],\n",
              "                                       verbose=False))],\n",
              "                 flatten_transform=True, n_jobs=None, voting='soft',\n",
              "                 weights=None)"
            ]
          },
          "metadata": {
            "tags": []
          },
          "execution_count": 67
        }
      ]
    },
    {
      "cell_type": "code",
      "metadata": {
        "colab": {
          "base_uri": "https://localhost:8080/"
        },
        "id": "cKVC8FTXzUgo",
        "outputId": "92eaa229-3246-4032-ec7d-bc4771accdf3"
      },
      "source": [
        "# Scoring the model \n",
        "\n",
        "gs_vc.score(X_train, y_train)"
      ],
      "execution_count": null,
      "outputs": [
        {
          "output_type": "execute_result",
          "data": {
            "text/plain": [
              "0.9672897196261683"
            ]
          },
          "metadata": {
            "tags": []
          },
          "execution_count": 68
        }
      ]
    },
    {
      "cell_type": "code",
      "metadata": {
        "colab": {
          "base_uri": "https://localhost:8080/"
        },
        "id": "tsYRNWGhzdoh",
        "outputId": "e4341fd3-1386-432d-d284-7330d6e47a43"
      },
      "source": [
        "# Cross validation score \n",
        "\n",
        "cross_val_score(gs_vc.best_estimator_, X, y, cv=5).mean()"
      ],
      "execution_count": null,
      "outputs": [
        {
          "output_type": "execute_result",
          "data": {
            "text/plain": [
              "0.7240169388989715"
            ]
          },
          "metadata": {
            "tags": []
          },
          "execution_count": 69
        }
      ]
    },
    {
      "cell_type": "code",
      "metadata": {
        "colab": {
          "base_uri": "https://localhost:8080/"
        },
        "id": "VFil5ijFznZY",
        "outputId": "aeb1546e-ea79-45a2-b17e-dabcc8e3305d"
      },
      "source": [
        "# Scoring the test data\n",
        "\n",
        "gs_vc.score(X_test, y_test)\n",
        "\n",
        "# Inference, voting classifier performs slightly slightly worse than decision tree, random forest and bagging classifer models although those ones like the voting classifer\n",
        "# ... clearly overfit the data. \n",
        "# Also as voting classifiers are ensemble, they are difficult to interprete"
      ],
      "execution_count": null,
      "outputs": [
        {
          "output_type": "execute_result",
          "data": {
            "text/plain": [
              "0.6805555555555556"
            ]
          },
          "metadata": {
            "tags": []
          },
          "execution_count": 70
        }
      ]
    },
    {
      "cell_type": "code",
      "metadata": {
        "colab": {
          "base_uri": "https://localhost:8080/",
          "height": 410
        },
        "id": "3dNyDB3m1zn5",
        "outputId": "9864150c-a2e3-44d5-d6d5-a9f04f47d871"
      },
      "source": [
        "# Model evaluation \n",
        "\n",
        "# First the Voting Classifier\n",
        "\n",
        "vc_preds = gs_vc.best_estimator_.predict(X_test) # Getting the prediction from the voting classifier model \n",
        "\n",
        "def pretty_confusion_matrix(y_true, y_pred):\n",
        "  \"\"\" Creating a confusion in a nice chart.\"\"\"\n",
        "\n",
        "  # Handling the data\n",
        "  cm = confusion_matrix(y_true, y_pred)\n",
        "  labels = y_true.unique()\n",
        "  labels.sort()\n",
        "\n",
        "  # Plotting \n",
        "  sns.set(font_scale=1)\n",
        "  plt.figure(figsize=(8, 6))\n",
        "\n",
        "  chart = sns.heatmap(cm, annot=True, fmt='g', cmap='coolwarm', xticklabels=labels, yticklabels=labels)\n",
        "  chart.set_yticklabels(chart.get_yticklabels(), rotation = 0)\n",
        "  plt.title('Confusion Matrix')\n",
        "  plt.xlabel('Predicted Class')\n",
        "  plt.ylabel('True Class')\n",
        "\n",
        "pretty_confusion_matrix(y_test, vc_preds)"
      ],
      "execution_count": null,
      "outputs": [
        {
          "output_type": "display_data",
          "data": {
            "image/png": "[encoded data removed]",
            "text/plain": [
              "<Figure size 576x432 with 2 Axes>"
            ]
          },
          "metadata": {
            "tags": []
          }
        }
      ]
    },
    {
      "cell_type": "code",
      "metadata": {
        "colab": {
          "base_uri": "https://localhost:8080/"
        },
        "id": "18oGDg5iWcYF",
        "outputId": "f50ff80a-56d4-4240-b920-9b97cfab22f3"
      },
      "source": [
        "print(f'No-recurrence-events: {47/(47+4)}')\n",
        "print(f'Recurrence-events: {7/(13+7)}')"
      ],
      "execution_count": null,
      "outputs": [
        {
          "output_type": "stream",
          "text": [
            "No-recurrence-events: 0.9215686274509803\n",
            "Recurrence-events: 0.35\n"
          ],
          "name": "stdout"
        }
      ]
    },
    {
      "cell_type": "code",
      "metadata": {
        "colab": {
          "base_uri": "https://localhost:8080/",
          "height": 236
        },
        "id": "ry5N_VdoXJuO",
        "outputId": "2c774446-b321-40e8-ce8b-f26c8515f331"
      },
      "source": [
        "# Checking the coefficients of the logistic regression \n",
        "\n",
        "keys = list(X_test.keys()) # Getting the list of features \n",
        "\n",
        "classes = gs_lr.best_estimator_.steps[0][1].classes_ # Getting the classes from the logistic regression \n",
        "\n",
        "coefs = gs_lr.best_estimator_.steps[0][1].coef_ # Getting the coefs from the model \n",
        "\n",
        "coefs_df = pd.DataFrame(keys, columns=['features']) # Setting up a dataframe with the featurs in one column\n",
        "\n",
        "for i, cl in enumerate(classes):\n",
        "  coefs_df[cl] = coefs[i]\n",
        "\n",
        "\n"
      ],
      "execution_count": null,
      "outputs": [
        {
          "output_type": "error",
          "ename": "IndexError",
          "evalue": "ignored",
          "traceback": [
            "\u001b[0;31m---------------------------------------------------------------------------\u001b[0m",
            "\u001b[0;31mIndexError\u001b[0m                                Traceback (most recent call last)",
            "\u001b[0;32m<ipython-input-76-879d26b1d5fc>\u001b[0m in \u001b[0;36m<module>\u001b[0;34m()\u001b[0m\n\u001b[1;32m     10\u001b[0m \u001b[0;34m\u001b[0m\u001b[0m\n\u001b[1;32m     11\u001b[0m \u001b[0;32mfor\u001b[0m \u001b[0mi\u001b[0m\u001b[0;34m,\u001b[0m \u001b[0mcl\u001b[0m \u001b[0;32min\u001b[0m \u001b[0menumerate\u001b[0m\u001b[0;34m(\u001b[0m\u001b[0mclasses\u001b[0m\u001b[0;34m)\u001b[0m\u001b[0;34m:\u001b[0m\u001b[0;34m\u001b[0m\u001b[0;34m\u001b[0m\u001b[0m\n\u001b[0;32m---> 12\u001b[0;31m   \u001b[0mcoefs_df\u001b[0m\u001b[0;34m[\u001b[0m\u001b[0mcl\u001b[0m\u001b[0;34m]\u001b[0m \u001b[0;34m=\u001b[0m \u001b[0mcoefs\u001b[0m\u001b[0;34m[\u001b[0m\u001b[0mi\u001b[0m\u001b[0;34m]\u001b[0m\u001b[0;34m\u001b[0m\u001b[0;34m\u001b[0m\u001b[0m\n\u001b[0m\u001b[1;32m     13\u001b[0m \u001b[0;34m\u001b[0m\u001b[0m\n\u001b[1;32m     14\u001b[0m \u001b[0;34m\u001b[0m\u001b[0m\n",
            "\u001b[0;31mIndexError\u001b[0m: index 1 is out of bounds for axis 0 with size 1"
          ]
        }
      ]
    }
  ]
}